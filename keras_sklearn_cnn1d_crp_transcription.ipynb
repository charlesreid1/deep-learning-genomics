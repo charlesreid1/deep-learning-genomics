{
  "nbformat": 4,
  "nbformat_minor": 0,
  "metadata": {
    "colab": {
      "name": "Copy of keras-sklearn_cnn1d_crp_transcription.ipynb",
      "version": "0.3.2",
      "provenance": [],
      "collapsed_sections": [],
      "include_colab_link": true
    },
    "language_info": {
      "codemirror_mode": {
        "name": "ipython",
        "version": 3
      },
      "file_extension": ".py",
      "mimetype": "text/x-python",
      "name": "python",
      "nbconvert_exporter": "python",
      "pygments_lexer": "ipython3",
      "version": "3.6.7"
    },
    "kernelspec": {
      "display_name": "Python 3",
      "language": "python",
      "name": "python3"
    },
    "accelerator": "GPU"
  },
  "cells": [
    {
      "cell_type": "markdown",
      "metadata": {
        "id": "view-in-github",
        "colab_type": "text"
      },
      "source": [
        "<a href=\"https://colab.research.google.com/github/charlesreid1/deep-learning-genomics/blob/master/keras_sklearn_cnn1d_crp_transcription.ipynb\" target=\"_parent\"><img src=\"https://colab.research.google.com/assets/colab-badge.svg\" alt=\"Open In Colab\"/></a>"
      ]
    },
    {
      "cell_type": "markdown",
      "metadata": {
        "colab_type": "text",
        "id": "JHAuCkB-Dyvx"
      },
      "source": [
        "# Keras and Sklearn for Deep Learning Genomics\n",
        "\n",
        "## Using Convolutional Neural Nets to Predict CRP Transcription Factor Binding Sites\n",
        "\n",
        "This notebook continues with the example from a prior notebook, namely, the problem of predicting transcription factor binding sites in DNA. This type of neural network operates on 1D sequence data (DNA nucleotides), so we build a 1D convolutional neural network to perform classification of DNA (is this string of nucleotides a transcription factor binding site or not).\n",
        "\n",
        "We construct a 1D CNN model in this notebook, then perform manual cross-validation on each model and assemble statistics to assess the cross-validation results."
      ]
    },
    {
      "cell_type": "markdown",
      "metadata": {
        "colab_type": "text",
        "id": "bAl5v_fEEz8Y"
      },
      "source": [
        "## Import Libraries"
      ]
    },
    {
      "cell_type": "code",
      "metadata": {
        "colab_type": "code",
        "id": "62b9p_xalIIH",
        "outputId": "1bfd68fb-c51b-4ce0-8f95-5d26a2ce99e1",
        "colab": {
          "base_uri": "https://localhost:8080/",
          "height": 34
        }
      },
      "source": [
        "import tensorflow as tf\n",
        "tf.test.gpu_device_name()"
      ],
      "execution_count": 0,
      "outputs": [
        {
          "output_type": "execute_result",
          "data": {
            "text/plain": [
              "'/device:GPU:0'"
            ]
          },
          "metadata": {
            "tags": []
          },
          "execution_count": 1
        }
      ]
    },
    {
      "cell_type": "code",
      "metadata": {
        "colab_type": "code",
        "id": "4gsmsa71Dv1k",
        "colab": {}
      },
      "source": [
        "import os\n",
        "import math\n",
        "import numpy as np\n",
        "import numpy\n",
        "import matplotlib.pyplot as plt\n",
        "import seaborn as sns\n",
        "import pandas\n",
        "import joblib"
      ],
      "execution_count": 0,
      "outputs": []
    },
    {
      "cell_type": "code",
      "metadata": {
        "id": "pDKOca34psQB",
        "colab_type": "code",
        "colab": {}
      },
      "source": [
        "from scipy import interp"
      ],
      "execution_count": 0,
      "outputs": []
    },
    {
      "cell_type": "code",
      "metadata": {
        "id": "elpTR8POpsQT",
        "colab_type": "code",
        "outputId": "c6d7856d-df3e-4f03-80e0-14222bb23b05",
        "colab": {
          "base_uri": "https://localhost:8080/",
          "height": 191
        }
      },
      "source": [
        "!pip install screed"
      ],
      "execution_count": 0,
      "outputs": [
        {
          "output_type": "stream",
          "text": [
            "Collecting screed\n",
            "\u001b[?25l  Downloading https://files.pythonhosted.org/packages/e7/7a/b5f16a9861ac497b346b2f5205e8dc35103eeba1e6fdffa114c47e0b35ba/screed-1.0.tar.gz (130kB)\n",
            "\r\u001b[K     |██▌                             | 10kB 20.0MB/s eta 0:00:01\r\u001b[K     |█████                           | 20kB 1.7MB/s eta 0:00:01\r\u001b[K     |███████▌                        | 30kB 2.5MB/s eta 0:00:01\r\u001b[K     |██████████                      | 40kB 1.7MB/s eta 0:00:01\r\u001b[K     |████████████▌                   | 51kB 2.1MB/s eta 0:00:01\r\u001b[K     |███████████████                 | 61kB 2.5MB/s eta 0:00:01\r\u001b[K     |█████████████████▋              | 71kB 2.8MB/s eta 0:00:01\r\u001b[K     |████████████████████            | 81kB 3.2MB/s eta 0:00:01\r\u001b[K     |██████████████████████▋         | 92kB 3.6MB/s eta 0:00:01\r\u001b[K     |█████████████████████████       | 102kB 2.7MB/s eta 0:00:01\r\u001b[K     |███████████████████████████▋    | 112kB 2.7MB/s eta 0:00:01\r\u001b[K     |██████████████████████████████▏ | 122kB 2.7MB/s eta 0:00:01\r\u001b[K     |████████████████████████████████| 133kB 2.7MB/s \n",
            "\u001b[?25hRequirement already satisfied: bz2file in /usr/local/lib/python3.6/dist-packages (from screed) (0.98)\n",
            "Building wheels for collected packages: screed\n",
            "  Building wheel for screed (setup.py) ... \u001b[?25l\u001b[?25hdone\n",
            "  Stored in directory: /root/.cache/pip/wheels/1f/92/73/33877695d382ad5f342aaa8c8835d83895766b39bf6989f350\n",
            "Successfully built screed\n",
            "Installing collected packages: screed\n",
            "Successfully installed screed-1.0\n"
          ],
          "name": "stdout"
        }
      ]
    },
    {
      "cell_type": "code",
      "metadata": {
        "colab_type": "code",
        "id": "1fhj_7ZaEPij",
        "colab": {}
      },
      "source": [
        "# sklearn\n",
        "from sklearn.utils.class_weight import compute_class_weight\n",
        "from sklearn.utils.class_weight import compute_sample_weight\n",
        "from sklearn.metrics import roc_curve, auc, roc_auc_score\n",
        "from sklearn.metrics import confusion_matrix\n",
        "from sklearn.utils.multiclass import unique_labels\n",
        "from sklearn.model_selection import cross_val_score\n",
        "from sklearn.preprocessing import LabelEncoder\n",
        "from sklearn.model_selection import StratifiedKFold, StratifiedShuffleSplit\n",
        "from sklearn.preprocessing import StandardScaler\n",
        "from sklearn.pipeline import Pipeline"
      ],
      "execution_count": 0,
      "outputs": []
    },
    {
      "cell_type": "code",
      "metadata": {
        "colab_type": "code",
        "id": "VN-bDjOlEQDB",
        "outputId": "37c69bf3-90bc-4986-c408-f656c63c12cf",
        "colab": {
          "base_uri": "https://localhost:8080/",
          "height": 34
        }
      },
      "source": [
        "from keras.wrappers.scikit_learn import KerasClassifier\n",
        "from keras.models import Sequential, Model\n",
        "from keras.layers import Flatten, Embedding, Dense, Dropout, Input, Concatenate\n",
        "from keras.layers import Conv1D, GlobalAveragePooling1D, MaxPooling1D\n",
        "from keras.layers import LeakyReLU\n",
        "import keras"
      ],
      "execution_count": 0,
      "outputs": [
        {
          "output_type": "stream",
          "text": [
            "Using TensorFlow backend.\n"
          ],
          "name": "stderr"
        }
      ]
    },
    {
      "cell_type": "code",
      "metadata": {
        "colab_type": "code",
        "id": "aHkVmJYCEZfT",
        "colab": {}
      },
      "source": [
        "seed = 1729\n",
        "numpy.random.seed(seed)"
      ],
      "execution_count": 0,
      "outputs": []
    },
    {
      "cell_type": "markdown",
      "metadata": {
        "colab_type": "text",
        "id": "ZeBqpoaQcPvk"
      },
      "source": [
        "## Define Useful Keras Metrics"
      ]
    },
    {
      "cell_type": "code",
      "metadata": {
        "colab_type": "code",
        "id": "UpthrvB3cST3",
        "colab": {}
      },
      "source": [
        "# via https://github.com/keras-team/keras/issues/6507#issuecomment-322857357\n",
        "\n",
        "import keras.backend as K\n",
        "\n",
        "def precision(y_true, y_pred):\n",
        "    # Calculate the precision\n",
        "    # clip ensures we're between 0 and 1\n",
        "    # round ensures we're either 0 or 1\n",
        "    true_positives = K.sum(K.round(K.clip(y_true * y_pred, 0, 1)))\n",
        "    predicted_positives = K.sum(K.round(K.clip(y_pred, 0, 1)))\n",
        "    precision = true_positives / (predicted_positives + K.epsilon())\n",
        "    return precision\n",
        "\n",
        "def recall(y_true, y_pred):\n",
        "    # Calculate the recall\n",
        "    # clip ensures we're between 0 and 1\n",
        "    # round ensures we're either 0 or 1\n",
        "    true_positives = K.sum(K.round(K.clip(y_true * y_pred, 0, 1)))\n",
        "    possible_positives = K.sum(K.round(K.clip(y_true, 0, 1)))\n",
        "    recall = true_positives / (possible_positives + K.epsilon())\n",
        "    return recall\n",
        "\n",
        "def fvalue(y_true, y_pred):\n",
        "    # Calculate the F-value\n",
        "    # If there are no true positives, fix the F score at 0 like sklearn.\n",
        "    if K.sum(K.round(K.clip(y_true, 0, 1))) == 0:\n",
        "        return 0\n",
        "    p = precision(y_true,y_pred)\n",
        "    r = recall(y_true,y_pred)\n",
        "    fvalue = (2 * p * r)/(p + r + K.epsilon())\n",
        "    return fvalue\n"
      ],
      "execution_count": 0,
      "outputs": []
    },
    {
      "cell_type": "markdown",
      "metadata": {
        "colab_type": "text",
        "id": "Yf8K8vRzEx3q"
      },
      "source": [
        "## Load Dataset"
      ]
    },
    {
      "cell_type": "code",
      "metadata": {
        "colab_type": "code",
        "id": "nxrwVCIBEsNJ",
        "outputId": "047e7e10-7de4-4c9d-f41e-366565b9ca06",
        "colab": {
          "base_uri": "https://localhost:8080/",
          "height": 208
        }
      },
      "source": [
        "# grab binding sites from http://arep.med.harvard.edu/ecoli_matrices/dat/crp.dat\n",
        "!wget http://arep.med.harvard.edu/ecoli_matrices/dat/crp.dat"
      ],
      "execution_count": 0,
      "outputs": [
        {
          "output_type": "stream",
          "text": [
            "--2019-07-01 17:49:41--  http://arep.med.harvard.edu/ecoli_matrices/dat/crp.dat\n",
            "Resolving arep.med.harvard.edu (arep.med.harvard.edu)... 134.174.150.51\n",
            "Connecting to arep.med.harvard.edu (arep.med.harvard.edu)|134.174.150.51|:80... connected.\n",
            "HTTP request sent, awaiting response... 200 OK\n",
            "Length: 1966 (1.9K) [text/plain]\n",
            "Saving to: ‘crp.dat’\n",
            "\n",
            "\rcrp.dat               0%[                    ]       0  --.-KB/s               \rcrp.dat             100%[===================>]   1.92K  --.-KB/s    in 0s      \n",
            "\n",
            "2019-07-01 17:49:41 (412 MB/s) - ‘crp.dat’ saved [1966/1966]\n",
            "\n"
          ],
          "name": "stdout"
        }
      ]
    },
    {
      "cell_type": "code",
      "metadata": {
        "colab_type": "code",
        "id": "sEUJnDsbEtQa",
        "outputId": "8f845034-45e9-469e-e928-44ae726327d2",
        "colab": {
          "base_uri": "https://localhost:8080/",
          "height": 69
        }
      },
      "source": [
        "# grab ecoli k12 genome\n",
        "!curl ftp://ftp.ncbi.nlm.nih.gov/genomes/all/GCF/003/627/195/GCF_003627195.1_ASM362719v1/GCF_003627195.1_ASM362719v1_genomic.fna.gz -o ecoli-k12.fna.gz"
      ],
      "execution_count": 0,
      "outputs": [
        {
          "output_type": "stream",
          "text": [
            "  % Total    % Received % Xferd  Average Speed   Time    Time     Time  Current\n",
            "                                 Dload  Upload   Total   Spent    Left  Speed\n",
            "100 1347k  100 1347k    0     0  1935k      0 --:--:-- --:--:-- --:--:-- 1932k\n"
          ],
          "name": "stdout"
        }
      ]
    },
    {
      "cell_type": "code",
      "metadata": {
        "colab_type": "code",
        "id": "KPileDhWZyu5",
        "colab": {}
      },
      "source": [
        "import screed\n",
        "ecoli_genome = list(screed.open('ecoli-k12.fna.gz'))[0].sequence\n",
        "crp_sites = list(screed.open('crp.dat'))"
      ],
      "execution_count": 0,
      "outputs": []
    },
    {
      "cell_type": "code",
      "metadata": {
        "id": "E_jzasLmpsSi",
        "colab_type": "code",
        "colab": {}
      },
      "source": [
        "ecoli_genome = ecoli_genome.upper()"
      ],
      "execution_count": 0,
      "outputs": []
    },
    {
      "cell_type": "markdown",
      "metadata": {
        "id": "mqxVC-UZpsSn",
        "colab_type": "text"
      },
      "source": [
        "## Explore Dataset\n",
        "\n",
        "Below we explore some details of the CRP transcription factor binding site data set that we'll use to train and test the model."
      ]
    },
    {
      "cell_type": "code",
      "metadata": {
        "id": "o-WrQvFQpsSo",
        "colab_type": "code",
        "outputId": "e2361db0-ae77-4936-ed2e-c78edbb134b2",
        "colab": {
          "base_uri": "https://localhost:8080/",
          "height": 52
        }
      },
      "source": [
        "print(\"E. coli genome size: {:,}\".format(len(ecoli_genome)))\n",
        "print(\"Number of CRP binding sites: {:,}\".format(len(crp_sites)))"
      ],
      "execution_count": 0,
      "outputs": [
        {
          "output_type": "stream",
          "text": [
            "E. coli genome size: 4,639,694\n",
            "Number of CRP binding sites: 49\n"
          ],
          "name": "stdout"
        }
      ]
    },
    {
      "cell_type": "code",
      "metadata": {
        "id": "FIkR_DMzpsSz",
        "colab_type": "code",
        "outputId": "77563914-0495-4846-9c13-82a7ea358a27",
        "colab": {
          "base_uri": "https://localhost:8080/",
          "height": 34
        }
      },
      "source": [
        "print(type(ecoli_genome))"
      ],
      "execution_count": 0,
      "outputs": [
        {
          "output_type": "stream",
          "text": [
            "<class 'str'>\n"
          ],
          "name": "stdout"
        }
      ]
    },
    {
      "cell_type": "markdown",
      "metadata": {
        "id": "HLVLPkgvpsS7",
        "colab_type": "text"
      },
      "source": [
        "The E. coli genome is a ~4 MB string and we have 49 known binding sites. We have only \"known positive\" binding sites; we have no \"known negative\" binding sites. In other words, we cannot say that a particular sequence of DNA is _definitely not_ a binding site, we can only say that it is _probably not_ a binding site."
      ]
    },
    {
      "cell_type": "code",
      "metadata": {
        "id": "vFKifmbUpsS9",
        "colab_type": "code",
        "outputId": "4982c42f-3457-4728-f71a-91656c2119a7",
        "colab": {
          "base_uri": "https://localhost:8080/",
          "height": 104
        }
      },
      "source": [
        "crp_sites[:5]"
      ],
      "execution_count": 0,
      "outputs": [
        {
          "output_type": "execute_result",
          "data": {
            "text/plain": [
              "[{'name': 'aldB -18->4', 'sequence': 'attcgtgatagctgtcgtaaag', 'description': ''},\n",
              " {'name': 'ansB 103->125', 'sequence': 'ttttgttacctgcctctaactt', 'description': ''},\n",
              " {'name': 'araB1 109->131', 'sequence': 'aagtgtgacgccgtgcaaataa', 'description': ''},\n",
              " {'name': 'araB2 147->169', 'sequence': 'tgccgtgattatagacactttt', 'description': ''},\n",
              " {'name': 'cdd 1 107->129', 'sequence': 'atttgcgatgcgtcgcgcattt', 'description': ''}]"
            ]
          },
          "metadata": {
            "tags": []
          },
          "execution_count": 16
        }
      ]
    },
    {
      "cell_type": "markdown",
      "metadata": {
        "id": "NEmv-S5MpsTC",
        "colab_type": "text"
      },
      "source": [
        "### Generating Positive Examples"
      ]
    },
    {
      "cell_type": "code",
      "metadata": {
        "id": "4JjrMKCKpsTE",
        "colab_type": "code",
        "outputId": "299f3577-5a91-4379-8286-de9d4551c70b",
        "colab": {
          "base_uri": "https://localhost:8080/",
          "height": 52
        }
      },
      "source": [
        "crp_kmers = []\n",
        "for site in crp_sites:\n",
        "    crp_kmers.append(site['sequence'].upper())\n",
        "\n",
        "len_crp = len(crp_kmers[0]) # all CRP sites are the same length\n",
        "print('Size of CRP binding site:', len_crp)\n",
        "print('Number of known good CRP binding sites:', len(crp_kmers))"
      ],
      "execution_count": 0,
      "outputs": [
        {
          "output_type": "stream",
          "text": [
            "Size of CRP binding site: 22\n",
            "Number of known good CRP binding sites: 49\n"
          ],
          "name": "stdout"
        }
      ]
    },
    {
      "cell_type": "markdown",
      "metadata": {
        "id": "ySvq0pikpsTI",
        "colab_type": "text"
      },
      "source": [
        "The CRP binding sites are all sequences of 22 nucleotides. We have 49 positive examples. "
      ]
    },
    {
      "cell_type": "markdown",
      "metadata": {
        "id": "Csx1G-BxpsTL",
        "colab_type": "text"
      },
      "source": [
        "### Kmer Orientations and Reverse Complements\n",
        "\n",
        "Normally we would want to think about whether the orientation of the kmer (forward or backward from what is given in the data set we downloaded) matters. However, the CRP t.f. binding sites are all palindromes, so orientation should not matter.\n",
        "\n",
        "However, we _can_ generate additional positive examples by finding the reverse complement of each CRP t.f. binding site kmer."
      ]
    },
    {
      "cell_type": "code",
      "metadata": {
        "id": "pShBOpJbpsTN",
        "colab_type": "code",
        "outputId": "8d336449-e293-432b-a1ba-a93f873d977e",
        "colab": {
          "base_uri": "https://localhost:8080/",
          "height": 34
        }
      },
      "source": [
        "TRANSLATION = {\"A\": \"T\", \"C\": \"G\", \"G\": \"C\", \"T\": \"A\"}\n",
        "\n",
        "def revc(pattern):\n",
        "    return \"\".join(TRANSLATION[c] for c in reversed(pattern))\n",
        "\n",
        "for k in range(len(crp_kmers)):\n",
        "    crp_kmers.append(revc(crp_kmers[k]))\n",
        "\n",
        "print('Number of known good CRP binding sites (with rev. complements):', len(crp_kmers))"
      ],
      "execution_count": 0,
      "outputs": [
        {
          "output_type": "stream",
          "text": [
            "Number of known good CRP binding sites (with rev. complements): 98\n"
          ],
          "name": "stdout"
        }
      ]
    },
    {
      "cell_type": "markdown",
      "metadata": {
        "id": "pan4pm0kpsTU",
        "colab_type": "text"
      },
      "source": [
        "### Generating Negative Examples\n",
        "\n",
        "Next, we can generate negative examples (ignoring the fact mentioned above, that we can't say with certainty that these are negative examples) by generating 22-mers from the E. coli genome.\n",
        "\n",
        "We will generate a **slim** and a **full** data set. The slim data set will use the first 100,000 22-mers. The full data set will use the entire E. coli genome."
      ]
    },
    {
      "cell_type": "code",
      "metadata": {
        "id": "5Pi8tsAspsTU",
        "colab_type": "code",
        "colab": {}
      },
      "source": [
        "do_slim = False"
      ],
      "execution_count": 0,
      "outputs": []
    },
    {
      "cell_type": "code",
      "metadata": {
        "id": "0OwI9tXDpsTb",
        "colab_type": "code",
        "colab": {}
      },
      "source": [
        "if do_slim:\n",
        "    \n",
        "    N_NEGATIVES=int(1e5) # 100,000 negative binding sites\n",
        "\n",
        "    notcrp_kmers_slim = []\n",
        "    for n in range(N_NEGATIVES):\n",
        "        kmer = ecoli_genome[n:n + len_crp]\n",
        "        if kmer not in crp_kmers:\n",
        "            notcrp_kmers_slim.append(kmer)\n",
        "\n",
        "    print('Gathered {:,} negative binding sites'.format(len(notcrp_kmers_slim)))"
      ],
      "execution_count": 0,
      "outputs": []
    },
    {
      "cell_type": "code",
      "metadata": {
        "id": "urGHnJxPpsTi",
        "colab_type": "code",
        "outputId": "68eaa094-2161-41d0-d004-0dbf22ab8230",
        "colab": {
          "base_uri": "https://localhost:8080/",
          "height": 34
        }
      },
      "source": [
        "if not do_slim:\n",
        "    \n",
        "    notcrp_kmers_full = []\n",
        "    overlap = len(ecoli_genome)-len_crp+1\n",
        "    for n in range(overlap):\n",
        "        kmer = ecoli_genome[n:n + len_crp]\n",
        "        if kmer not in crp_kmers:\n",
        "            notcrp_kmers_full.append(kmer)\n",
        "\n",
        "    print('Gathered {:,} negative binding sites'.format(len(notcrp_kmers_full)))"
      ],
      "execution_count": 0,
      "outputs": [
        {
          "output_type": "stream",
          "text": [
            "Gathered 4,639,626 negative binding sites\n"
          ],
          "name": "stdout"
        }
      ]
    },
    {
      "cell_type": "code",
      "metadata": {
        "id": "eTlkMMxEpsTn",
        "colab_type": "code",
        "colab": {}
      },
      "source": [
        "if do_slim:\n",
        "    notcrp_kmers = notcrp_kmers_slim\n",
        "else:\n",
        "    notcrp_kmers = notcrp_kmers_full"
      ],
      "execution_count": 0,
      "outputs": []
    },
    {
      "cell_type": "markdown",
      "metadata": {
        "id": "w224nBATpsTt",
        "colab_type": "text"
      },
      "source": [
        "A brief comment on dealing with uncertainty in the positive and negative cases: this is a source of uncertainty inherent to the system being modeled - it is not something that can be overcome with a better model. Training a better model requires more information, in the form of probabilities - the probability that a kmer is a negative example. In the absence of additional information, such as an estimate of the number of missing positive examples, we have to make assumptions.\n",
        "\n",
        "Ultimately the output of the model is a probabilistic guess about which class a given kmer belongs in - positive (yes, this is a CRP t.f. site) or negative (no, this is not a CRP t.f. site). We are looking for places where we can't quite rule something out based on the data we have, and the classification system is **more sensitive** to the training data set."
      ]
    },
    {
      "cell_type": "markdown",
      "metadata": {
        "id": "DBZYkihqpsTu",
        "colab_type": "text"
      },
      "source": [
        "### One-Hot Encoding of Dataset\n",
        "\n",
        "To use the kmers that compose our positive and negative exmaples, we need to one-hot encode the DNA sequences."
      ]
    },
    {
      "cell_type": "code",
      "metadata": {
        "id": "U4UH7ytupsTx",
        "colab_type": "code",
        "colab": {}
      },
      "source": [
        "# do janky one-hot encoding\n",
        "oh = {}\n",
        "oh['A'] = [1, 0, 0, 0]\n",
        "oh['C'] = [0, 1, 0, 0]\n",
        "oh['G'] = [0, 0, 1, 0]\n",
        "oh['T'] = [0, 0, 0, 1]\n",
        "\n",
        "X = []\n",
        "y = []\n",
        "\n",
        "# First encode the positive examples\n",
        "\n",
        "for site in crp_kmers:\n",
        "    encoded_site = []\n",
        "    for c in site:\n",
        "        encoded_site.append(oh[c])\n",
        "    \n",
        "    X.append(encoded_site)\n",
        "    y.append([1])\n",
        "        \n",
        "\n",
        "for site in notcrp_kmers:\n",
        "    encoded_site = []\n",
        "    for c in site:\n",
        "        encoded_site.append(oh[c])\n",
        "    \n",
        "    X.append(encoded_site)\n",
        "    y.append([0])"
      ],
      "execution_count": 0,
      "outputs": []
    },
    {
      "cell_type": "code",
      "metadata": {
        "id": "MfuNWJr3psT2",
        "colab_type": "code",
        "outputId": "cb762d77-b760-4985-f0fd-9e1edbaae67a",
        "colab": {
          "base_uri": "https://localhost:8080/",
          "height": 52
        }
      },
      "source": [
        "# Setting the dtype can save us some space\n",
        "X = np.array(X, dtype=np.int8)\n",
        "y = np.array(y, dtype=np.int8)\n",
        "\n",
        "print(np.shape(X))\n",
        "print(np.shape(y))"
      ],
      "execution_count": 0,
      "outputs": [
        {
          "output_type": "stream",
          "text": [
            "(4639724, 22, 4)\n",
            "(4639724, 1)\n"
          ],
          "name": "stdout"
        }
      ]
    },
    {
      "cell_type": "code",
      "metadata": {
        "id": "utr6E2rVpsT7",
        "colab_type": "code",
        "outputId": "49d4a401-884b-428b-d053-f2a7e03d0bb2",
        "colab": {
          "base_uri": "https://localhost:8080/",
          "height": 52
        }
      },
      "source": [
        "print(type(X[0][0][0]))\n",
        "print(type(y[0][0]))"
      ],
      "execution_count": 0,
      "outputs": [
        {
          "output_type": "stream",
          "text": [
            "<class 'numpy.int8'>\n",
            "<class 'numpy.int8'>\n"
          ],
          "name": "stdout"
        }
      ]
    },
    {
      "cell_type": "code",
      "metadata": {
        "id": "5OO3CY13psT_",
        "colab_type": "code",
        "outputId": "ae178a0a-517c-4c80-9a0a-1acac3589785",
        "colab": {
          "base_uri": "https://localhost:8080/",
          "height": 34
        }
      },
      "source": [
        "pos = sum(y==1)\n",
        "neg = sum(y==0)\n",
        "print(\"Percent of examples that are positive: %0.4f%%\"%(100*pos/(pos+neg)))"
      ],
      "execution_count": 0,
      "outputs": [
        {
          "output_type": "stream",
          "text": [
            "Percent of examples that are positive: 0.0021%\n"
          ],
          "name": "stdout"
        }
      ]
    },
    {
      "cell_type": "markdown",
      "metadata": {
        "id": "lBKhyxu3psUE",
        "colab_type": "text"
      },
      "source": [
        "### Computing Class and Sample Weights\n",
        "\n",
        "Because we are dealing with a highly imbalanced data set, we should use class weights to weight the positive examples more heavily, so the neural network doesn't learn to simply make negative preditions all the time.\n",
        "\n",
        "Class weights are easier to deal with and apply the same weight to all instances of a given class.\n",
        "\n",
        "Sample weights assign a different weight to every piece of input data. These are more expensive and consume space, but some scikit-learn functions can only accept sample weights, not class weights."
      ]
    },
    {
      "cell_type": "code",
      "metadata": {
        "id": "yblu-kt4psUE",
        "colab_type": "code",
        "colab": {}
      },
      "source": [
        "# Compute class weights:\n",
        "classes = np.unique(y)\n",
        "labels = np.squeeze(y)\n",
        "weights = compute_class_weight('balanced',classes,labels)\n",
        "\n",
        "class_weights = {}\n",
        "for k,wt in zip(classes,weights):\n",
        "    class_weights[k] = wt\n",
        "\n",
        "sample_weights = []\n",
        "for yi in y:\n",
        "    k = yi[0]\n",
        "    sample_weights.append([class_weights[k]])\n",
        "\n",
        "sample_weights = np.array(sample_weights)"
      ],
      "execution_count": 0,
      "outputs": []
    },
    {
      "cell_type": "markdown",
      "metadata": {
        "id": "yXkhyviepsUH",
        "colab_type": "text"
      },
      "source": [
        "## Performing Stratified K-Fold Validation\n",
        "\n",
        "Now we have all input and output data for training the neural network model in the variables X and y. We can use scikit-learn to create testing-training splits that maintain a balance between positive and negative examples. \n",
        "\n",
        "* First, we write a function to create a model (independent of input/output data).\n",
        "* Second, we perform k-fold validation, creating a new model each time. We create new stratified, shuffled testing-training splits from X and y each time we do a new cross-validation."
      ]
    },
    {
      "cell_type": "code",
      "metadata": {
        "id": "NYhqXgV-psUH",
        "colab_type": "code",
        "colab": {}
      },
      "source": [
        "def create_baseline():\n",
        "    \"\"\"Create and return a baseline 1D convolutional neural net model.\n",
        "    \"\"\"\n",
        "    # DNA sequence alphabet size\n",
        "    n_features = 4\n",
        "    seq_length = len_crp\n",
        "    convolution_window = 25\n",
        "    n_filters = 16\n",
        "    \n",
        "    # construct model\n",
        "    model = Sequential()\n",
        "    \n",
        "    # Layer 1\n",
        "    model.add(Conv1D(n_filters, convolution_window,\n",
        "                     activation='relu',\n",
        "                     padding='same',\n",
        "                     kernel_initializer='normal',\n",
        "                     input_shape=(seq_length, n_features)))\n",
        "    \n",
        "    model.add(Dropout(0.5))\n",
        "    \n",
        "    # Layer 2\n",
        "    model.add(Conv1D(n_filters, convolution_window,\n",
        "                     activation='relu', \n",
        "                     padding='same',\n",
        "                     kernel_initializer='normal'))\n",
        "    \n",
        "    model.add(Dropout(0.5))\n",
        "    \n",
        "    # Layer 3\n",
        "    model.add(Conv1D(n_filters, convolution_window,\n",
        "                     activation='relu', \n",
        "                     padding='same',\n",
        "                     kernel_initializer='normal'))\n",
        "    \n",
        "    model.add(Dropout(0.5))\n",
        "    \n",
        "    # Flatten\n",
        "    model.add(Flatten())\n",
        "    \n",
        "    # Shrink to 1 neuron for 1 class (binary) classification\n",
        "    model.add(Dense(1, kernel_initializer='normal', activation='sigmoid'))\n",
        "    \n",
        "    model.compile(loss='binary_crossentropy',\n",
        "                  optimizer='adam',\n",
        "                  sample_weight_mode=None,\n",
        "                  metrics=['accuracy',\n",
        "                           precision,\n",
        "                           recall,\n",
        "                           fvalue])\n",
        "    \n",
        "    return model"
      ],
      "execution_count": 0,
      "outputs": []
    },
    {
      "cell_type": "code",
      "metadata": {
        "id": "opGkpmx0psUK",
        "colab_type": "code",
        "outputId": "06979b62-aa23-46df-aaff-37eb74dac940",
        "colab": {
          "base_uri": "https://localhost:8080/",
          "height": 766
        }
      },
      "source": [
        "model = create_baseline()\n",
        "model.summary()"
      ],
      "execution_count": 0,
      "outputs": [
        {
          "output_type": "stream",
          "text": [
            "WARNING: Logging before flag parsing goes to stderr.\n",
            "W0701 17:53:10.240930 140281446127488 deprecation_wrapper.py:119] From /usr/local/lib/python3.6/dist-packages/keras/backend/tensorflow_backend.py:74: The name tf.get_default_graph is deprecated. Please use tf.compat.v1.get_default_graph instead.\n",
            "\n",
            "W0701 17:53:10.247670 140281446127488 deprecation_wrapper.py:119] From /usr/local/lib/python3.6/dist-packages/keras/backend/tensorflow_backend.py:517: The name tf.placeholder is deprecated. Please use tf.compat.v1.placeholder instead.\n",
            "\n",
            "W0701 17:53:10.257047 140281446127488 deprecation_wrapper.py:119] From /usr/local/lib/python3.6/dist-packages/keras/backend/tensorflow_backend.py:4115: The name tf.random_normal is deprecated. Please use tf.random.normal instead.\n",
            "\n",
            "W0701 17:53:10.291110 140281446127488 deprecation_wrapper.py:119] From /usr/local/lib/python3.6/dist-packages/keras/backend/tensorflow_backend.py:133: The name tf.placeholder_with_default is deprecated. Please use tf.compat.v1.placeholder_with_default instead.\n",
            "\n",
            "W0701 17:53:10.300248 140281446127488 deprecation.py:506] From /usr/local/lib/python3.6/dist-packages/keras/backend/tensorflow_backend.py:3445: calling dropout (from tensorflow.python.ops.nn_ops) with keep_prob is deprecated and will be removed in a future version.\n",
            "Instructions for updating:\n",
            "Please use `rate` instead of `keep_prob`. Rate should be set to `rate = 1 - keep_prob`.\n",
            "W0701 17:53:10.392385 140281446127488 deprecation_wrapper.py:119] From /usr/local/lib/python3.6/dist-packages/keras/optimizers.py:790: The name tf.train.Optimizer is deprecated. Please use tf.compat.v1.train.Optimizer instead.\n",
            "\n",
            "W0701 17:53:10.410834 140281446127488 deprecation_wrapper.py:119] From /usr/local/lib/python3.6/dist-packages/keras/backend/tensorflow_backend.py:3376: The name tf.log is deprecated. Please use tf.math.log instead.\n",
            "\n",
            "W0701 17:53:10.416018 140281446127488 deprecation.py:323] From /usr/local/lib/python3.6/dist-packages/tensorflow/python/ops/nn_impl.py:180: add_dispatch_support.<locals>.wrapper (from tensorflow.python.ops.array_ops) is deprecated and will be removed in a future version.\n",
            "Instructions for updating:\n",
            "Use tf.where in 2.0, which has the same broadcast rule as np.where\n"
          ],
          "name": "stderr"
        },
        {
          "output_type": "stream",
          "text": [
            "_________________________________________________________________\n",
            "Layer (type)                 Output Shape              Param #   \n",
            "=================================================================\n",
            "conv1d_1 (Conv1D)            (None, 22, 16)            1616      \n",
            "_________________________________________________________________\n",
            "dropout_1 (Dropout)          (None, 22, 16)            0         \n",
            "_________________________________________________________________\n",
            "conv1d_2 (Conv1D)            (None, 22, 16)            6416      \n",
            "_________________________________________________________________\n",
            "dropout_2 (Dropout)          (None, 22, 16)            0         \n",
            "_________________________________________________________________\n",
            "conv1d_3 (Conv1D)            (None, 22, 16)            6416      \n",
            "_________________________________________________________________\n",
            "dropout_3 (Dropout)          (None, 22, 16)            0         \n",
            "_________________________________________________________________\n",
            "flatten_1 (Flatten)          (None, 352)               0         \n",
            "_________________________________________________________________\n",
            "dense_1 (Dense)              (None, 1)                 353       \n",
            "=================================================================\n",
            "Total params: 14,801\n",
            "Trainable params: 14,801\n",
            "Non-trainable params: 0\n",
            "_________________________________________________________________\n"
          ],
          "name": "stdout"
        }
      ]
    },
    {
      "cell_type": "markdown",
      "metadata": {
        "id": "Ow5OqdzgpsUN",
        "colab_type": "text"
      },
      "source": [
        "Now we perform k-fold cross validation. We create a new model from scratch and re-train it using a random testing-training split for each validation fold. This gives us a statistical picture of how the model performs on average, and helps identify overfitting."
      ]
    },
    {
      "cell_type": "code",
      "metadata": {
        "id": "cJ0kfWb_psUP",
        "colab_type": "code",
        "outputId": "4400b523-d92a-4a70-cea9-45071c2ffafa",
        "colab": {
          "base_uri": "https://localhost:8080/",
          "height": 836
        }
      },
      "source": [
        "n_epochs = 10\n",
        "n_fold = 2\n",
        "batch_size = 4096\n",
        "include_chromatin_data = True\n",
        "\n",
        "shuffle = StratifiedShuffleSplit(n_splits=n_fold,\n",
        "                                 train_size = 0.7,\n",
        "                                 test_size = 0.3,\n",
        "                                 random_state = seed)\n",
        "\n",
        "models = []\n",
        "fithists = []\n",
        "\n",
        "for ifold, (train_ix, test_ix) in enumerate(shuffle.split(X,y)):\n",
        "    \n",
        "    X_train, X_test = X[train_ix], X[test_ix]\n",
        "    y_train, y_test = y[train_ix], y[test_ix]\n",
        "    \n",
        "    print(\"Training on fold %d...\"%(ifold+1))\n",
        "    \n",
        "    model = create_baseline()\n",
        "    hist = model.fit(X_train, y_train,\n",
        "                     class_weight = class_weights,\n",
        "                     batch_size = batch_size,\n",
        "                     epochs = n_epochs,\n",
        "                     verbose = 1,\n",
        "                     validation_data=(X_test,y_test))\n",
        "    \n",
        "    models.append(model)\n",
        "    fithists.append(hist)\n",
        "    \n",
        "    print(\"Done\")"
      ],
      "execution_count": 0,
      "outputs": [
        {
          "output_type": "stream",
          "text": [
            "Training on fold 1...\n",
            "Train on 3247806 samples, validate on 1391918 samples\n",
            "Epoch 1/10\n",
            "3247806/3247806 [==============================] - 14s 4us/step - loss: 0.7119 - acc: 0.9399 - precision: 5.3882e-05 - recall: 0.0177 - fvalue: 1.0724e-04 - val_loss: 0.3854 - val_acc: 0.9888 - val_precision: 0.0016 - val_recall: 0.0736 - val_fvalue: 0.0031\n",
            "Epoch 2/10\n",
            "3247806/3247806 [==============================] - 13s 4us/step - loss: 0.4075 - acc: 0.8463 - precision: 2.1888e-04 - recall: 0.0706 - fvalue: 4.3395e-04 - val_loss: 0.1350 - val_acc: 0.9429 - val_precision: 3.6218e-04 - val_recall: 0.0853 - val_fvalue: 7.2128e-04\n",
            "Epoch 3/10\n",
            "3247806/3247806 [==============================] - 13s 4us/step - loss: 0.2339 - acc: 0.9014 - precision: 2.7531e-04 - recall: 0.0744 - fvalue: 5.4771e-04 - val_loss: 0.1561 - val_acc: 0.9381 - val_precision: 3.3849e-04 - val_recall: 0.0853 - val_fvalue: 6.7428e-04\n",
            "Epoch 4/10\n",
            "3247806/3247806 [==============================] - 13s 4us/step - loss: 0.1788 - acc: 0.9396 - precision: 4.5534e-04 - recall: 0.0801 - fvalue: 9.0389e-04 - val_loss: 0.1117 - val_acc: 0.9567 - val_precision: 4.8162e-04 - val_recall: 0.0853 - val_fvalue: 9.5780e-04\n",
            "Epoch 5/10\n",
            "3247806/3247806 [==============================] - 13s 4us/step - loss: 0.1394 - acc: 0.9493 - precision: 6.2024e-04 - recall: 0.0731 - fvalue: 0.0012 - val_loss: 0.0344 - val_acc: 0.9868 - val_precision: 0.0015 - val_recall: 0.0824 - val_fvalue: 0.0030\n",
            "Epoch 6/10\n",
            "3247806/3247806 [==============================] - 13s 4us/step - loss: 0.1682 - acc: 0.9384 - precision: 4.8213e-04 - recall: 0.0782 - fvalue: 9.5654e-04 - val_loss: 0.0440 - val_acc: 0.9847 - val_precision: 0.0012 - val_recall: 0.0795 - val_fvalue: 0.0024\n",
            "Epoch 7/10\n",
            "3247806/3247806 [==============================] - 13s 4us/step - loss: 0.1285 - acc: 0.9658 - precision: 7.5327e-04 - recall: 0.0807 - fvalue: 0.0015 - val_loss: 0.0689 - val_acc: 0.9776 - val_precision: 9.3039e-04 - val_recall: 0.0853 - val_fvalue: 0.0018\n",
            "Epoch 8/10\n",
            "3247806/3247806 [==============================] - 13s 4us/step - loss: 0.2733 - acc: 0.9517 - precision: 4.8973e-04 - recall: 0.0787 - fvalue: 9.7150e-04 - val_loss: 0.1804 - val_acc: 0.9417 - val_precision: 3.5519e-04 - val_recall: 0.0853 - val_fvalue: 7.0742e-04\n",
            "Epoch 9/10\n",
            "3247806/3247806 [==============================] - 13s 4us/step - loss: 0.1033 - acc: 0.9644 - precision: 6.9907e-04 - recall: 0.0820 - fvalue: 0.0014 - val_loss: 0.1834 - val_acc: 0.9455 - val_precision: 3.8225e-04 - val_recall: 0.0853 - val_fvalue: 7.6107e-04\n",
            "Epoch 10/10\n",
            "3247806/3247806 [==============================] - 13s 4us/step - loss: 0.1395 - acc: 0.9660 - precision: 6.7413e-04 - recall: 0.0795 - fvalue: 0.0013 - val_loss: 0.1886 - val_acc: 0.9464 - val_precision: 3.8750e-04 - val_recall: 0.0853 - val_fvalue: 7.7148e-04\n",
            "Done\n",
            "Training on fold 2...\n",
            "Train on 3247806 samples, validate on 1391918 samples\n",
            "Epoch 1/10\n",
            "3247806/3247806 [==============================] - 13s 4us/step - loss: 1.0590 - acc: 0.9824 - precision: 4.6446e-04 - recall: 0.0076 - fvalue: 7.1782e-04 - val_loss: 0.2895 - val_acc: 0.9091 - val_precision: 1.4230e-04 - val_recall: 0.0422 - val_fvalue: 2.8350e-04\n",
            "Epoch 2/10\n",
            "3247806/3247806 [==============================] - 13s 4us/step - loss: 0.5885 - acc: 0.8143 - precision: 9.6683e-05 - recall: 0.0568 - fvalue: 1.9285e-04 - val_loss: 1.0984 - val_acc: 0.2366 - val_precision: 2.7308e-05 - val_recall: 0.0730 - val_fvalue: 5.4593e-05\n",
            "Epoch 3/10\n",
            "3247806/3247806 [==============================] - 13s 4us/step - loss: 0.3855 - acc: 0.7608 - precision: 9.9455e-05 - recall: 0.0731 - fvalue: 1.9851e-04 - val_loss: 0.1299 - val_acc: 0.9460 - val_precision: 3.5495e-04 - val_recall: 0.0672 - val_fvalue: 7.0565e-04\n",
            "Epoch 4/10\n",
            "3247806/3247806 [==============================] - 13s 4us/step - loss: 0.4156 - acc: 0.8694 - precision: 1.9944e-04 - recall: 0.0744 - fvalue: 3.9736e-04 - val_loss: 0.5068 - val_acc: 0.7918 - val_precision: 1.0097e-04 - val_recall: 0.0730 - val_fvalue: 2.0162e-04\n",
            "Epoch 5/10\n",
            "3247806/3247806 [==============================] - 13s 4us/step - loss: 0.2814 - acc: 0.8925 - precision: 2.3980e-04 - recall: 0.0744 - fvalue: 4.7755e-04 - val_loss: 0.1723 - val_acc: 0.9459 - val_precision: 3.8238e-04 - val_recall: 0.0730 - val_fvalue: 7.6027e-04\n",
            "Epoch 6/10\n",
            "3247806/3247806 [==============================] - 13s 4us/step - loss: 0.1764 - acc: 0.9265 - precision: 3.2743e-04 - recall: 0.0769 - fvalue: 6.5125e-04 - val_loss: 0.1045 - val_acc: 0.9662 - val_precision: 6.0093e-04 - val_recall: 0.0730 - val_fvalue: 0.0012\n",
            "Epoch 7/10\n",
            "3247806/3247806 [==============================] - 13s 4us/step - loss: 0.0838 - acc: 0.9661 - precision: 6.9924e-04 - recall: 0.0820 - fvalue: 0.0014 - val_loss: 0.0770 - val_acc: 0.9738 - val_precision: 7.7253e-04 - val_recall: 0.0730 - val_fvalue: 0.0015\n",
            "Epoch 8/10\n",
            "3247806/3247806 [==============================] - 13s 4us/step - loss: 0.1069 - acc: 0.9636 - precision: 8.2984e-04 - recall: 0.0788 - fvalue: 0.0016 - val_loss: 0.0237 - val_acc: 0.9925 - val_precision: 0.0023 - val_recall: 0.0642 - val_fvalue: 0.0045\n",
            "Epoch 9/10\n",
            "3247806/3247806 [==============================] - 13s 4us/step - loss: 0.1370 - acc: 0.9615 - precision: 0.0010 - recall: 0.0807 - fvalue: 0.0020 - val_loss: 0.0540 - val_acc: 0.9824 - val_precision: 0.0011 - val_recall: 0.0701 - val_fvalue: 0.0022\n",
            "Epoch 10/10\n",
            "3247806/3247806 [==============================] - 13s 4us/step - loss: 0.1482 - acc: 0.9550 - precision: 6.5757e-04 - recall: 0.0807 - fvalue: 0.0013 - val_loss: 0.0493 - val_acc: 0.9849 - val_precision: 0.0013 - val_recall: 0.0730 - val_fvalue: 0.0026\n",
            "Done\n"
          ],
          "name": "stdout"
        }
      ]
    },
    {
      "cell_type": "markdown",
      "metadata": {
        "id": "kcHQ0JPQpsUT",
        "colab_type": "text"
      },
      "source": [
        "## Visualizing Results"
      ]
    },
    {
      "cell_type": "markdown",
      "metadata": {
        "id": "QJrD3jVCpsUU",
        "colab_type": "text"
      },
      "source": [
        "### Training History"
      ]
    },
    {
      "cell_type": "code",
      "metadata": {
        "id": "pAQ91fKlpsUU",
        "colab_type": "code",
        "colab": {}
      },
      "source": [
        "def loss_rate_plot(hist, ax, label='',legend=False):\n",
        "    ax.plot(hist.history['loss'])\n",
        "    ax.plot(hist.history['val_loss'])\n",
        "    if label=='':\n",
        "        ax.set_title(\"Loss Rate\", size=14)\n",
        "    else:\n",
        "        ax.set_title(\"Loss Rate (%s)\"%(label), size=14)\n",
        "    ax.set_ylabel('Loss')\n",
        "    ax.set_xlabel('Training interations')\n",
        "    if legend:\n",
        "        ax.legend(['Training', 'Validation'], loc='upper right')\n",
        "\n",
        "def accuracy_rate_plot(hist,ax,label='',legend=False):\n",
        "    ax.plot([j*100 for j in hist.history['acc']])\n",
        "    ax.plot([j*100 for j in hist.history['val_acc']])\n",
        "    if label=='':\n",
        "        ax.set_title(\"Accuracy\", size=14)\n",
        "    else:\n",
        "        ax.set_title(\"Accuracy (%s)\"%(label), size=14)\n",
        "    ax.set_ylabel('Accuracy %')\n",
        "    ax.set_xlabel('Training iterations')\n",
        "    if legend:\n",
        "        ax.legend(['Training','Validation'], loc='lower right')\n",
        "\n",
        "def precision_rate_plot(hist,ax,label='',legend=False):\n",
        "    ax.plot([j*100 for j in hist.history['precision']])\n",
        "    ax.plot([j*100 for j in hist.history['val_precision']])\n",
        "    if label=='':\n",
        "        ax.set_title(\"Precision\", size=14)\n",
        "    else:\n",
        "        ax.set_title(\"Precision (%s)\"%(label), size=14)\n",
        "    ax.set_ylabel('Precision %')\n",
        "    ax.set_xlabel('Training iterations')\n",
        "    if legend:\n",
        "        ax.legend(['Training','Validation'], loc='lower right')\n",
        "\n",
        "def recall_rate_plot(hist,ax,label='',legend=False):\n",
        "    ax.plot([j*100 for j in hist.history['recall']])\n",
        "    ax.plot([j*100 for j in hist.history['val_recall']])\n",
        "    if label=='':\n",
        "        ax.set_title(\"Recall\", size=14)\n",
        "    else:\n",
        "        ax.set_title(\"Recall (%s)\"%(label), size=14)\n",
        "    ax.set_ylabel('Recall %')\n",
        "    ax.set_xlabel('Training iterations')\n",
        "    if legend:\n",
        "        ax.legend(['Training','Validation'], loc='lower right')"
      ],
      "execution_count": 0,
      "outputs": []
    },
    {
      "cell_type": "code",
      "metadata": {
        "id": "piXRorMUpsUZ",
        "colab_type": "code",
        "outputId": "f0b2362e-e939-47c5-91eb-df73e9c3d392",
        "colab": {
          "base_uri": "https://localhost:8080/",
          "height": 865
        }
      },
      "source": [
        "for i in range(shuffle.get_n_splits()):\n",
        "    \n",
        "    fig, [[ax1,ax2],[ax3,ax4]] = plt.subplots(2,2, figsize=(8,6))\n",
        "\n",
        "    loss_rate_plot(fithists[i], ax1, legend=True, label=\"Fold %d\"%(i+1))\n",
        "    accuracy_rate_plot(fithists[i], ax2, label=\"Fold %d\"%(i+1))\n",
        "    precision_rate_plot(fithists[i], ax3, label=\"Fold %d\"%(i+1))\n",
        "    recall_rate_plot(fithists[i], ax4, label=\"Fold %d\"%(i+1))\n",
        "\n",
        "    fig.tight_layout()\n",
        "    \n",
        "plt.show()"
      ],
      "execution_count": 0,
      "outputs": [
        {
          "output_type": "display_data",
          "data": {
            "image/png": "[encoded data removed]",
            "text/plain": [
              "<Figure size 576x432 with 4 Axes>"
            ]
          },
          "metadata": {
            "tags": []
          }
        },
        {
          "output_type": "display_data",
          "data": {
            "image/png": "[encoded data removed]",
            "text/plain": [
              "<Figure size 576x432 with 4 Axes>"
            ]
          },
          "metadata": {
            "tags": []
          }
        }
      ]
    },
    {
      "cell_type": "markdown",
      "metadata": {
        "id": "tuw25SKVpsUf",
        "colab_type": "text"
      },
      "source": [
        "### Confusion Matrix"
      ]
    },
    {
      "cell_type": "code",
      "metadata": {
        "id": "r2G0uvrqpsUf",
        "colab_type": "code",
        "colab": {}
      },
      "source": [
        "def plot_confusion_matrix(ax, y_true, y_pred, classes,\n",
        "                          title=None,\n",
        "                          cmap=plt.cm.Blues):\n",
        "    \"\"\"\n",
        "    A function to plot the confusion matrix.\n",
        "    \"\"\"\n",
        "    if title is None:\n",
        "        title = \"Confusion Matrix\"\n",
        "\n",
        "    # Compute confusion matrix\n",
        "    cm = confusion_matrix(y_true, y_pred)\n",
        "\n",
        "    # Plot confusion matrix\n",
        "    im = ax.imshow(cm, interpolation='nearest', cmap=cmap)\n",
        "    ax.figure.colorbar(im, ax=ax)\n",
        "\n",
        "    # We want to show all ticks...\n",
        "    ax.set(xticks=np.arange(cm.shape[1]),\n",
        "           yticks=np.arange(cm.shape[0]),\n",
        "           # ... and label them with the respective list entries\n",
        "           xticklabels=classes, yticklabels=classes,\n",
        "           title=title,\n",
        "           ylabel='True label',\n",
        "           xlabel='Predicted label')\n",
        "\n",
        "    # Rotate the tick labels and set their alignment.\n",
        "    plt.setp(ax.get_xticklabels(), \n",
        "             rotation=45,\n",
        "             ha=\"right\",\n",
        "             rotation_mode=\"anchor\")\n",
        "\n",
        "    # Loop over data dimensions and create text annotations.\n",
        "    fmt = ','\n",
        "    thresh = cm.max() / 2.\n",
        "    for i in range(cm.shape[0]):\n",
        "        for j in range(cm.shape[1]):\n",
        "            ax.text(j, i, format(cm[i, j], fmt),\n",
        "                    ha=\"center\", \n",
        "                    va=\"center\",\n",
        "                    color=\"white\" if cm[i, j] > thresh else \"black\")"
      ],
      "execution_count": 0,
      "outputs": []
    },
    {
      "cell_type": "code",
      "metadata": {
        "id": "7TE1sfEKpsUh",
        "colab_type": "code",
        "outputId": "144127f8-3492-4f1e-ffef-ca9bb1c6616e",
        "colab": {
          "base_uri": "https://localhost:8080/",
          "height": 612
        }
      },
      "source": [
        "for ifold, (train_ix, test_ix) in enumerate(shuffle.split(X,y)):\n",
        "    \n",
        "    fig, ax = plt.subplots(1,1,figsize=(8,4))\n",
        "\n",
        "    print(\"Processing confusion matrix for fold %d.\"%(ifold+1))\n",
        "    \n",
        "    X_train, X_test = X[train_ix], X[test_ix]\n",
        "    y_train, y_test = y[train_ix], y[test_ix]\n",
        "    \n",
        "    model = models[ifold]\n",
        "    \n",
        "    y_test_pred = model.predict(X_test)\n",
        "        \n",
        "    y_test_pred = np.round(y_test_pred)\n",
        "\n",
        "    plot_confusion_matrix(ax, y_test, y_test_pred, ['N','Y'], title=\"Confusion Matrix - Fold %d\"%(ifold+1))\n",
        "    \n",
        "    fig.tight_layout()\n",
        "\n",
        "plt.show()"
      ],
      "execution_count": 0,
      "outputs": [
        {
          "output_type": "stream",
          "text": [
            "Processing confusion matrix for fold 1.\n",
            "Processing confusion matrix for fold 2.\n"
          ],
          "name": "stdout"
        },
        {
          "output_type": "display_data",
          "data": {
            "image/png": "[encoded data removed]",
            "text/plain": [
              "<Figure size 576x288 with 2 Axes>"
            ]
          },
          "metadata": {
            "tags": []
          }
        },
        {
          "output_type": "display_data",
          "data": {
            "image/png": "[encoded data removed]",
            "text/plain": [
              "<Figure size 576x288 with 2 Axes>"
            ]
          },
          "metadata": {
            "tags": []
          }
        }
      ]
    },
    {
      "cell_type": "markdown",
      "metadata": {
        "id": "WOiPPKptpsUl",
        "colab_type": "text"
      },
      "source": [
        "## Visualizing ROC Curve\n",
        "\n",
        "Our last step is to visualize the ROC curve.\n",
        "\n",
        "Because of the k-fold cross-validation, we have multiple versions of the same model, trained on different testing-training splits of the data set. We can use these to construct an ROC curve with a confidence interval."
      ]
    },
    {
      "cell_type": "code",
      "metadata": {
        "id": "iF7alX7rpsUm",
        "colab_type": "code",
        "outputId": "8022d5d4-3be2-4174-86af-cdaec9d62879",
        "colab": {
          "base_uri": "https://localhost:8080/",
          "height": 586
        }
      },
      "source": [
        "# https://scikit-learn.org/stable/auto_examples/model_selection/plot_roc_crossval.html\n",
        "\n",
        "# Use a single plot\n",
        "\n",
        "fig, ax = plt.subplots(1,1,figsize=(8,8))\n",
        "\n",
        "tprs = []\n",
        "aucs = []\n",
        "mean_fpr = np.linspace(0,1,100)\n",
        "\n",
        "# Start by plotting each individual ROC curve\n",
        "\n",
        "for ifold, (train_ix, test_ix) in enumerate(shuffle.split(X,y)):\n",
        "\n",
        "    print(\"Working on fold %d...\"%(ifold+1))\n",
        "    \n",
        "    X_train, X_test = X[train_ix], X[test_ix]\n",
        "    y_train, y_test = y[train_ix], y[test_ix]\n",
        "    sample_weights_train, sample_weights_test = sample_weights[train_ix], sample_weights[test_ix]\n",
        "    \n",
        "    model = models[ifold]\n",
        "    y_test_pred = model.predict(X_test).ravel()\n",
        "    \n",
        "    fpr, tpr, thresholds = roc_curve(y_test, y_test_pred, sample_weight=sample_weights_test)\n",
        "    \n",
        "    tprs.append(interp(mean_fpr,fpr,tpr))\n",
        "    tprs[-1][0] = 0.0\n",
        "    \n",
        "    roc_auc = auc(fpr,tpr)\n",
        "    aucs.append(roc_auc)\n",
        "    \n",
        "    ax.plot(fpr,tpr, alpha=0.3)\n",
        "\n",
        "# Now compute statistics from the multiple models\n",
        "# and use that to construct a confidence interval\n",
        "\n",
        "mean_tpr = np.mean(tprs,axis=0)\n",
        "mean_tpr[-1] = 1.0\n",
        "mean_auc = auc(mean_fpr, mean_tpr)\n",
        "std_auc = np.std(aucs)\n",
        "ax.plot(mean_fpr, mean_tpr, color='b', alpha=0.8)\n",
        "\n",
        "std_tpr = np.std(tprs, axis=0)\n",
        "tprs_upper = np.minimum(mean_tpr + std_tpr, 1)\n",
        "tprs_lower = np.maximum(mean_tpr - std_tpr, 0)\n",
        "ax.fill_between(mean_fpr, tprs_lower, tprs_upper, color='grey', alpha=0.2)\n",
        "\n",
        "ax.plot([0,1],[0,1],'--k',lw=2)\n",
        "\n",
        "ax.set_title('ROC Curve, 1D CNN: CRP t.f. binding')\n",
        "\n",
        "print(\"Area under curve:\")\n",
        "print(\"Mean: %0.4f\"%(mean_auc))\n",
        "print(\"Std: %0.4f\"%(std_auc))\n",
        "\n",
        "plt.show()"
      ],
      "execution_count": 0,
      "outputs": [
        {
          "output_type": "stream",
          "text": [
            "Working on fold 1...\n",
            "Working on fold 2...\n",
            "Area under curve:\n",
            "Mean: 0.9949\n",
            "Std: 0.0001\n"
          ],
          "name": "stdout"
        },
        {
          "output_type": "display_data",
          "data": {
            "image/png": "[encoded data removed]",
            "text/plain": [
              "<Figure size 576x576 with 1 Axes>"
            ]
          },
          "metadata": {
            "tags": []
          }
        }
      ]
    },
    {
      "cell_type": "code",
      "metadata": {
        "id": "N_kIQ3IWpsUv",
        "colab_type": "code",
        "colab": {}
      },
      "source": [
        ""
      ],
      "execution_count": 0,
      "outputs": []
    }
  ]
}