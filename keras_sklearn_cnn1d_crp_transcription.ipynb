{
 "cells": [
  {
   "cell_type": "markdown",
   "metadata": {
    "colab_type": "text",
    "id": "view-in-github"
   },
   "source": [
    "<a href=\"https://colab.research.google.com/github/charlesreid1/deep-learning-genomics/blob/master/keras_sklearn_cnn1d_dna_transcription.ipynb\" target=\"_parent\"><img src=\"https://colab.research.google.com/assets/colab-badge.svg\" alt=\"Open In Colab\"/></a>"
   ]
  },
  {
   "cell_type": "markdown",
   "metadata": {
    "colab_type": "text",
    "id": "JHAuCkB-Dyvx"
   },
   "source": [
    "# Keras and Sklearn for Deep Learning Genomics\n",
    "\n",
    "## Using Convolutional Neural Nets to Predict CRP Transcription Factor Binding Sites\n",
    "\n",
    "This notebook continues with the example from a prior notebook, namely, the problem of predicting transcription factor binding sites in DNA. This type of neural network operates on 1D sequence data (DNA nucleotides), so we build a 1D convolutional neural network to perform classification of DNA (is this string of nucleotides a transcription factor binding site or not).\n",
    "\n",
    "We construct a 1D CNN model in this notebook, then perform manual cross-validation on each model and assemble statistics to assess the cross-validation results."
   ]
  },
  {
   "cell_type": "markdown",
   "metadata": {
    "colab_type": "text",
    "id": "bAl5v_fEEz8Y"
   },
   "source": [
    "## Import Libraries"
   ]
  },
  {
   "cell_type": "code",
   "execution_count": 1,
   "metadata": {
    "colab": {
     "base_uri": "https://localhost:8080/",
     "height": 34
    },
    "colab_type": "code",
    "id": "62b9p_xalIIH",
    "outputId": "730e6bac-4c23-4e7c-c175-bd97f6956a56"
   },
   "outputs": [
    {
     "data": {
      "text/plain": [
       "''"
      ]
     },
     "execution_count": 1,
     "metadata": {},
     "output_type": "execute_result"
    }
   ],
   "source": [
    "import tensorflow as tf\n",
    "tf.test.gpu_device_name()"
   ]
  },
  {
   "cell_type": "code",
   "execution_count": 2,
   "metadata": {
    "colab": {},
    "colab_type": "code",
    "id": "4gsmsa71Dv1k"
   },
   "outputs": [],
   "source": [
    "import os\n",
    "import math\n",
    "import numpy as np\n",
    "import numpy\n",
    "import matplotlib.pyplot as plt\n",
    "import seaborn as sns\n",
    "import pandas\n",
    "import joblib"
   ]
  },
  {
   "cell_type": "code",
   "execution_count": 122,
   "metadata": {},
   "outputs": [],
   "source": [
    "from scipy import interp"
   ]
  },
  {
   "cell_type": "code",
   "execution_count": 7,
   "metadata": {},
   "outputs": [
    {
     "name": "stdout",
     "output_type": "stream",
     "text": [
      "Requirement already satisfied: screed in /Users/charles/.pyenv/versions/miniconda3-4.3.30/lib/python3.6/site-packages (1.0)\r\n",
      "Requirement already satisfied: bz2file in /Users/charles/.pyenv/versions/miniconda3-4.3.30/lib/python3.6/site-packages (from screed) (0.98)\r\n"
     ]
    }
   ],
   "source": [
    "!pip install screed"
   ]
  },
  {
   "cell_type": "code",
   "execution_count": 126,
   "metadata": {
    "colab": {},
    "colab_type": "code",
    "id": "1fhj_7ZaEPij"
   },
   "outputs": [],
   "source": [
    "# sklearn\n",
    "from sklearn.utils.class_weight import compute_class_weight\n",
    "from sklearn.utils.class_weight import compute_sample_weight\n",
    "from sklearn.metrics import roc_curve, auc, roc_auc_score\n",
    "from sklearn.metrics import confusion_matrix\n",
    "from sklearn.utils.multiclass import unique_labels\n",
    "from sklearn.model_selection import cross_val_score\n",
    "from sklearn.preprocessing import LabelEncoder\n",
    "from sklearn.model_selection import StratifiedKFold, StratifiedShuffleSplit\n",
    "from sklearn.preprocessing import StandardScaler\n",
    "from sklearn.pipeline import Pipeline"
   ]
  },
  {
   "cell_type": "code",
   "execution_count": 4,
   "metadata": {
    "colab": {},
    "colab_type": "code",
    "id": "VN-bDjOlEQDB"
   },
   "outputs": [
    {
     "name": "stderr",
     "output_type": "stream",
     "text": [
      "Using TensorFlow backend.\n"
     ]
    }
   ],
   "source": [
    "from keras.wrappers.scikit_learn import KerasClassifier\n",
    "from keras.models import Sequential, Model\n",
    "from keras.layers import Flatten, Embedding, Dense, Dropout, Input, Concatenate\n",
    "from keras.layers import Conv1D, GlobalAveragePooling1D, MaxPooling1D\n",
    "from keras.layers import LeakyReLU\n",
    "import keras"
   ]
  },
  {
   "cell_type": "code",
   "execution_count": 5,
   "metadata": {
    "colab": {},
    "colab_type": "code",
    "id": "aHkVmJYCEZfT"
   },
   "outputs": [],
   "source": [
    "seed = 1729\n",
    "numpy.random.seed(seed)"
   ]
  },
  {
   "cell_type": "markdown",
   "metadata": {
    "colab_type": "text",
    "id": "ZeBqpoaQcPvk"
   },
   "source": [
    "## Define Useful Keras Metrics"
   ]
  },
  {
   "cell_type": "code",
   "execution_count": 6,
   "metadata": {
    "colab": {},
    "colab_type": "code",
    "id": "UpthrvB3cST3"
   },
   "outputs": [],
   "source": [
    "# via https://github.com/keras-team/keras/issues/6507#issuecomment-322857357\n",
    "\n",
    "import keras.backend as K\n",
    "\n",
    "def precision(y_true, y_pred):\n",
    "    # Calculate the precision\n",
    "    # clip ensures we're between 0 and 1\n",
    "    # round ensures we're either 0 or 1\n",
    "    true_positives = K.sum(K.round(K.clip(y_true * y_pred, 0, 1)))\n",
    "    predicted_positives = K.sum(K.round(K.clip(y_pred, 0, 1)))\n",
    "    precision = true_positives / (predicted_positives + K.epsilon())\n",
    "    return precision\n",
    "\n",
    "def recall(y_true, y_pred):\n",
    "    # Calculate the recall\n",
    "    # clip ensures we're between 0 and 1\n",
    "    # round ensures we're either 0 or 1\n",
    "    true_positives = K.sum(K.round(K.clip(y_true * y_pred, 0, 1)))\n",
    "    possible_positives = K.sum(K.round(K.clip(y_true, 0, 1)))\n",
    "    recall = true_positives / (possible_positives + K.epsilon())\n",
    "    return recall\n",
    "\n",
    "def fvalue(y_true, y_pred):\n",
    "    # Calculate the F-value\n",
    "    # If there are no true positives, fix the F score at 0 like sklearn.\n",
    "    if K.sum(K.round(K.clip(y_true, 0, 1))) == 0:\n",
    "        return 0\n",
    "    p = precision(y_true,y_pred)\n",
    "    r = recall(y_true,y_pred)\n",
    "    fvalue = (2 * p * r)/(p + r + K.epsilon())\n",
    "    return fvalue\n"
   ]
  },
  {
   "cell_type": "markdown",
   "metadata": {
    "colab_type": "text",
    "id": "Yf8K8vRzEx3q"
   },
   "source": [
    "## Load Dataset"
   ]
  },
  {
   "cell_type": "code",
   "execution_count": 8,
   "metadata": {
    "colab": {
     "base_uri": "https://localhost:8080/",
     "height": 34
    },
    "colab_type": "code",
    "id": "nxrwVCIBEsNJ",
    "outputId": "72124115-6bb6-4490-ccda-3b6c214adff0"
   },
   "outputs": [
    {
     "name": "stdout",
     "output_type": "stream",
     "text": [
      "--2019-06-24 15:21:05--  http://arep.med.harvard.edu/ecoli_matrices/dat/crp.dat\n",
      "Resolving arep.med.harvard.edu (arep.med.harvard.edu)... 134.174.150.51\n",
      "Connecting to arep.med.harvard.edu (arep.med.harvard.edu)|134.174.150.51|:80... connected.\n",
      "HTTP request sent, awaiting response... 200 OK\n",
      "Length: 1966 (1.9K) [text/plain]\n",
      "Saving to: ‘crp.dat’\n",
      "\n",
      "crp.dat             100%[===================>]   1.92K  --.-KB/s    in 0.02s   \n",
      "\n",
      "2019-06-24 15:21:06 (86.1 KB/s) - ‘crp.dat’ saved [1966/1966]\n",
      "\n"
     ]
    }
   ],
   "source": [
    "# grab binding sites from http://arep.med.harvard.edu/ecoli_matrices/dat/crp.dat\n",
    "!wget http://arep.med.harvard.edu/ecoli_matrices/dat/crp.dat"
   ]
  },
  {
   "cell_type": "code",
   "execution_count": 9,
   "metadata": {
    "colab": {},
    "colab_type": "code",
    "id": "sEUJnDsbEtQa"
   },
   "outputs": [
    {
     "name": "stdout",
     "output_type": "stream",
     "text": [
      "  % Total    % Received % Xferd  Average Speed   Time    Time     Time  Current\n",
      "                                 Dload  Upload   Total   Spent    Left  Speed\n",
      "100 1347k  100 1347k    0     0   304k      0  0:00:04  0:00:04 --:--:--  309k\n"
     ]
    }
   ],
   "source": [
    "# grab ecoli k12 genome\n",
    "!curl ftp://ftp.ncbi.nlm.nih.gov/genomes/all/GCF/003/627/195/GCF_003627195.1_ASM362719v1/GCF_003627195.1_ASM362719v1_genomic.fna.gz -o ecoli-k12.fna.gz"
   ]
  },
  {
   "cell_type": "code",
   "execution_count": 46,
   "metadata": {
    "colab": {},
    "colab_type": "code",
    "id": "KPileDhWZyu5"
   },
   "outputs": [],
   "source": [
    "import screed\n",
    "ecoli_genome = list(screed.open('ecoli-k12.fna.gz'))[0].sequence\n",
    "crp_sites = list(screed.open('crp.dat'))"
   ]
  },
  {
   "cell_type": "code",
   "execution_count": 47,
   "metadata": {},
   "outputs": [],
   "source": [
    "ecoli_genome = ecoli_genome.upper()"
   ]
  },
  {
   "cell_type": "markdown",
   "metadata": {},
   "source": [
    "## Explore Dataset\n",
    "\n",
    "Below we explore some details of the CRP transcription factor binding site data set that we'll use to train and test the model."
   ]
  },
  {
   "cell_type": "code",
   "execution_count": 48,
   "metadata": {},
   "outputs": [
    {
     "name": "stdout",
     "output_type": "stream",
     "text": [
      "E. coli genome size: 4,639,694\n",
      "Number of CRP binding sites: 49\n"
     ]
    }
   ],
   "source": [
    "print(\"E. coli genome size: {:,}\".format(len(ecoli_genome)))\n",
    "print(\"Number of CRP binding sites: {:,}\".format(len(crp_sites)))"
   ]
  },
  {
   "cell_type": "code",
   "execution_count": 49,
   "metadata": {},
   "outputs": [
    {
     "name": "stdout",
     "output_type": "stream",
     "text": [
      "<class 'str'>\n"
     ]
    }
   ],
   "source": [
    "print(type(ecoli_genome))"
   ]
  },
  {
   "cell_type": "markdown",
   "metadata": {},
   "source": [
    "The E. coli genome is a ~4 MB string and we have 49 known binding sites. We have only \"known positive\" binding sites; we have no \"known negative\" binding sites. In other words, we cannot say that a particular sequence of DNA is _definitely not_ a binding site, we can only say that it is _probably not_ a binding site."
   ]
  },
  {
   "cell_type": "code",
   "execution_count": 50,
   "metadata": {},
   "outputs": [
    {
     "data": {
      "text/plain": [
       "[{'name': 'aldB -18->4', 'sequence': 'attcgtgatagctgtcgtaaag', 'description': ''},\n",
       " {'name': 'ansB 103->125', 'sequence': 'ttttgttacctgcctctaactt', 'description': ''},\n",
       " {'name': 'araB1 109->131', 'sequence': 'aagtgtgacgccgtgcaaataa', 'description': ''},\n",
       " {'name': 'araB2 147->169', 'sequence': 'tgccgtgattatagacactttt', 'description': ''},\n",
       " {'name': 'cdd 1 107->129', 'sequence': 'atttgcgatgcgtcgcgcattt', 'description': ''}]"
      ]
     },
     "execution_count": 50,
     "metadata": {},
     "output_type": "execute_result"
    }
   ],
   "source": [
    "crp_sites[:5]"
   ]
  },
  {
   "cell_type": "markdown",
   "metadata": {},
   "source": [
    "### Generating Positive Examples"
   ]
  },
  {
   "cell_type": "code",
   "execution_count": 60,
   "metadata": {},
   "outputs": [
    {
     "name": "stdout",
     "output_type": "stream",
     "text": [
      "Size of CRP binding site: 22\n",
      "Number of known good CRP binding sites: 49\n"
     ]
    }
   ],
   "source": [
    "crp_kmers = []\n",
    "for site in crp_sites:\n",
    "    crp_kmers.append(site['sequence'].upper())\n",
    "\n",
    "len_crp = len(crp_kmers[0]) # all CRP sites are the same length\n",
    "print('Size of CRP binding site:', len_crp)\n",
    "print('Number of known good CRP binding sites:', len(crp_kmers))"
   ]
  },
  {
   "cell_type": "markdown",
   "metadata": {},
   "source": [
    "The CRP binding sites are all sequences of 22 nucleotides. We have 49 positive examples. "
   ]
  },
  {
   "cell_type": "markdown",
   "metadata": {},
   "source": [
    "### Kmer Orientations and Reverse Complements\n",
    "\n",
    "Normally we would want to think about whether the orientation of the kmer (forward or backward from what is given in the data set we downloaded) matters. However, the CRP t.f. binding sites are all palindromes, so orientation should not matter.\n",
    "\n",
    "However, we _can_ generate additional positive examples by finding the reverse complement of each CRP t.f. binding site kmer."
   ]
  },
  {
   "cell_type": "code",
   "execution_count": 61,
   "metadata": {},
   "outputs": [
    {
     "name": "stdout",
     "output_type": "stream",
     "text": [
      "Number of known good CRP binding sites (with rev. complements): 98\n"
     ]
    }
   ],
   "source": [
    "TRANSLATION = {\"A\": \"T\", \"C\": \"G\", \"G\": \"C\", \"T\": \"A\"}\n",
    "\n",
    "def revc(pattern):\n",
    "    return \"\".join(TRANSLATION[c] for c in reversed(pattern))\n",
    "\n",
    "for k in range(len(crp_kmers)):\n",
    "    crp_kmers.append(revc(crp_kmers[k]))\n",
    "\n",
    "print('Number of known good CRP binding sites (with rev. complements):', len(crp_kmers))"
   ]
  },
  {
   "cell_type": "markdown",
   "metadata": {},
   "source": [
    "### Generating Negative Examples\n",
    "\n",
    "Next, we can generate negative examples (ignoring the fact mentioned above, that we can't say with certainty that these are negative examples) by generating 22-mers from the E. coli genome.\n",
    "\n",
    "We will generate a **slim** and a **full** data set. The slim data set will use the first 100,000 22-mers. The full data set will use the entire E. coli genome."
   ]
  },
  {
   "cell_type": "code",
   "execution_count": 62,
   "metadata": {},
   "outputs": [],
   "source": [
    "do_slim = True"
   ]
  },
  {
   "cell_type": "code",
   "execution_count": 63,
   "metadata": {},
   "outputs": [
    {
     "name": "stdout",
     "output_type": "stream",
     "text": [
      "Gathered 99,999 negative binding sites\n"
     ]
    }
   ],
   "source": [
    "if do_slim:\n",
    "    \n",
    "    N_NEGATIVES=int(1e5) # 100,000 negative binding sites\n",
    "\n",
    "    notcrp_kmers_slim = []\n",
    "    for n in range(N_NEGATIVES):\n",
    "        kmer = ecoli_genome[n:n + len_crp]\n",
    "        if kmer not in crp_kmers:\n",
    "            notcrp_kmers_slim.append(kmer)\n",
    "\n",
    "    print('Gathered {:,} negative binding sites'.format(len(notcrp_kmers_slim)))"
   ]
  },
  {
   "cell_type": "code",
   "execution_count": 64,
   "metadata": {},
   "outputs": [],
   "source": [
    "if not do_slim:\n",
    "    \n",
    "    notcrp_kmers_full = []\n",
    "    overlap = len(ecoli_genome)-len_crp+1\n",
    "    for n in range(overlap):\n",
    "        kmer = ecoli_genome[n:n + len_crp]\n",
    "        if kmer not in crp_kmers:\n",
    "            notcrp_kmers_full.append(kmer)\n",
    "\n",
    "    print('Gathered {:,} negative binding sites'.format(len(notcrp_kmers_full)))"
   ]
  },
  {
   "cell_type": "code",
   "execution_count": 65,
   "metadata": {},
   "outputs": [],
   "source": [
    "if do_slim:\n",
    "    notcrp_kmers = notcrp_kmers_slim\n",
    "else:\n",
    "    notcrp_kmers = notcrp_kmers_full"
   ]
  },
  {
   "cell_type": "markdown",
   "metadata": {},
   "source": [
    "A brief comment on dealing with uncertainty in the positive and negative cases: this is a source of uncertainty inherent to the system being modeled - it is not something that can be overcome with a better model. Training a better model requires more information, in the form of probabilities - the probability that a kmer is a negative example. In the absence of additional information, such as an estimate of the number of missing positive examples, we have to make assumptions.\n",
    "\n",
    "Ultimately the output of the model is a probabilistic guess about which class a given kmer belongs in - positive (yes, this is a CRP t.f. site) or negative (no, this is not a CRP t.f. site). We are looking for places where we can't quite rule something out based on the data we have, and the classification system is **more sensitive** to the training data set."
   ]
  },
  {
   "cell_type": "markdown",
   "metadata": {},
   "source": [
    "### One-Hot Encoding of Dataset\n",
    "\n",
    "To use the kmers that compose our positive and negative exmaples, we need to one-hot encode the DNA sequences."
   ]
  },
  {
   "cell_type": "code",
   "execution_count": 67,
   "metadata": {},
   "outputs": [],
   "source": [
    "# do janky one-hot encoding\n",
    "oh = {}\n",
    "oh['A'] = [1, 0, 0, 0]\n",
    "oh['C'] = [0, 1, 0, 0]\n",
    "oh['G'] = [0, 0, 1, 0]\n",
    "oh['T'] = [0, 0, 0, 1]\n",
    "\n",
    "X = []\n",
    "y = []\n",
    "\n",
    "# First encode the positive examples\n",
    "\n",
    "for site in crp_kmers:\n",
    "    encoded_site = []\n",
    "    for c in site:\n",
    "        encoded_site.append(oh[c])\n",
    "    \n",
    "    X.append(encoded_site)\n",
    "    y.append([1])\n",
    "        \n",
    "\n",
    "for site in notcrp_kmers:\n",
    "    encoded_site = []\n",
    "    for c in site:\n",
    "        encoded_site.append(oh[c])\n",
    "    \n",
    "    X.append(encoded_site)\n",
    "    y.append([0])"
   ]
  },
  {
   "cell_type": "code",
   "execution_count": 72,
   "metadata": {},
   "outputs": [
    {
     "name": "stdout",
     "output_type": "stream",
     "text": [
      "(100097, 22, 4)\n",
      "(100097, 1)\n"
     ]
    }
   ],
   "source": [
    "# Setting the dtype can save us some space\n",
    "X = np.array(X, dtype=np.int8)\n",
    "y = np.array(y, dtype=np.int8)\n",
    "\n",
    "print(np.shape(X))\n",
    "print(np.shape(y))"
   ]
  },
  {
   "cell_type": "code",
   "execution_count": 73,
   "metadata": {},
   "outputs": [
    {
     "name": "stdout",
     "output_type": "stream",
     "text": [
      "<class 'numpy.int8'>\n",
      "<class 'numpy.int8'>\n"
     ]
    }
   ],
   "source": [
    "print(type(X[0][0][0]))\n",
    "print(type(y[0][0]))"
   ]
  },
  {
   "cell_type": "code",
   "execution_count": 88,
   "metadata": {},
   "outputs": [
    {
     "name": "stdout",
     "output_type": "stream",
     "text": [
      "Percent of examples that are positive: 0.10%\n"
     ]
    }
   ],
   "source": [
    "pos = sum(y==1)\n",
    "neg = sum(y==0)\n",
    "print(\"Percent of examples that are positive: %0.2f%%\"%(100*pos/(pos+neg)))"
   ]
  },
  {
   "cell_type": "markdown",
   "metadata": {},
   "source": [
    "### Computing Class and Sample Weights\n",
    "\n",
    "Because we are dealing with a highly imbalanced data set, we should use class weights to weight the positive examples more heavily, so the neural network doesn't learn to simply make negative preditions all the time.\n",
    "\n",
    "Class weights are easier to deal with and apply the same weight to all instances of a given class.\n",
    "\n",
    "Sample weights assign a different weight to every piece of input data. These are more expensive and consume space, but some scikit-learn functions can only accept sample weights, not class weights."
   ]
  },
  {
   "cell_type": "code",
   "execution_count": 166,
   "metadata": {},
   "outputs": [],
   "source": [
    "# Compute class weights:\n",
    "classes = np.unique(y)\n",
    "labels = np.squeeze(y)\n",
    "weights = compute_class_weight('balanced',classes,labels)\n",
    "\n",
    "class_weights = {}\n",
    "for k,wt in zip(classes,weights):\n",
    "    class_weights[k] = wt\n",
    "\n",
    "sample_weights = []\n",
    "for yi in y:\n",
    "    k = yi[0]\n",
    "    sample_weights.append([class_weights[k]])\n",
    "\n",
    "sample_weights = np.array(sample_weights)"
   ]
  },
  {
   "cell_type": "markdown",
   "metadata": {},
   "source": [
    "## Performing Stratified K-Fold Validation\n",
    "\n",
    "Now we have all input and output data for training the neural network model in the variables X and y. We can use scikit-learn to create testing-training splits that maintain a balance between positive and negative examples. \n",
    "\n",
    "* First, we write a function to create a model (independent of input/output data).\n",
    "* Second, we perform k-fold validation, creating a new model each time. We create new stratified, shuffled testing-training splits from X and y each time we do a new cross-validation."
   ]
  },
  {
   "cell_type": "code",
   "execution_count": 152,
   "metadata": {},
   "outputs": [],
   "source": [
    "def create_baseline():\n",
    "    \"\"\"Create and return a baseline 1D convolutional neural net model.\n",
    "    \"\"\"\n",
    "    # DNA sequence alphabet size\n",
    "    n_features = 4\n",
    "    seq_length = len_crp\n",
    "    convolution_window = 25\n",
    "    n_filters = 16\n",
    "    \n",
    "    # construct model\n",
    "    model = Sequential()\n",
    "    \n",
    "    # Layer 1\n",
    "    model.add(Conv1D(n_filters, convolution_window,\n",
    "                     activation='relu',\n",
    "                     padding='same',\n",
    "                     kernel_initializer='normal',\n",
    "                     input_shape=(seq_length, n_features)))\n",
    "    \n",
    "    model.add(Dropout(0.5))\n",
    "    \n",
    "    # Layer 2\n",
    "    model.add(Conv1D(n_filters, convolution_window,\n",
    "                     activation='relu', \n",
    "                     padding='same',\n",
    "                     kernel_initializer='normal'))\n",
    "    \n",
    "    model.add(Dropout(0.5))\n",
    "    \n",
    "    # Layer 3\n",
    "    model.add(Conv1D(n_filters, convolution_window,\n",
    "                     activation='relu', \n",
    "                     padding='same',\n",
    "                     kernel_initializer='normal'))\n",
    "    \n",
    "    model.add(Dropout(0.5))\n",
    "    \n",
    "    # Flatten\n",
    "    model.add(Flatten())\n",
    "    \n",
    "    # Shrink to 1 neuron for 1 class (binary) classification\n",
    "    model.add(Dense(1, kernel_initializer='normal', activation='sigmoid'))\n",
    "    \n",
    "    model.compile(loss='binary_crossentropy',\n",
    "                  optimizer='adam',\n",
    "                  sample_weight_mode=None,\n",
    "                  metrics=['accuracy',\n",
    "                           precision,\n",
    "                           recall,\n",
    "                           fvalue])\n",
    "    \n",
    "    return model"
   ]
  },
  {
   "cell_type": "code",
   "execution_count": 153,
   "metadata": {},
   "outputs": [
    {
     "name": "stdout",
     "output_type": "stream",
     "text": [
      "_________________________________________________________________\n",
      "Layer (type)                 Output Shape              Param #   \n",
      "=================================================================\n",
      "conv1d_40 (Conv1D)           (None, 22, 16)            1616      \n",
      "_________________________________________________________________\n",
      "dropout_40 (Dropout)         (None, 22, 16)            0         \n",
      "_________________________________________________________________\n",
      "conv1d_41 (Conv1D)           (None, 22, 16)            6416      \n",
      "_________________________________________________________________\n",
      "dropout_41 (Dropout)         (None, 22, 16)            0         \n",
      "_________________________________________________________________\n",
      "conv1d_42 (Conv1D)           (None, 22, 16)            6416      \n",
      "_________________________________________________________________\n",
      "dropout_42 (Dropout)         (None, 22, 16)            0         \n",
      "_________________________________________________________________\n",
      "flatten_14 (Flatten)         (None, 352)               0         \n",
      "_________________________________________________________________\n",
      "dense_14 (Dense)             (None, 1)                 353       \n",
      "=================================================================\n",
      "Total params: 14,801\n",
      "Trainable params: 14,801\n",
      "Non-trainable params: 0\n",
      "_________________________________________________________________\n"
     ]
    }
   ],
   "source": [
    "model = create_baseline()\n",
    "model.summary()"
   ]
  },
  {
   "cell_type": "markdown",
   "metadata": {},
   "source": [
    "Now we perform k-fold cross validation. We create a new model from scratch and re-train it using a random testing-training split for each validation fold. This gives us a statistical picture of how the model performs on average, and helps identify overfitting."
   ]
  },
  {
   "cell_type": "code",
   "execution_count": 154,
   "metadata": {},
   "outputs": [
    {
     "name": "stdout",
     "output_type": "stream",
     "text": [
      "Training on fold 1...\n",
      "Train on 70067 samples, validate on 30030 samples\n",
      "Epoch 1/5\n",
      "70067/70067 [==============================] - 13s 180us/step - loss: 0.6759 - acc: 0.4892 - precision: 0.0014 - recall: 0.5524 - fvalue: 0.0029 - val_loss: 0.6231 - val_acc: 0.9235 - val_precision: 0.0110 - val_recall: 0.7784 - val_fvalue: 0.0216\n",
      "Epoch 2/5\n",
      "70067/70067 [==============================] - 8s 119us/step - loss: 0.5516 - acc: 0.8166 - precision: 0.0047 - recall: 0.4684 - fvalue: 0.0092 - val_loss: 0.3593 - val_acc: 0.8914 - val_precision: 0.0086 - val_recall: 0.8636 - val_fvalue: 0.0171\n",
      "Epoch 3/5\n",
      "70067/70067 [==============================] - 8s 120us/step - loss: 0.2669 - acc: 0.8865 - precision: 0.0080 - recall: 0.7954 - fvalue: 0.0159 - val_loss: 0.1995 - val_acc: 0.9167 - val_precision: 0.0109 - val_recall: 0.8466 - val_fvalue: 0.0214\n",
      "Epoch 4/5\n",
      "70067/70067 [==============================] - 9s 135us/step - loss: 0.2269 - acc: 0.8967 - precision: 0.0091 - recall: 0.9158 - fvalue: 0.0180 - val_loss: 0.2370 - val_acc: 0.8958 - val_precision: 0.0090 - val_recall: 0.8636 - val_fvalue: 0.0178\n",
      "Epoch 5/5\n",
      "70067/70067 [==============================] - 9s 122us/step - loss: 0.1412 - acc: 0.9328 - precision: 0.0144 - recall: 0.7648 - fvalue: 0.0281 - val_loss: 0.1004 - val_acc: 0.9598 - val_precision: 0.0229 - val_recall: 0.8636 - val_fvalue: 0.0443\n",
      "Done\n",
      "Training on fold 2...\n",
      "Train on 70067 samples, validate on 30030 samples\n",
      "Epoch 1/5\n",
      "70067/70067 [==============================] - 11s 151us/step - loss: 0.6881 - acc: 0.3684 - precision: 0.0012 - recall: 0.6362 - fvalue: 0.0023 - val_loss: 0.6718 - val_acc: 0.7767 - val_precision: 0.0043 - val_recall: 1.0000 - val_fvalue: 0.0085\n",
      "Epoch 2/5\n",
      "70067/70067 [==============================] - 8s 120us/step - loss: 0.6061 - acc: 0.6976 - precision: 0.0028 - recall: 0.6854 - fvalue: 0.0056 - val_loss: 0.4619 - val_acc: 0.9424 - val_precision: 0.0164 - val_recall: 1.0000 - val_fvalue: 0.0322\n",
      "Epoch 3/5\n",
      "70067/70067 [==============================] - 9s 128us/step - loss: 0.3828 - acc: 0.8431 - precision: 0.0066 - recall: 0.6820 - fvalue: 0.0131 - val_loss: 0.1480 - val_acc: 0.9642 - val_precision: 0.0260 - val_recall: 1.0000 - val_fvalue: 0.0505\n",
      "Epoch 4/5\n",
      "70067/70067 [==============================] - 9s 128us/step - loss: 0.2239 - acc: 0.9093 - precision: 0.0113 - recall: 0.8184 - fvalue: 0.0221 - val_loss: 0.1846 - val_acc: 0.9289 - val_precision: 0.0133 - val_recall: 1.0000 - val_fvalue: 0.0262\n",
      "Epoch 5/5\n",
      "70067/70067 [==============================] - 9s 125us/step - loss: 0.2069 - acc: 0.9182 - precision: 0.0145 - recall: 0.8257 - fvalue: 0.0280 - val_loss: 0.1755 - val_acc: 0.9345 - val_precision: 0.0144 - val_recall: 1.0000 - val_fvalue: 0.0284\n",
      "Done\n"
     ]
    }
   ],
   "source": [
    "n_epochs = 5\n",
    "n_fold = 2\n",
    "batch_size = 2048\n",
    "include_chromatin_data = True\n",
    "\n",
    "shuffle = StratifiedShuffleSplit(n_splits=n_fold,\n",
    "                                 train_size = 0.7,\n",
    "                                 test_size = 0.3,\n",
    "                                 random_state = seed)\n",
    "\n",
    "models = []\n",
    "fithists = []\n",
    "\n",
    "for ifold, (train_ix, test_ix) in enumerate(shuffle.split(X,y)):\n",
    "    \n",
    "    X_train, X_test = X[train_ix], X[test_ix]\n",
    "    y_train, y_test = y[train_ix], y[test_ix]\n",
    "    \n",
    "    print(\"Training on fold %d...\"%(ifold+1))\n",
    "    \n",
    "    model = create_baseline()\n",
    "    hist = model.fit(X_train, y_train,\n",
    "                     class_weight = class_weights,\n",
    "                     batch_size = batch_size,\n",
    "                     epochs = n_epochs,\n",
    "                     verbose = 1,\n",
    "                     validation_data=(X_test,y_test))\n",
    "    \n",
    "    models.append(model)\n",
    "    fithists.append(hist)\n",
    "    \n",
    "    print(\"Done\")"
   ]
  },
  {
   "cell_type": "markdown",
   "metadata": {},
   "source": [
    "## Visualizing Results"
   ]
  },
  {
   "cell_type": "markdown",
   "metadata": {},
   "source": [
    "### Training History"
   ]
  },
  {
   "cell_type": "code",
   "execution_count": 155,
   "metadata": {},
   "outputs": [],
   "source": [
    "def loss_rate_plot(hist, ax, label='',legend=False):\n",
    "    ax.plot(hist.history['loss'])\n",
    "    ax.plot(hist.history['val_loss'])\n",
    "    if label=='':\n",
    "        ax.set_title(\"Loss Rate\", size=14)\n",
    "    else:\n",
    "        ax.set_title(\"Loss Rate (%s)\"%(label), size=14)\n",
    "    ax.set_ylabel('Loss')\n",
    "    ax.set_xlabel('Training interations')\n",
    "    if legend:\n",
    "        ax.legend(['Training', 'Validation'], loc='upper right')\n",
    "\n",
    "def accuracy_rate_plot(hist,ax,label='',legend=False):\n",
    "    ax.plot([j*100 for j in hist.history['acc']])\n",
    "    ax.plot([j*100 for j in hist.history['val_acc']])\n",
    "    if label=='':\n",
    "        ax.set_title(\"Accuracy\", size=14)\n",
    "    else:\n",
    "        ax.set_title(\"Accuracy (%s)\"%(label), size=14)\n",
    "    ax.set_ylabel('Accuracy %')\n",
    "    ax.set_xlabel('Training iterations')\n",
    "    if legend:\n",
    "        ax.legend(['Training','Validation'], loc='lower right')\n",
    "\n",
    "def precision_rate_plot(hist,ax,label='',legend=False):\n",
    "    ax.plot([j*100 for j in hist.history['precision']])\n",
    "    ax.plot([j*100 for j in hist.history['val_precision']])\n",
    "    if label=='':\n",
    "        ax.set_title(\"Precision\", size=14)\n",
    "    else:\n",
    "        ax.set_title(\"Precision (%s)\"%(label), size=14)\n",
    "    ax.set_ylabel('Precision %')\n",
    "    ax.set_xlabel('Training iterations')\n",
    "    if legend:\n",
    "        ax.legend(['Training','Validation'], loc='lower right')\n",
    "\n",
    "def recall_rate_plot(hist,ax,label='',legend=False):\n",
    "    ax.plot([j*100 for j in hist.history['recall']])\n",
    "    ax.plot([j*100 for j in hist.history['val_recall']])\n",
    "    if label=='':\n",
    "        ax.set_title(\"Recall\", size=14)\n",
    "    else:\n",
    "        ax.set_title(\"Recall (%s)\"%(label), size=14)\n",
    "    ax.set_ylabel('Recall %')\n",
    "    ax.set_xlabel('Training iterations')\n",
    "    if legend:\n",
    "        ax.legend(['Training','Validation'], loc='lower right')"
   ]
  },
  {
   "cell_type": "code",
   "execution_count": 156,
   "metadata": {},
   "outputs": [
    {
     "data": {
      "image/png": "[encoded data removed]",
      "text/plain": [
       "<Figure size 576x432 with 4 Axes>"
      ]
     },
     "metadata": {
      "needs_background": "light"
     },
     "output_type": "display_data"
    },
    {
     "data": {
      "image/png": "[encoded data removed]",
      "text/plain": [
       "<Figure size 576x432 with 4 Axes>"
      ]
     },
     "metadata": {
      "needs_background": "light"
     },
     "output_type": "display_data"
    }
   ],
   "source": [
    "for i in range(shuffle.get_n_splits()):\n",
    "    \n",
    "    fig, [[ax1,ax2],[ax3,ax4]] = plt.subplots(2,2, figsize=(8,6))\n",
    "\n",
    "    loss_rate_plot(fithists[i], ax1, legend=True, label=\"Fold %d\"%(i+1))\n",
    "    accuracy_rate_plot(fithists[i], ax2, label=\"Fold %d\"%(i+1))\n",
    "    precision_rate_plot(fithists[i], ax3, label=\"Fold %d\"%(i+1))\n",
    "    recall_rate_plot(fithists[i], ax4, label=\"Fold %d\"%(i+1))\n",
    "\n",
    "    fig.tight_layout()\n",
    "    \n",
    "plt.show()"
   ]
  },
  {
   "cell_type": "markdown",
   "metadata": {},
   "source": [
    "### Confusion Matrix"
   ]
  },
  {
   "cell_type": "code",
   "execution_count": 157,
   "metadata": {},
   "outputs": [],
   "source": [
    "def plot_confusion_matrix(ax, y_true, y_pred, classes,\n",
    "                          title=None,\n",
    "                          cmap=plt.cm.Blues):\n",
    "    \"\"\"\n",
    "    A function to plot the confusion matrix.\n",
    "    \"\"\"\n",
    "    if title is None:\n",
    "        title = \"Confusion Matrix\"\n",
    "\n",
    "    # Compute confusion matrix\n",
    "    cm = confusion_matrix(y_true, y_pred)\n",
    "\n",
    "    # Plot confusion matrix\n",
    "    im = ax.imshow(cm, interpolation='nearest', cmap=cmap)\n",
    "    ax.figure.colorbar(im, ax=ax)\n",
    "\n",
    "    # We want to show all ticks...\n",
    "    ax.set(xticks=np.arange(cm.shape[1]),\n",
    "           yticks=np.arange(cm.shape[0]),\n",
    "           # ... and label them with the respective list entries\n",
    "           xticklabels=classes, yticklabels=classes,\n",
    "           title=title,\n",
    "           ylabel='True label',\n",
    "           xlabel='Predicted label')\n",
    "\n",
    "    # Rotate the tick labels and set their alignment.\n",
    "    plt.setp(ax.get_xticklabels(), \n",
    "             rotation=45,\n",
    "             ha=\"right\",\n",
    "             rotation_mode=\"anchor\")\n",
    "\n",
    "    # Loop over data dimensions and create text annotations.\n",
    "    fmt = ','\n",
    "    thresh = cm.max() / 2.\n",
    "    for i in range(cm.shape[0]):\n",
    "        for j in range(cm.shape[1]):\n",
    "            ax.text(j, i, format(cm[i, j], fmt),\n",
    "                    ha=\"center\", \n",
    "                    va=\"center\",\n",
    "                    color=\"white\" if cm[i, j] > thresh else \"black\")"
   ]
  },
  {
   "cell_type": "code",
   "execution_count": 158,
   "metadata": {},
   "outputs": [
    {
     "name": "stdout",
     "output_type": "stream",
     "text": [
      "Processing confusion matrix for fold 1.\n",
      "Processing confusion matrix for fold 2.\n"
     ]
    },
    {
     "data": {
      "image/png": "[encoded data removed]",
      "text/plain": [
       "<Figure size 576x288 with 2 Axes>"
      ]
     },
     "metadata": {
      "needs_background": "light"
     },
     "output_type": "display_data"
    },
    {
     "data": {
      "image/png": "[encoded data removed]",
      "text/plain": [
       "<Figure size 576x288 with 2 Axes>"
      ]
     },
     "metadata": {
      "needs_background": "light"
     },
     "output_type": "display_data"
    }
   ],
   "source": [
    "for ifold, (train_ix, test_ix) in enumerate(shuffle.split(X,y)):\n",
    "    \n",
    "    fig, ax = plt.subplots(1,1,figsize=(8,4))\n",
    "\n",
    "    print(\"Processing confusion matrix for fold %d.\"%(ifold+1))\n",
    "    \n",
    "    X_train, X_test = X[train_ix], X[test_ix]\n",
    "    y_train, y_test = y[train_ix], y[test_ix]\n",
    "    \n",
    "    model = models[ifold]\n",
    "    \n",
    "    y_test_pred = model.predict(X_test)\n",
    "        \n",
    "    y_test_pred = np.round(y_test_pred)\n",
    "\n",
    "    plot_confusion_matrix(ax, y_test, y_test_pred, ['N','Y'], title=\"Confusion Matrix - Fold %d\"%(ifold+1))\n",
    "    \n",
    "    fig.tight_layout()\n",
    "\n",
    "plt.show()"
   ]
  },
  {
   "cell_type": "markdown",
   "metadata": {},
   "source": [
    "## Visualizing ROC Curve\n",
    "\n",
    "Our last step is to visualize the ROC curve.\n",
    "\n",
    "Because of the k-fold cross-validation, we have multiple versions of the same model, trained on different testing-training splits of the data set. We can use these to construct an ROC curve with a confidence interval."
   ]
  },
  {
   "cell_type": "code",
   "execution_count": 173,
   "metadata": {},
   "outputs": [
    {
     "name": "stdout",
     "output_type": "stream",
     "text": [
      "Working on fold 1...\n",
      "Working on fold 2...\n",
      "Area under curve:\n",
      "Mean: 0.9932\n",
      "Std: 0.0018\n"
     ]
    },
    {
     "data": {
      "image/png": "[encoded data removed]",
      "text/plain": [
       "<Figure size 576x576 with 1 Axes>"
      ]
     },
     "metadata": {
      "needs_background": "light"
     },
     "output_type": "display_data"
    }
   ],
   "source": [
    "# https://scikit-learn.org/stable/auto_examples/model_selection/plot_roc_crossval.html\n",
    "\n",
    "# Use a single plot\n",
    "\n",
    "fig, ax = plt.subplots(1,1,figsize=(8,8))\n",
    "\n",
    "tprs = []\n",
    "aucs = []\n",
    "mean_fpr = np.linspace(0,1,100)\n",
    "\n",
    "# Start by plotting each individual ROC curve\n",
    "\n",
    "for ifold, (train_ix, test_ix) in enumerate(shuffle.split(X,y)):\n",
    "\n",
    "    print(\"Working on fold %d...\"%(ifold+1))\n",
    "    \n",
    "    X_train, X_test = X[train_ix], X[test_ix]\n",
    "    y_train, y_test = y[train_ix], y[test_ix]\n",
    "    sample_weights_train, sample_weights_test = sample_weights[train_ix], sample_weights[test_ix]\n",
    "    \n",
    "    model = models[ifold]\n",
    "    y_test_pred = model.predict(X_test).ravel()\n",
    "    \n",
    "    fpr, tpr, thresholds = roc_curve(y_test, y_test_pred, sample_weight=sample_weights_test)\n",
    "    \n",
    "    tprs.append(interp(mean_fpr,fpr,tpr))\n",
    "    tprs[-1][0] = 0.0\n",
    "    \n",
    "    roc_auc = auc(fpr,tpr)\n",
    "    aucs.append(roc_auc)\n",
    "    \n",
    "    ax.plot(fpr,tpr, alpha=0.3)\n",
    "\n",
    "# Now compute statistics from the multiple models\n",
    "# and use that to construct a confidence interval\n",
    "\n",
    "mean_tpr = np.mean(tprs,axis=0)\n",
    "mean_tpr[-1] = 1.0\n",
    "mean_auc = auc(mean_fpr, mean_tpr)\n",
    "std_auc = np.std(aucs)\n",
    "ax.plot(mean_fpr, mean_tpr, color='b', alpha=0.8)\n",
    "\n",
    "std_tpr = np.std(tprs, axis=0)\n",
    "tprs_upper = np.minimum(mean_tpr + std_tpr, 1)\n",
    "tprs_lower = np.maximum(mean_tpr - std_tpr, 0)\n",
    "ax.fill_between(mean_fpr, tprs_lower, tprs_upper, color='grey', alpha=0.2)\n",
    "\n",
    "ax.plot([0,1],[0,1],'--k',lw=2)\n",
    "\n",
    "ax.set_title('ROC Curve, 1D CNN: CRP t.f. binding')\n",
    "\n",
    "print(\"Area under curve:\")\n",
    "print(\"Mean: %0.4f\"%(mean_auc))\n",
    "print(\"Std: %0.4f\"%(std_auc))\n",
    "\n",
    "plt.show()"
   ]
  },
  {
   "cell_type": "code",
   "execution_count": null,
   "metadata": {},
   "outputs": [],
   "source": []
  }
 ],
 "metadata": {
  "accelerator": "GPU",
  "colab": {
   "collapsed_sections": [],
   "include_colab_link": true,
   "name": "keras-sklearn_cnn1d_dna_transcription.ipynb",
   "provenance": [],
   "version": "0.3.2"
  },
  "kernelspec": {
   "display_name": "Python 3",
   "language": "python",
   "name": "python3"
  },
  "language_info": {
   "codemirror_mode": {
    "name": "ipython",
    "version": 3
   },
   "file_extension": ".py",
   "mimetype": "text/x-python",
   "name": "python",
   "nbconvert_exporter": "python",
   "pygments_lexer": "ipython3",
   "version": "3.6.7"
  }
 },
 "nbformat": 4,
 "nbformat_minor": 1
}
