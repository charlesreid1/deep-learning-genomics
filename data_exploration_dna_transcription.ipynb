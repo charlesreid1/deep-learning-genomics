{
 "cells": [
  {
   "cell_type": "markdown",
   "metadata": {
    "colab_type": "text",
    "id": "view-in-github"
   },
   "source": [
    "<a href=\"https://colab.research.google.com/github/charlesreid1/deep-learning-genomics/blob/master/data_exploration_dna_transcription.ipynb\" target=\"_parent\"><img src=\"https://colab.research.google.com/assets/colab-badge.svg\" alt=\"Open In Colab\"/></a>"
   ]
  },
  {
   "cell_type": "markdown",
   "metadata": {
    "colab_type": "text",
    "id": "AgVr4tm2M5nL"
   },
   "source": [
    "# DNA Transcription Dataset\n",
    "\n",
    "In this notebook we explore a data set related to transcription factor binding sites in DNA.\n",
    "\n",
    "In particular, the data set is about transcription factor [jun-D](https://www.uniprot.org/uniprot/P17535), a transcription factor that can be found in [human chromosome 19](https://en.wikipedia.org/wiki/Chromosome_19) and that binds to various sites in [human chromosome 22](https://en.wikipedia.org/wiki/Chromosome_22) (one of the smallest human chromosomes at 50 Mbp and the first chromosome to be completely sequenced by the Human Genome Project in 1999).\n",
    "\n",
    "The data set consists of portions (?) of the 22nd chromosome broken into short k-mers (segments of DNA) of length 101. Each of the k-mers are labeled as being either a jun-D transcription factor binding site, or not. Additionally, data about the ability of chromatin to access the segment, which affects the binding process, is also provided."
   ]
  },
  {
   "cell_type": "code",
   "execution_count": 0,
   "metadata": {
    "colab": {},
    "colab_type": "code",
    "id": "gnUHvz5ZM2yC"
   },
   "outputs": [],
   "source": [
    "import os\n",
    "from pprint import pprint\n",
    "import math\n",
    "import numpy as np\n",
    "import matplotlib.pyplot as plt\n",
    "import seaborn as sns\n",
    "import joblib"
   ]
  },
  {
   "cell_type": "markdown",
   "metadata": {
    "colab_type": "text",
    "id": "CbvnGZCvPNM5"
   },
   "source": [
    "## Obtaining the Data\n",
    "\n",
    "The data can be obtained from the repository for the book \"Deep Learning for the Life Sciences\" ([Github link](https://github.com/deepchem/DeepLearningLifeSciences)). The relevant data is in the `Chapter06` folder. It can be accessed using the `joblib` module."
   ]
  },
  {
   "cell_type": "code",
   "execution_count": 101,
   "metadata": {
    "colab": {
     "base_uri": "https://localhost:8080/",
     "height": 35
    },
    "colab_type": "code",
    "id": "IRcGo7cIPdgM",
    "outputId": "8ce2f1f1-31c3-4039-8a0d-a639f30757cb"
   },
   "outputs": [
    {
     "name": "stdout",
     "output_type": "stream",
     "text": [
      "fatal: destination path 'DeepLearningLifeSciences' already exists and is not an empty directory.\n"
     ]
    }
   ],
   "source": [
    "!git clone https://github.com/deepchem/DeepLearningLifeSciences.git"
   ]
  },
  {
   "cell_type": "code",
   "execution_count": 0,
   "metadata": {
    "colab": {},
    "colab_type": "code",
    "id": "p3AnmZyRPjMV"
   },
   "outputs": [],
   "source": [
    "!ln -fs DeepLearningLifeSciences/Chapter06/{test*,train*,valid*} ."
   ]
  },
  {
   "cell_type": "code",
   "execution_count": 0,
   "metadata": {
    "colab": {},
    "colab_type": "code",
    "id": "o5MjzNw2R4gE"
   },
   "outputs": [],
   "source": [
    "!ln -fs DeepLearningLifeSciences/Chapter06/chromatin.txt"
   ]
  },
  {
   "cell_type": "markdown",
   "metadata": {
    "colab_type": "text",
    "id": "U6aQaiDaPwHr"
   },
   "source": [
    "### What Data is There?\n",
    "\n",
    "There are several quantities provided in the data set:\n",
    "\n",
    "* X - a matrix that stores the list of 101-mers in one-hot encoded format (more on this below)\n",
    "* y - a vector that stores a binary 0 or 1 indicating whether the corresponding 101-mer is a bind site or not\n",
    "* w - a set of sample weights, which attach relative importance to negative (y=0) and positive (y=1) instances; class weights are necessary because of the imbalance in the problem (there are over 100 negative instances for each positive instance)\n",
    "* ids - a set of ID labels to look up chromatin values\n",
    "* chromatin - chromatin accessibility values, listed by ID"
   ]
  },
  {
   "cell_type": "markdown",
   "metadata": {
    "colab_type": "text",
    "id": "D5LDikWVRcTw"
   },
   "source": [
    "### Testing, Training, and Validation Splits\n",
    "\n",
    "The authors provide the data with testing, training, and validation splits, but we prefer to pool all of the data together to look at it (and so  we can use scikit-learn to split the data in various ways ourselves)."
   ]
  },
  {
   "cell_type": "markdown",
   "metadata": {
    "colab_type": "text",
    "id": "GhIrcednRd_D"
   },
   "source": [
    "### Data-Loading Function\n",
    "\n",
    "The data-loading function below loads all X, y, weight, ID, and chromatin data into a series of numpy arrays."
   ]
  },
  {
   "cell_type": "code",
   "execution_count": 0,
   "metadata": {
    "colab": {},
    "colab_type": "code",
    "id": "-I_Z5QirPvkt"
   },
   "outputs": [],
   "source": [
    "def load_all_data():\n",
    "    \n",
    "    # load chromatin accessibility data\n",
    "    accessibility = {}\n",
    "    for line in open('chromatin.txt','r'):\n",
    "        fields = line.split()\n",
    "        accessibility[fields[0]] = float(fields[1])\n",
    "    \n",
    "    # load training, validation, and testing sets\n",
    "    for i,label in enumerate(['train','valid','test']):\n",
    "        datadir = \"%s_dataset\"%(label)\n",
    "        base_filename = \"shard-0-%s.joblib\"\n",
    "        X_filename = os.path.join(datadir,base_filename%(\"X\"))\n",
    "        y_filename = os.path.join(datadir,base_filename%(\"y\"))\n",
    "        w_filename = os.path.join(datadir,base_filename%(\"w\"))\n",
    "        ids_filename = os.path.join(datadir,base_filename%(\"ids\"))\n",
    "        \n",
    "        this_X = joblib.load(X_filename)\n",
    "        this_y = joblib.load(y_filename)\n",
    "        this_w = joblib.load(w_filename)\n",
    "        this_ids = joblib.load(ids_filename)\n",
    "        this_chromatin = np.array([accessibility[k] for k in this_ids])\n",
    "        \n",
    "        # add X and chromatin data\n",
    "        if i>0:\n",
    "            X = np.concatenate([X,this_X])\n",
    "            chromatin = np.concatenate([chromatin,this_chromatin])\n",
    "            y = np.concatenate([y,this_y])\n",
    "            w = np.concatenate([w,this_w])\n",
    "            ids = np.concatenate([ids,this_ids])\n",
    "        else:\n",
    "            X = this_X\n",
    "            chromatin = this_chromatin\n",
    "            y = this_y\n",
    "            w = this_w\n",
    "            ids = this_ids\n",
    "        \n",
    "    return [X,chromatin], y, w, ids\n",
    "\n",
    "[X,chromatin], y, w, ids = load_all_data()"
   ]
  },
  {
   "cell_type": "markdown",
   "metadata": {
    "colab_type": "text",
    "id": "yYn-QnOYPKU6"
   },
   "source": [
    "## Dimensionality/Type\n",
    "\n",
    "Some key facts about the data:\n",
    "\n",
    "* 345,271 total observations\n",
    "* X is 101x4, the rest are vectors\n",
    "* X and y are both integer arrays/vectors\n",
    "* chromatin and weights are both floating point vectors"
   ]
  },
  {
   "cell_type": "code",
   "execution_count": 105,
   "metadata": {
    "colab": {
     "base_uri": "https://localhost:8080/",
     "height": 245
    },
    "colab_type": "code",
    "id": "vd39bHFGNYPQ",
    "outputId": "25a80206-d219-4ac0-c5be-76c56186f51f"
   },
   "outputs": [
    {
     "name": "stdout",
     "output_type": "stream",
     "text": [
      "Shape of all data:\n",
      "\n",
      "X shape:\n",
      "(345271, 101, 4)\n",
      "\n",
      "chromatin shape:\n",
      "(345271,)\n",
      "\n",
      "y shape:\n",
      "(345271, 1)\n",
      "\n",
      "w shape:\n",
      "(345271, 1)\n"
     ]
    }
   ],
   "source": [
    "print(\"Shape of all data:\\n\")\n",
    "\n",
    "print(\"X shape:\")\n",
    "print(np.shape(X))\n",
    "print(\"\")\n",
    "print(\"chromatin shape:\")\n",
    "print(np.shape(chromatin))\n",
    "print(\"\")\n",
    "print(\"y shape:\")\n",
    "print(np.shape(y))\n",
    "print(\"\")\n",
    "print(\"w shape:\")\n",
    "print(np.shape(w))"
   ]
  },
  {
   "cell_type": "code",
   "execution_count": 106,
   "metadata": {
    "colab": {
     "base_uri": "https://localhost:8080/",
     "height": 245
    },
    "colab_type": "code",
    "id": "wBQD2zfj_ZRN",
    "outputId": "77841e9f-94b9-4f5d-a02b-0f64e69d57dd"
   },
   "outputs": [
    {
     "name": "stdout",
     "output_type": "stream",
     "text": [
      "Type of all data:\n",
      "\n",
      "X type:\n",
      "<class 'numpy.int8'>\n",
      "\n",
      "chromatin type:\n",
      "<class 'numpy.float64'>\n",
      "\n",
      "y type:\n",
      "<class 'numpy.int64'>\n",
      "\n",
      "w type:\n",
      "<class 'numpy.float64'>\n"
     ]
    }
   ],
   "source": [
    "print(\"Type of all data:\\n\")\n",
    "\n",
    "print(\"X type:\")\n",
    "print(type(X[0][0][0]))\n",
    "print(\"\")\n",
    "print(\"chromatin type:\")\n",
    "print(type(chromatin[0]))\n",
    "print(\"\")\n",
    "print(\"y type:\")\n",
    "print(type(y[0][0]))\n",
    "print(\"\")\n",
    "print(\"w type:\")\n",
    "print(type(w[0][0]))\n"
   ]
  },
  {
   "cell_type": "markdown",
   "metadata": {
    "colab_type": "text",
    "id": "cPxM94nUAOPe"
   },
   "source": [
    "## Distributions\n",
    "\n",
    "If we explore how our data are distributed, we can gain a few key insights:\n",
    "\n",
    "* Chromatin coverage value has a highly skewed distribution that becomes more even-looking if we take the log transform\n",
    "* The weights distribution has only two unique values\n",
    "* The y distribution has only two unique values"
   ]
  },
  {
   "cell_type": "code",
   "execution_count": 0,
   "metadata": {
    "colab": {},
    "colab_type": "code",
    "id": "s2JV-LM3APjf"
   },
   "outputs": [],
   "source": [
    "def make_distplot(ax,vec,label):\n",
    "    ax.set_title('Distribution (%s)'%(label))\n",
    "    ax.set_xlabel('Value')\n",
    "    ax.set_ylabel('Frequency (Normalized)')\n",
    "    sns.distplot(vec, ax=ax, kde=False, norm_hist=True)"
   ]
  },
  {
   "cell_type": "code",
   "execution_count": 108,
   "metadata": {
    "colab": {
     "base_uri": "https://localhost:8080/",
     "height": 441
    },
    "colab_type": "code",
    "id": "C_Xgubl8H65T",
    "outputId": "2f8eb6e2-dc54-4761-9e4d-32cce73397ce"
   },
   "outputs": [
    {
     "data": {
      "image/png": "[encoded data removed]",
      "text/plain": [
       "<Figure size 576x432 with 4 Axes>"
      ]
     },
     "metadata": {
      "tags": []
     },
     "output_type": "display_data"
    }
   ],
   "source": [
    "fig, [[ax1, ax2], [ax3, ax4]] = plt.subplots(2,2,figsize=(8,6))\n",
    "\n",
    "make_distplot(ax1,w, label=\"Sample Weights\")\n",
    "make_distplot(ax2,y, label=\"y\")\n",
    "make_distplot(ax3,chromatin, label=\"Chromatin\")\n",
    "make_distplot(ax4,np.log(chromatin+0.00001), label=\"Log of Chromatin\")\n",
    "\n",
    "fig.tight_layout()\n",
    "plt.show()"
   ]
  },
  {
   "cell_type": "markdown",
   "metadata": {
    "colab_type": "text",
    "id": "0E6M38uCDKWV"
   },
   "source": [
    "## y vector\n",
    "\n",
    "The y vector contains the response function, and is the quantity that we are trying to predict. In the case of the DNA transcription problem, the challenge is to predict whether a given sequence of DNA is a transcription factor binding site, which is a binary classification (yes/no) problem. Thus, the vector y consists of only 0s and 1s, 0 indicating no and 1 indicating yes.\n",
    "\n",
    "The problem is also highly imbalanced: we have 343 negative examples for every 1 positive example, so less than half a percent of our data represents positive examples."
   ]
  },
  {
   "cell_type": "code",
   "execution_count": 109,
   "metadata": {
    "colab": {
     "base_uri": "https://localhost:8080/",
     "height": 70
    },
    "colab_type": "code",
    "id": "VcX5obvkCSPU",
    "outputId": "a4d78b11-a587-4d67-b45b-d52f8a6f56bd"
   },
   "outputs": [
    {
     "name": "stdout",
     "output_type": "stream",
     "text": [
      "Vector y:\n",
      "    Number of unique values: 2\n",
      "    List of unique values: 0,1\n"
     ]
    }
   ],
   "source": [
    "print(\"Vector y:\")\n",
    "print(\"    Number of unique values: %d\"%(len(np.unique(y))))\n",
    "print(\"    List of unique values: %s\"%(\",\".join([str(i) for i in np.unique(y)])))"
   ]
  },
  {
   "cell_type": "code",
   "execution_count": 110,
   "metadata": {
    "colab": {
     "base_uri": "https://localhost:8080/",
     "height": 70
    },
    "colab_type": "code",
    "id": "MttIotioDdUd",
    "outputId": "2e3dc9c4-6007-4bde-d316-f0b5d715317e"
   },
   "outputs": [
    {
     "name": "stdout",
     "output_type": "stream",
     "text": [
      "Vector y:\n",
      "    Number of 0s:   343811\t(99.58% of all values)\n",
      "    Number of 1s:     1460\t(0.42% of all values)\n"
     ]
    }
   ],
   "source": [
    "z = np.sum(y==0)\n",
    "u = np.sum(y==1)\n",
    "\n",
    "print(\"Vector y:\")\n",
    "print(\"    Number of 0s: %8d\\t(%0.2f%% of all values)\"%(z,100*z/(z+u)))\n",
    "print(\"    Number of 1s: %8d\\t(%0.2f%% of all values)\"%(u,100*u/(z+u)))"
   ]
  },
  {
   "cell_type": "markdown",
   "metadata": {
    "colab_type": "text",
    "id": "ynF_sL5cH1Ap"
   },
   "source": [
    "## Weights vector\n",
    "\n",
    "The weights vector provided with the data set is a vector of weights that can be used for each sample. If two observations both have an equal weight (say, weight = 1), they are treated as equally important to the model. If one observation has a weight that is 100 times the weight of the second observation, the first observation will have the same effect on the loss function as would 100 of the second observation.\n",
    "\n",
    "Like the y vector, the weights vector for this data set consists of only two unique values. The deepchem authors do not provide any useful information about the weights, but we explain below where the weights come from and how to compute them for a new data set.\n",
    "\n",
    "First, there are two kinds of weights that we can use for our data:\n",
    "\n",
    "* **Sample weights** are weights that are assigned to each individual observation. If we have 10,000 data points we will have 10,000 weights. This allows us to mark particular observations as extra important.\n",
    "\n",
    "* **Class weights** are weights that are common to all observations of a given class. If we have 10,000 data points and we are solving a binary classification problem, we will have 2 class weights; if we are solving the MNIST digit recognition problem, we will have 10 class weights. This is used for unblaanced problems (many more instances of one class than another).\n",
    "\n"
   ]
  },
  {
   "cell_type": "code",
   "execution_count": 111,
   "metadata": {
    "colab": {
     "base_uri": "https://localhost:8080/",
     "height": 70
    },
    "colab_type": "code",
    "id": "8MZN7zZTDHUL",
    "outputId": "806e2220-a867-4c88-e048-160f8dd241da"
   },
   "outputs": [
    {
     "name": "stdout",
     "output_type": "stream",
     "text": [
      "Vector w:\n",
      "    Number of unique values: 4\n",
      "    List of unique values: 0.502123204,0.502123266,118.243150685,118.246575342\n"
     ]
    }
   ],
   "source": [
    "print(\"Vector w:\")\n",
    "print(\"    Number of unique values: %d\"%(len(np.unique(w))))\n",
    "print(\"    List of unique values: %s\"%(\",\".join([str(np.round(i,9)) for i in np.unique(w)])))"
   ]
  },
  {
   "cell_type": "markdown",
   "metadata": {
    "colab_type": "text",
    "id": "_ruSjzAxAK1I"
   },
   "source": [
    "Although it looks like there are four weight values, there are really only two: ~0.5 and ~118.2.\n",
    "\n",
    "Below, we show how to compute class weights for our y vector using sklearn's [`compute_class_weight()`](https://scikit-learn.org/stable/modules/generated/sklearn.utils.class_weight.compute_class_weight.html) function, whcih takes a list of classes and a y vector and computes the class weights needed to balance the data.\n",
    "\n",
    "We then show how to convert class weights to sample weights using sklearn's [`compute_sample_weight()`](https://scikit-learn.org/stable/modules/generated/sklearn.utils.class_weight.compute_sample_weight.html) function."
   ]
  },
  {
   "cell_type": "code",
   "execution_count": 0,
   "metadata": {
    "colab": {},
    "colab_type": "code",
    "id": "UWKQQlRIGXoo"
   },
   "outputs": [],
   "source": [
    "from sklearn.utils.class_weight import compute_class_weight\n",
    "from sklearn.utils.class_weight import compute_sample_weight"
   ]
  },
  {
   "cell_type": "code",
   "execution_count": 113,
   "metadata": {
    "colab": {
     "base_uri": "https://localhost:8080/",
     "height": 35
    },
    "colab_type": "code",
    "id": "OoQUUyBjGdaM",
    "outputId": "428b180f-263c-4d05-f75c-90ebfee3c69f"
   },
   "outputs": [
    {
     "name": "stdout",
     "output_type": "stream",
     "text": [
      "{0: 0.5021232595815724, 1: 118.24349315068493}\n"
     ]
    }
   ],
   "source": [
    "# Compute class weights:\n",
    "classes = np.unique(y)\n",
    "labels = np.squeeze(y)\n",
    "weights = compute_class_weight('balanced',classes,labels)\n",
    "\n",
    "class_weights = {}\n",
    "for k,wt in zip(classes,weights):\n",
    "    class_weights[k] = wt\n",
    "pprint(class_weights)"
   ]
  },
  {
   "cell_type": "markdown",
   "metadata": {
    "colab_type": "text",
    "id": "_vBvBVQfG3tF"
   },
   "source": [
    "Although these weights are _almost_ identical to the ones included in the data set, they differ by fractions of a percent. This is because we have actually calculated the weights for the _entire_ data set. In practice, we would calculate weights for the training set only, leaving out all testing data, making the weights slightly different depending on how we split our data into a testing and training set."
   ]
  },
  {
   "cell_type": "code",
   "execution_count": 114,
   "metadata": {
    "colab": {
     "base_uri": "https://localhost:8080/",
     "height": 52
    },
    "colab_type": "code",
    "id": "OwnyzIFfD023",
    "outputId": "0567b84f-96c6-441c-f441-51cf5bec2bb9"
   },
   "outputs": [
    {
     "name": "stdout",
     "output_type": "stream",
     "text": [
      "2\n",
      "[  0.50212326 118.24349315]\n"
     ]
    }
   ],
   "source": [
    "# Compute sample weights:\n",
    "sample_weights = compute_sample_weight(class_weights,y)\n",
    "print(len(weights))\n",
    "print(np.unique(weights))"
   ]
  },
  {
   "cell_type": "markdown",
   "metadata": {
    "colab_type": "text",
    "id": "jWW13PJ9Hu_m"
   },
   "source": [
    "## X matrix\n",
    "\n",
    "The next object we explore is the input array X. The input array has already been prepared ahead of time from the _actual_ data (the entire 50 Mbp sequence of chromosome 22) as follows.\n",
    "\n",
    "First, the entire chromosome is chopped into 101-mers (k-mers of length 101). Each 101-mer is a string of 101 characters from a 4-letter alphabet (GTAC). \n",
    "\n",
    "The 101-mer is then converted to a numerical format more conducive for a neural network through **one-hot encoding**. This is where a categorical input variable (a categorical column that has N distinct classes) is converted to a vector of N 0s and 1s, one for each category.\n",
    "\n",
    "Thus, a column of data like this:\n",
    "\n",
    "| ix |  color |\n",
    "|----|--------|\n",
    "| 1  | red    |\n",
    "| 2  | blue   |\n",
    "| 3  | blue   |\n",
    "| 4  | red    |\n",
    "| 5  | blue   |\n",
    "| 6  | red    |\n",
    "| 7  | blue   |\n",
    "| 8  | green  |\n",
    "\n",
    "would be converted into 3 columns of data like this:\n",
    "\n",
    "| ix | red | blue | green |\n",
    "|----|-----|------|-------|\n",
    "| 1  |  1  |  0   |  0    |\n",
    "| 2  |  0  |  1   |  0    |\n",
    "| 3  |  0  |  1   |  0    |\n",
    "| 4  |  1  |  0   |  0    |\n",
    "| 5  |  0  |  1   |  0    |\n",
    "| 6  |  1  |  0   |  0    |\n",
    "| 7  |  0  |  1   |  0    |\n",
    "| 8  |  0  |  0   |  1    |"
   ]
  },
  {
   "cell_type": "markdown",
   "metadata": {
    "colab_type": "text",
    "id": "tHF87wI0PSND"
   },
   "source": [
    "Each kmer is one-hot-encoded by one-hot-encoding _each_ nucleotide position. This gives a total of 4 labels (ACGT) for each of the 101 positions. Thus, X contains one $4 x 101$ matrix (one row per possible nucleotide, one column per position) of 0s and 1s for each 101-mer in human chromosome 22.\n",
    "\n",
    "Let's look at a short example: consider the 6-mer AGGATC. We can one-hot encode this as follows:\n",
    "\n",
    "Create a $4 x 6$ array of 0s and 1s, with one row per possible nucleotide, and one column per nucleotide position. One row per column will be 1, the rest 0.\n",
    "\n",
    "The one-hot encoded representation of AGGATC is:\n",
    "\n",
    "```\n",
    "A    1 0 0 1 0 0\n",
    "C    0 0 0 0 0 1\n",
    "G    0 1 1 0 0 0\n",
    "T    0 0 0 0 1 0\n",
    "```\n",
    "\n",
    "Let's look at an example:"
   ]
  },
  {
   "cell_type": "code",
   "execution_count": 115,
   "metadata": {
    "colab": {
     "base_uri": "https://localhost:8080/",
     "height": 245
    },
    "colab_type": "code",
    "id": "X3IeKEApHkxW",
    "outputId": "08aacb31-372f-4cf8-842e-31e8992ae5f1"
   },
   "outputs": [
    {
     "name": "stdout",
     "output_type": "stream",
     "text": [
      "(101, 4)\n",
      "[[1 1 0 0 0 0 0 0 0 0 0 0 0 0 0 0 0 0 1 0 1 0 1 0 0 0 0 0 0 0 0 0 0 0 0 0\n",
      "  0 0 0 0 0 0 0 1 1 0 0 0 0 0 0 0 0 0 0 1 1 1 0 0 0 0 0 0 0 0 0 0 0 1 1 0\n",
      "  0 1 1 0 0 0 1 0 0 0 0 0 0 0 0 1 0 0 0 0 0 0 0 1 1 1 0 0 0]\n",
      " [0 0 0 0 0 0 0 0 0 0 0 1 0 0 0 0 0 0 0 0 0 0 0 0 0 0 0 0 0 0 0 0 0 1 0 0\n",
      "  0 0 0 0 0 1 1 0 0 0 0 1 0 0 0 0 1 0 1 0 0 0 1 0 1 1 0 0 0 0 0 0 1 0 0 0\n",
      "  1 0 0 0 1 1 0 1 1 0 0 1 1 0 1 0 0 1 1 0 1 1 1 0 0 0 0 0 0]\n",
      " [0 0 0 0 0 0 0 0 0 0 0 0 0 0 0 0 1 0 0 1 0 1 0 0 1 1 1 1 0 1 0 1 1 0 0 1\n",
      "  0 1 0 0 1 0 0 0 0 1 1 0 0 1 1 0 0 0 0 0 0 0 0 0 0 0 0 1 1 1 0 0 0 0 0 1\n",
      "  0 0 0 0 0 0 0 0 0 0 1 0 0 0 0 0 1 0 0 0 0 0 0 0 0 0 1 0 1]\n",
      " [0 0 1 1 1 1 1 1 1 1 1 0 1 1 1 1 0 1 0 0 0 0 0 1 0 0 0 0 1 0 1 0 0 0 1 0\n",
      "  1 0 1 1 0 0 0 0 0 0 0 0 1 0 0 1 0 1 0 0 0 0 0 1 0 0 1 0 0 0 1 1 0 0 0 0\n",
      "  0 0 0 1 0 0 0 0 0 1 0 0 0 1 0 0 0 0 0 1 0 0 0 0 0 0 0 1 0]]\n"
     ]
    }
   ],
   "source": [
    "encoded_bind_site = X[1000]\n",
    "print(np.shape(encoded_bind_site))\n",
    "print(encoded_bind_site.T)"
   ]
  },
  {
   "cell_type": "code",
   "execution_count": 118,
   "metadata": {
    "colab": {
     "base_uri": "https://localhost:8080/",
     "height": 35
    },
    "colab_type": "code",
    "id": "q6Ba2B9xW7BO",
    "outputId": "6bb24e65-e0ea-494f-8038-ce0b0eb36ba2"
   },
   "outputs": [
    {
     "name": "stdout",
     "output_type": "stream",
     "text": [
      "AATTTTTTTTTCTTTTGTAGAGATGGGGTGTGGCTGTGTTGCCAAGGCTGGTCTCAAACTCCTGGGTTCAAGCAATCCACCTGCCTCAGCCTCCCAAAGTG\n"
     ]
    }
   ],
   "source": [
    "sequence = []\n",
    "codons = ['A','C','G','T']\n",
    "\n",
    "for ii in range(np.shape(encoded_bind_site)[0]):\n",
    "    for jj in range(np.shape(encoded_bind_site)[1]):\n",
    "        v = encoded_bind_site[ii][jj]\n",
    "        if v==1:\n",
    "            sequence.append(codons[jj])\n",
    "print(\"\".join(sequence))"
   ]
  },
  {
   "cell_type": "markdown",
   "metadata": {
    "colab_type": "text",
    "id": "7q5jcZE3ZjFy"
   },
   "source": [
    "We can verify that this is in fact the encoding scheme for the k-mers by searching for the above 101-mer using the [UCSC Genome Browser](http://genome.ucsc.edu/).\n",
    "\n",
    "## Summary\n",
    "\n",
    "This notebook demonstrates the important first step in any machine learning problem, which is examining your data, characterizing it, examining various statistics, and understanding what problems you may run into when creating a machine learning model."
   ]
  }
 ],
 "metadata": {
  "colab": {
   "collapsed_sections": [],
   "include_colab_link": true,
   "name": "data-exploration_dna_transcription.ipynb",
   "provenance": [],
   "version": "0.3.2"
  },
  "kernelspec": {
   "display_name": "Python 3",
   "language": "python",
   "name": "python3"
  },
  "language_info": {
   "codemirror_mode": {
    "name": "ipython",
    "version": 3
   },
   "file_extension": ".py",
   "mimetype": "text/x-python",
   "name": "python",
   "nbconvert_exporter": "python",
   "pygments_lexer": "ipython3",
   "version": "3.6.7"
  }
 },
 "nbformat": 4,
 "nbformat_minor": 1
}
