{
  "nbformat": 4,
  "nbformat_minor": 0,
  "metadata": {
    "colab": {
      "name": "keras-ch6.ipynb",
      "version": "0.3.2",
      "provenance": [],
      "collapsed_sections": [],
      "include_colab_link": true
    },
    "kernelspec": {
      "name": "python3",
      "display_name": "Python 3"
    },
    "accelerator": "GPU"
  },
  "cells": [
    {
      "cell_type": "markdown",
      "metadata": {
        "id": "view-in-github",
        "colab_type": "text"
      },
      "source": [
        "<a href=\"https://colab.research.google.com/github/charlesreid1/dib-deep-chem/blob/master/ch6/keras_ch6.ipynb\" target=\"_parent\"><img src=\"https://colab.research.google.com/assets/colab-badge.svg\" alt=\"Open In Colab\"/></a>"
      ]
    },
    {
      "cell_type": "markdown",
      "metadata": {
        "id": "ojiEwxAcx0nb",
        "colab_type": "text"
      },
      "source": [
        "# Chapter 6 Redux: Keras, Not DeepChem\n",
        "\n",
        "Walk through Chapter 6 examples using Keras instead of DeepChem.\n",
        "\n",
        "The DeepChem custom data loader classes mostly use `joblib`under the hood. `joblib` allows the data sets to be stored in a compressed format (similar to a pickle but more efficient)."
      ]
    },
    {
      "cell_type": "code",
      "metadata": {
        "id": "3Okf1AJxXbvW",
        "colab_type": "code",
        "colab": {}
      },
      "source": [
        "import os\n",
        "import math\n",
        "\n",
        "# For loading data sets\n",
        "import joblib\n",
        "\n",
        "# For making plots and stuff\n",
        "import matplotlib.pyplot as plt\n",
        "import seaborn as sns\n",
        "\n",
        "# ROC curve\n",
        "from sklearn.metrics import roc_curve"
      ],
      "execution_count": 0,
      "outputs": []
    },
    {
      "cell_type": "code",
      "metadata": {
        "id": "ulv1xNd9IEa8",
        "colab_type": "code",
        "colab": {}
      },
      "source": [
        "# Make sure we're using the GPU\n",
        "import tensorflow as tf\n",
        "device_name = tf.test.gpu_device_name()\n",
        "if device_name != '/device:GPU:0':\n",
        "    raise SystemError('GPU device not found')"
      ],
      "execution_count": 0,
      "outputs": []
    },
    {
      "cell_type": "markdown",
      "metadata": {
        "id": "AQfnotygulLa",
        "colab_type": "text"
      },
      "source": [
        "We should also install [keras-metrics](https://pypi.org/project/keras-metrics/) to give us a wider selection of metrics. (Unfortunately, the keras developers have strong opinions about whether metrics should be included or not, e.g., [Github issue](https://github.com/keras-team/keras/issues/5794), so we have to resort to an external package to implement these.)"
      ]
    },
    {
      "cell_type": "code",
      "metadata": {
        "id": "HVJ_9ke6ufnj",
        "colab_type": "code",
        "colab": {
          "base_uri": "https://localhost:8080/",
          "height": 249
        },
        "outputId": "5f050c2a-0573-45d4-c9a9-57ffdb1bd7cc"
      },
      "source": [
        "!pip install keras-metrics"
      ],
      "execution_count": 133,
      "outputs": [
        {
          "output_type": "stream",
          "text": [
            "Collecting keras-metrics\n",
            "  Downloading https://files.pythonhosted.org/packages/32/c9/a87420da8e73de944e63a8e9cdcfb1f03ca31a7c4cdcdbd45d2cdf13275a/keras_metrics-1.1.0-py2.py3-none-any.whl\n",
            "Requirement already satisfied: Keras>=2.1.5 in /usr/local/lib/python3.6/dist-packages (from keras-metrics) (2.2.4)\n",
            "Requirement already satisfied: h5py in /usr/local/lib/python3.6/dist-packages (from Keras>=2.1.5->keras-metrics) (2.8.0)\n",
            "Requirement already satisfied: pyyaml in /usr/local/lib/python3.6/dist-packages (from Keras>=2.1.5->keras-metrics) (3.13)\n",
            "Requirement already satisfied: numpy>=1.9.1 in /usr/local/lib/python3.6/dist-packages (from Keras>=2.1.5->keras-metrics) (1.16.3)\n",
            "Requirement already satisfied: keras-preprocessing>=1.0.5 in /usr/local/lib/python3.6/dist-packages (from Keras>=2.1.5->keras-metrics) (1.0.9)\n",
            "Requirement already satisfied: six>=1.9.0 in /usr/local/lib/python3.6/dist-packages (from Keras>=2.1.5->keras-metrics) (1.12.0)\n",
            "Requirement already satisfied: keras-applications>=1.0.6 in /usr/local/lib/python3.6/dist-packages (from Keras>=2.1.5->keras-metrics) (1.0.7)\n",
            "Requirement already satisfied: scipy>=0.14 in /usr/local/lib/python3.6/dist-packages (from Keras>=2.1.5->keras-metrics) (1.2.1)\n",
            "Installing collected packages: keras-metrics\n",
            "Successfully installed keras-metrics-1.1.0\n"
          ],
          "name": "stdout"
        }
      ]
    },
    {
      "cell_type": "code",
      "metadata": {
        "id": "GXl_7pRouifH",
        "colab_type": "code",
        "colab": {}
      },
      "source": [
        "import keras_metrics as km"
      ],
      "execution_count": 0,
      "outputs": []
    },
    {
      "cell_type": "markdown",
      "metadata": {
        "id": "X_ZmE1pq0Rdf",
        "colab_type": "text"
      },
      "source": [
        "# Transcription Factor Example\n"
      ]
    },
    {
      "cell_type": "markdown",
      "metadata": {
        "id": "BtASXPfod9BK",
        "colab_type": "text"
      },
      "source": [
        "\n",
        "## Overview\n",
        "\n",
        "This example will use a data set about a transcription factor called JUND. The data set used in this example comes from the human chromosome 22 (the smallest human chromosome). It is 50 Mbp.\n",
        "\n",
        "The chromosome is broken into short segments of 101 base pairs.\n",
        "\n",
        "One hot encoding is used to represent the sequences (i.e., each base pair is turned into a vector of 0s and 1s)."
      ]
    },
    {
      "cell_type": "code",
      "metadata": {
        "id": "jXfwn_SgkVVs",
        "colab_type": "code",
        "outputId": "5b8d8618-099b-4759-dc9f-02feff4e1be9",
        "colab": {
          "base_uri": "https://localhost:8080/",
          "height": 35
        }
      },
      "source": [
        "!git clone https://github.com/deepchem/DeepLearningLifeSciences.git"
      ],
      "execution_count": 58,
      "outputs": [
        {
          "output_type": "stream",
          "text": [
            "fatal: destination path 'DeepLearningLifeSciences' already exists and is not an empty directory.\n"
          ],
          "name": "stdout"
        }
      ]
    },
    {
      "cell_type": "code",
      "metadata": {
        "id": "4RVPiF3TkYw7",
        "colab_type": "code",
        "colab": {}
      },
      "source": [
        "!ln -fs DeepLearningLifeSciences/Chapter06/{test*,train*,valid*} ."
      ],
      "execution_count": 0,
      "outputs": []
    },
    {
      "cell_type": "markdown",
      "metadata": {
        "id": "lhKIRcW2kSp-",
        "colab_type": "text"
      },
      "source": [
        "## 1D Convolutional Neural Networks\n",
        "\n",
        "Beacuse we are dealing with a 1D sequence of data, we use a convolutional neural network (CNN) that performs the convolution in 1 dimension (1D CNN).\n",
        "\n",
        "(A 2D convolutional neural network would be good for spatial or image data, while a 3D convolutional neural network would be good for volumetric data.)\n",
        "\n",
        "Typically, 1D convolutional neural networks have the following layers:\n",
        "\n",
        "* Convolution layer, or (for 2D CNN) multiple convolution layers followed by a pooling layer\n",
        "\n",
        "* Dropout layer (optional)\n",
        "\n",
        "* Flatten layer (all output becomes 1D)\n",
        "\n",
        "* Dense layer (everything-connected-to-everything network; number of dense output neurons = number of classes)"
      ]
    },
    {
      "cell_type": "markdown",
      "metadata": {
        "id": "jTlyUojzhDh0",
        "colab_type": "text"
      },
      "source": [
        "**Strategy:** We start by implementing a 1D CNN using the architecture in Chapter 6 of <u>Deep Learning for the Life Sciences</u>. We then implement another 1D CNN model using an example from the [Keras documentation](https://keras.io/getting-started/sequential-model-guide/#sequence-classification-with-1d-convolutions) for sequence classification using Keras. It uses a different sequence of layers."
      ]
    },
    {
      "cell_type": "markdown",
      "metadata": {
        "id": "YPmWItnDg6Fq",
        "colab_type": "text"
      },
      "source": [
        "## Chapter 6 1D CNN\n",
        "\n",
        "Before we get to the CNN layers, we start with some imports and setup:"
      ]
    },
    {
      "cell_type": "code",
      "metadata": {
        "id": "a_ABqpaI6MoF",
        "colab_type": "code",
        "colab": {}
      },
      "source": [
        "import numpy as np\n",
        "\n",
        "import keras\n",
        "\n",
        "from keras import metrics\n",
        "\n",
        "from keras.models import Sequential, Model\n",
        "from keras.layers import Flatten, Embedding, Dense, Dropout, Input, Concatenate\n",
        "from keras.layers import Conv1D, GlobalAveragePooling1D, MaxPooling1D"
      ],
      "execution_count": 0,
      "outputs": []
    },
    {
      "cell_type": "markdown",
      "metadata": {
        "id": "AE5ENDnmIgDD",
        "colab_type": "text"
      },
      "source": [
        "Now we bypass the DeepChem `DiskDataset` class to load the data set directly using joblib:"
      ]
    },
    {
      "cell_type": "code",
      "metadata": {
        "id": "PTlq6lKdIfjj",
        "colab_type": "code",
        "colab": {}
      },
      "source": [
        "def load_dataset(which_dataset):\n",
        "    import os\n",
        "    \n",
        "    if which_dataset not in ['train','valid','test']:\n",
        "        raise Exception(\"Error: can only load datasets 'train', 'valid', or 'test', you specified %s\"%(which_dataset))\n",
        "    \n",
        "    # Set data directory name\n",
        "    data_dir = \"%s_dataset\"%(which_dataset)\n",
        "    \n",
        "    # Set filenames for X, y, w, labels\n",
        "    base_filename = \"shard-0-%s.joblib\"\n",
        "    X_filename    = os.path.join(data_dir,base_filename%(\"X\"))\n",
        "    y_filename    = os.path.join(data_dir,base_filename%(\"y\"))\n",
        "    w_filename    = os.path.join(data_dir,base_filename%(\"w\"))\n",
        "    ids_filename  = os.path.join(data_dir,base_filename%(\"ids\"))\n",
        "    \n",
        "    X = joblib.load(X_filename)\n",
        "    y = joblib.load(y_filename)\n",
        "    w = joblib.load(w_filename)\n",
        "    ids = joblib.load(ids_filename)\n",
        "    \n",
        "    return X, y, w, ids"
      ],
      "execution_count": 0,
      "outputs": []
    },
    {
      "cell_type": "code",
      "metadata": {
        "id": "irfGJhQZQpbM",
        "colab_type": "code",
        "colab": {
          "base_uri": "https://localhost:8080/",
          "height": 229
        },
        "outputId": "5bd83fa4-dcbb-4701-ebc2-45080a3ea886"
      },
      "source": [
        "train = load_dataset('train')\n",
        "valid = load_dataset('valid')\n",
        "test = load_dataset('test')\n",
        "\n",
        "X_train, y_train, w_train, ids_train = load_dataset('train')\n",
        "X_valid, y_valid, w_valid, ids_valid = load_dataset('valid')\n",
        "X_test, y_test, w_test, ids_test = load_dataset('test')\n",
        "\n",
        "n_train_obs = np.shape(X_train)[0]\n",
        "n_valid_obs = np.shape(X_valid)[0]\n",
        "n_test_obs = np.shape(X_test)[0]\n",
        "\n",
        "print('-'*20)\n",
        "print('training data shape:')\n",
        "print(np.shape(X_train))\n",
        "print(np.shape(y_train))\n",
        "print('-'*20)\n",
        "print('validation data shape:')\n",
        "print(np.shape(X_valid))\n",
        "print(np.shape(y_valid))\n",
        "print('-'*20)\n",
        "print('test data shape:')\n",
        "print(np.shape(X_test))\n",
        "print(np.shape(y_test))"
      ],
      "execution_count": 62,
      "outputs": [
        {
          "output_type": "stream",
          "text": [
            "--------------------\n",
            "training data shape:\n",
            "(276216, 101, 4)\n",
            "(276216, 1)\n",
            "--------------------\n",
            "validation data shape:\n",
            "(34527, 101, 4)\n",
            "(34527, 1)\n",
            "--------------------\n",
            "test data shape:\n",
            "(34528, 101, 4)\n",
            "(34528, 1)\n"
          ],
          "name": "stdout"
        }
      ]
    },
    {
      "cell_type": "code",
      "metadata": {
        "id": "367znoXkLcfa",
        "colab_type": "code",
        "colab": {
          "base_uri": "https://localhost:8080/",
          "height": 35
        },
        "outputId": "e5a6bac4-f045-4470-db39-dfa1d36196cc"
      },
      "source": [
        "print(type(y_test[0][0]))"
      ],
      "execution_count": 63,
      "outputs": [
        {
          "output_type": "stream",
          "text": [
            "<class 'numpy.int64'>\n"
          ],
          "name": "stdout"
        }
      ]
    },
    {
      "cell_type": "markdown",
      "metadata": {
        "id": "JfaJV4Oi-rqy",
        "colab_type": "text"
      },
      "source": [
        "### 1D Convolutional Neural Net Implementation\n",
        "\n",
        "We have translated the example for DeepChem to Keras as best we can.\n",
        "\n",
        "Keras documentation links:\n",
        "* [Conv1D layer](https://keras.io/layers/convolutional/)\n",
        "* [MaxPooling1D layer](https://keras.io/layers/pooling/)\n",
        "\n",
        "The 1D convolutional neural net in Chapter 6 has the following layers:\n",
        "\n"
      ]
    },
    {
      "cell_type": "code",
      "metadata": {
        "id": "EpKSj2OD6MdR",
        "colab_type": "code",
        "colab": {}
      },
      "source": [
        "features = 4\n",
        "seq_length = 101\n",
        "convolution_window = 10\n",
        "n_filters = 15\n",
        "\n",
        "model = Sequential()\n",
        "\n",
        "# Unroll the book's for loop\n",
        "\n",
        "# Convolution layer 1\n",
        "model.add(Conv1D(n_filters, convolution_window, \n",
        "                 activation='relu', padding='same', \n",
        "                 input_shape=(seq_length, features)))\n",
        "\n",
        "model.add(Dropout(0.5))\n",
        "\n",
        "# Convolution layer 2\n",
        "model.add(Conv1D(n_filters, convolution_window, \n",
        "                 activation='relu', padding='same'))\n",
        "\n",
        "model.add(Dropout(0.5))\n",
        "\n",
        "# Convolution layer 3\n",
        "model.add(Conv1D(n_filters, convolution_window, \n",
        "                 activation='relu', padding='same'))\n",
        "\n",
        "model.add(Dropout(0.5))\n",
        "\n",
        "# Flatten to 1D\n",
        "model.add(Flatten())\n",
        "\n",
        "# Shrink to 1 neuron for binary classification\n",
        "model.add(Dense(1, activation='sigmoid'))\n",
        "\n",
        "model.compile(loss='binary_crossentropy',\n",
        "              optimizer='rmsprop',\n",
        "              metrics=['accuracy','binary_crossentropy'])"
      ],
      "execution_count": 0,
      "outputs": []
    },
    {
      "cell_type": "markdown",
      "metadata": {
        "id": "_DpIyvk3uxhg",
        "colab_type": "text"
      },
      "source": [
        "**Side Note:** as per [this Keras issue](https://github.com/keras-team/keras/issues/3230), the ROC AUC cannot be implemented directly as a metric by Keras because the metrics must be symbolic. We show how to plot the ROC curve in post-processing below."
      ]
    },
    {
      "cell_type": "markdown",
      "metadata": {
        "id": "swfa1k_npE_-",
        "colab_type": "text"
      },
      "source": [
        "Now train the model:"
      ]
    },
    {
      "cell_type": "code",
      "metadata": {
        "id": "iBRXjZujpH5z",
        "colab_type": "code",
        "colab": {}
      },
      "source": [
        "# Train the model for 10 epochs,\n",
        "# then evaluate/save the ROC curve\n",
        "num_epochs = 10\n",
        "hist = model.fit(X_train, y_train,\n",
        "                 batch_size=1000, \n",
        "                 epochs=num_epochs,\n",
        "                 verbose = 0,\n",
        "                 validation_data=(X_valid, y_valid))"
      ],
      "execution_count": 0,
      "outputs": []
    },
    {
      "cell_type": "markdown",
      "metadata": {
        "id": "i8Prp_9wpWEe",
        "colab_type": "text"
      },
      "source": [
        "Now we can visualize the performance of the binary classification task using the ROC (receiver operating characteristic) curve, which shows true positives versus false positives - focusing on the O(100) positive instances, rather than all 30,000+ data points. The closer to x = y the curve gets, the worse it performs. Ideally we have a large area under the curve.\n",
        "\n",
        "The sklearn package has the ROC curve as a built-in metric:"
      ]
    },
    {
      "cell_type": "code",
      "metadata": {
        "id": "RnpN_Js0OxXU",
        "colab_type": "code",
        "colab": {
          "base_uri": "https://localhost:8080/",
          "height": 313
        },
        "outputId": "28acb5ca-24a8-4d97-f86a-220a84a2fbe7"
      },
      "source": [
        "# Useful function for plotting the ROC curve\n",
        "from sklearn.metrics import roc_curve\n",
        "\n",
        "# Get model predictions on test data\n",
        "y_model = model.predict(X_test).ravel()\n",
        "\n",
        "# Form the ROC curve values\n",
        "fpr, tpr, _ = roc_curve(y_test, y_model)\n",
        "\n",
        "plt.plot(fpr, tpr)\n",
        "plt.xlabel('False positive rate')\n",
        "plt.ylabel('True positive rate')\n",
        "plt.plot([0, 1], [0, 1], 'k--')\n",
        "plt.plot(fpr, tpr)\n",
        "plt.title('ROC curve')\n",
        "plt.legend(loc='best')\n",
        "plt.show()"
      ],
      "execution_count": 66,
      "outputs": [
        {
          "output_type": "stream",
          "text": [
            "No handles with labels found to put in legend.\n"
          ],
          "name": "stderr"
        },
        {
          "output_type": "display_data",
          "data": {
            "image/png": "[encoded data removed]",
            "text/plain": [
              "<Figure size 432x288 with 1 Axes>"
            ]
          },
          "metadata": {
            "tags": []
          }
        }
      ]
    },
    {
      "cell_type": "markdown",
      "metadata": {
        "id": "GcN3JmJMrE_p",
        "colab_type": "text"
      },
      "source": [
        "...it's not so good.\n",
        "\n",
        "If we call the `evaluate()` method on the model, it returns the loss value and metrics values for the model in test mode.\n",
        "\n",
        "Here are the loss value and accuracy for our model run on the test data:"
      ]
    },
    {
      "cell_type": "code",
      "metadata": {
        "id": "j_Iqils1RFeF",
        "colab_type": "code",
        "colab": {
          "base_uri": "https://localhost:8080/",
          "height": 52
        },
        "outputId": "3f3997fb-54a1-4048-cf90-ec2e9dff141f"
      },
      "source": [
        "scores = model.evaluate(X_test, y_test, verbose=0)\n",
        "print(\"Loss value: %0.4f\"%(scores[0]))\n",
        "print(\"Accuracy: %0.4f\"%(scores[1]))"
      ],
      "execution_count": 67,
      "outputs": [
        {
          "output_type": "stream",
          "text": [
            "Loss value: 0.0451\n",
            "Accuracy: 0.9958\n"
          ],
          "name": "stdout"
        }
      ]
    },
    {
      "cell_type": "markdown",
      "metadata": {
        "id": "9hNLrCaZrXI-",
        "colab_type": "text"
      },
      "source": [
        "We have an accuracy of 99.5% - what's going on here? \n",
        "\n",
        "First, we have only 0s and 1s in our \"true\" output:"
      ]
    },
    {
      "cell_type": "code",
      "metadata": {
        "id": "tgm1YOsdrWe4",
        "colab_type": "code",
        "colab": {
          "base_uri": "https://localhost:8080/",
          "height": 35
        },
        "outputId": "9673e8de-44e4-407c-881e-9ba427b78123"
      },
      "source": [
        "print(np.unique(y_test))"
      ],
      "execution_count": 68,
      "outputs": [
        {
          "output_type": "stream",
          "text": [
            "[0 1]\n"
          ],
          "name": "stdout"
        }
      ]
    },
    {
      "cell_type": "markdown",
      "metadata": {
        "id": "sAfTdM94sQrj",
        "colab_type": "text"
      },
      "source": [
        "But the distribution of our two values are extremely skewed:"
      ]
    },
    {
      "cell_type": "code",
      "metadata": {
        "id": "FCHdEclBsD9P",
        "colab_type": "code",
        "colab": {
          "base_uri": "https://localhost:8080/",
          "height": 52
        },
        "outputId": "fb4e5f78-af96-40b4-b47c-a562d93a032e"
      },
      "source": [
        "print(sum(y_test==0))\n",
        "print(sum(y_test==1))"
      ],
      "execution_count": 69,
      "outputs": [
        {
          "output_type": "stream",
          "text": [
            "[34382]\n",
            "[146]\n"
          ],
          "name": "stdout"
        }
      ]
    },
    {
      "cell_type": "markdown",
      "metadata": {
        "id": "MdCWuLHgscPE",
        "colab_type": "text"
      },
      "source": [
        "Because less than 1% of the examples are positive examples, any metric that counts correct negative guesses toward the metric will be too high to be helpful. That's why the \"accuracy\" is so high when our ROC curve shows that the model actually stinks."
      ]
    },
    {
      "cell_type": "markdown",
      "metadata": {
        "id": "Qayoy9qTqd-t",
        "colab_type": "text"
      },
      "source": [
        "The model fit process saves out the history of the loss function and metrics at each epoch, so we can visualize those:"
      ]
    },
    {
      "cell_type": "code",
      "metadata": {
        "id": "G-igMC4XRmAm",
        "colab_type": "code",
        "colab": {
          "base_uri": "https://localhost:8080/",
          "height": 296
        },
        "outputId": "3dd71f54-b36a-4d06-9b42-78c7b7248133"
      },
      "source": [
        "plt.plot(hist.history['loss'])\n",
        "plt.plot(hist.history['val_loss'])\n",
        "plt.title('Loss Rate', size=14)\n",
        "plt.ylabel('Loss')\n",
        "plt.xlabel('Epoch')\n",
        "plt.legend(['Training', 'Testing'], loc='upper right')\n",
        "plt.show()\n",
        "\n",
        "if False:\n",
        "    plt.plot(hist.history['binary_crossentropy'])\n",
        "    plt.plot(hist.history['val_binary_crossentropy'])\n",
        "    plt.title('Binary Cross-Entropy', size=14)\n",
        "    plt.ylabel('Binary Cross-Entropy')\n",
        "    plt.xlabel('Epoch')\n",
        "    plt.legend(['Training','Testing'], loc='lower right')\n",
        "    plt.show()"
      ],
      "execution_count": 70,
      "outputs": [
        {
          "output_type": "display_data",
          "data": {
            "image/png": "[encoded data removed]",
            "text/plain": [
              "<Figure size 432x288 with 1 Axes>"
            ]
          },
          "metadata": {
            "tags": []
          }
        }
      ]
    },
    {
      "cell_type": "markdown",
      "metadata": {
        "id": "t6HtqjirWU0L",
        "colab_type": "text"
      },
      "source": [
        "# Using the Keras Example 1D CNN\n",
        "\n",
        "The convolutional neural network proposed in Chapter 6 does not match the 1D convolutional neural net example contained in the Keras documentation [here](https://keras.io/getting-started/sequential-model-guide/#sequence-classification-with-1d-convolutions), so before we move on to adding chromatin data, we try the Keras architecture, and see if there is a significant difference in performance.\n",
        "\n",
        "**NOTE:** The main difference between the Keras 1D CNN and the Chapter 6 1D CNN is, the Chapter 6 1D CNN uses more dropout layers to prevent overfitting."
      ]
    },
    {
      "cell_type": "code",
      "metadata": {
        "id": "ln0TxKssWToX",
        "colab_type": "code",
        "colab": {}
      },
      "source": [
        "features = 4\n",
        "seq_length = 101\n",
        "convolution_window = 10\n",
        "n_filters = 15\n",
        "\n",
        "model2 = Sequential()\n",
        "\n",
        "model2.add(Conv1D(n_filters, convolution_window,\n",
        "                  activation='relu', padding='same',\n",
        "                  input_shape=(seq_length, features)))\n",
        "\n",
        "model2.add(Conv1D(n_filters, convolution_window,\n",
        "                  activation='relu', padding='same'))\n",
        "\n",
        "model2.add(MaxPooling1D(3))\n",
        "\n",
        "model2.add(Conv1D(2*n_filters, convolution_window,\n",
        "                  activation='relu', padding='same'))\n",
        "\n",
        "model2.add(Conv1D(2*n_filters, convolution_window,\n",
        "                  activation='relu', padding='same'))\n",
        "\n",
        "model2.add(GlobalAveragePooling1D())\n",
        "\n",
        "model2.add(Dropout(0.5))\n",
        "\n",
        "model2.add(Dense(1, activation='sigmoid'))\n",
        "\n",
        "model2.compile(loss='binary_crossentropy',\n",
        "              optimizer='rmsprop',\n",
        "              metrics=['accuracy'])"
      ],
      "execution_count": 0,
      "outputs": []
    },
    {
      "cell_type": "markdown",
      "metadata": {
        "id": "GOWTaGP4x4Hz",
        "colab_type": "text"
      },
      "source": [
        "Now fit the model to data as before:"
      ]
    },
    {
      "cell_type": "code",
      "metadata": {
        "id": "7KBQGXuN0W37",
        "colab_type": "code",
        "colab": {
          "base_uri": "https://localhost:8080/",
          "height": 409
        },
        "outputId": "b67d70b7-273d-4daa-8bd9-09947da3b5ec"
      },
      "source": [
        "# Train the model for 10 epochs,\n",
        "# then evaluate/save the ROC curve\n",
        "num_epochs = 10\n",
        "hist2 = model2.fit(X_train, y_train,\n",
        "                   batch_size=1000, \n",
        "                   epochs=num_epochs,\n",
        "                   verbose = 1,\n",
        "                   validation_data=(X_valid, y_valid))"
      ],
      "execution_count": 72,
      "outputs": [
        {
          "output_type": "stream",
          "text": [
            "Train on 276216 samples, validate on 34527 samples\n",
            "Epoch 1/10\n",
            "276216/276216 [==============================] - 4s 13us/step - loss: 0.0388 - acc: 0.9954 - val_loss: 0.0333 - val_acc: 0.9958\n",
            "Epoch 2/10\n",
            "276216/276216 [==============================] - 3s 10us/step - loss: 0.0340 - acc: 0.9958 - val_loss: 0.0298 - val_acc: 0.9958\n",
            "Epoch 3/10\n",
            "276216/276216 [==============================] - 3s 10us/step - loss: 0.0332 - acc: 0.9958 - val_loss: 0.0280 - val_acc: 0.9958\n",
            "Epoch 4/10\n",
            "276216/276216 [==============================] - 3s 10us/step - loss: 0.0325 - acc: 0.9958 - val_loss: 0.0275 - val_acc: 0.9958\n",
            "Epoch 5/10\n",
            "276216/276216 [==============================] - 3s 10us/step - loss: 0.0316 - acc: 0.9958 - val_loss: 0.0339 - val_acc: 0.9958\n",
            "Epoch 6/10\n",
            "276216/276216 [==============================] - 3s 10us/step - loss: 0.0311 - acc: 0.9958 - val_loss: 0.0322 - val_acc: 0.9958\n",
            "Epoch 7/10\n",
            "276216/276216 [==============================] - 3s 10us/step - loss: 0.0308 - acc: 0.9958 - val_loss: 0.0272 - val_acc: 0.9958\n",
            "Epoch 8/10\n",
            "276216/276216 [==============================] - 3s 10us/step - loss: 0.0305 - acc: 0.9958 - val_loss: 0.0277 - val_acc: 0.9958\n",
            "Epoch 9/10\n",
            "276216/276216 [==============================] - 3s 10us/step - loss: 0.0294 - acc: 0.9958 - val_loss: 0.0300 - val_acc: 0.9958\n",
            "Epoch 10/10\n",
            "276216/276216 [==============================] - 3s 10us/step - loss: 0.0292 - acc: 0.9958 - val_loss: 0.0266 - val_acc: 0.9958\n"
          ],
          "name": "stdout"
        }
      ]
    },
    {
      "cell_type": "code",
      "metadata": {
        "id": "5Yni4F3Yx6W8",
        "colab_type": "code",
        "colab": {
          "base_uri": "https://localhost:8080/",
          "height": 295
        },
        "outputId": "24a8707f-1270-457f-e3c0-309b0c01ec72"
      },
      "source": [
        "y_model1 = model.predict(X_test).ravel()\n",
        "fpr1, tpr1, _ = roc_curve(y_test, y_model1)\n",
        "\n",
        "y_model2 = model2.predict(X_test).ravel()\n",
        "fpr2, tpr2, _ = roc_curve(y_test, y_model2)\n",
        "\n",
        "plt.figure(1)\n",
        "plt.plot([0, 1], [0, 1], 'k--')\n",
        "plt.plot(fpr1, tpr1, label='Ch 6 arch', color='b')\n",
        "plt.plot(fpr2, tpr2, label='Keras ex arch', color='r')\n",
        "plt.xlabel('False positive rate')\n",
        "plt.ylabel('True positive rate')\n",
        "plt.title('ROC curve')\n",
        "plt.legend(loc='best')\n",
        "plt.show()"
      ],
      "execution_count": 73,
      "outputs": [
        {
          "output_type": "display_data",
          "data": {
            "image/png": "[encoded data removed]",
            "text/plain": [
              "<Figure size 432x288 with 1 Axes>"
            ]
          },
          "metadata": {
            "tags": []
          }
        }
      ]
    },
    {
      "cell_type": "markdown",
      "metadata": {
        "id": "5n_9GpgTMSF-",
        "colab_type": "text"
      },
      "source": [
        "The two models are virtually identical. This is not surprising - we would not expect a small change in the neural network architecture to drastically affect the model's ability to match the data."
      ]
    },
    {
      "cell_type": "markdown",
      "metadata": {
        "id": "jeM8AdM8zhu3",
        "colab_type": "text"
      },
      "source": [
        "# Adding Chromatin Accessibility Data\n",
        "\n",
        "The poor performance of the sequential model is no reason to give up. Rather than fiddling with the layers and parameters, we should start by adding more data to the model.\n",
        "\n",
        "Towards this end, we provide the model with additional data about availability of chromatin for each sequence. This requires making modifications to the neural network so it can take multiple inputs."
      ]
    },
    {
      "cell_type": "code",
      "metadata": {
        "id": "GSJZiLrZzCFi",
        "colab_type": "code",
        "colab": {
          "base_uri": "https://localhost:8080/",
          "height": 70
        },
        "outputId": "a6ba0b39-eede-4438-d8c7-0adf1ea8a56a"
      },
      "source": [
        "!ls DeepLearningLifeSciences/Chapter06/"
      ],
      "execution_count": 122,
      "outputs": [
        {
          "output_type": "stream",
          "text": [
            "chromatin.txt  tfbinding_chromatin.py  train_siRNA\n",
            "rnai.py        tfbinding.py\t       valid_dataset\n",
            "test_dataset   train_dataset\t       valid_siRNA\n"
          ],
          "name": "stdout"
        }
      ]
    },
    {
      "cell_type": "code",
      "metadata": {
        "id": "0v139UjjBuWp",
        "colab_type": "code",
        "colab": {}
      },
      "source": [
        "!ln -fs DeepLearningLifeSciences/Chapter06/chromatin.txt"
      ],
      "execution_count": 0,
      "outputs": []
    },
    {
      "cell_type": "code",
      "metadata": {
        "id": "nHserwDQCCFI",
        "colab_type": "code",
        "colab": {}
      },
      "source": [
        "span_accessibility = {}\n",
        "for line in open('chromatin.txt','r'):\n",
        "    fields = line.split()\n",
        "    span_accessibility[fields[0]] = float(fields[1])"
      ],
      "execution_count": 0,
      "outputs": []
    },
    {
      "cell_type": "code",
      "metadata": {
        "id": "BDkSew3qaoVV",
        "colab_type": "code",
        "colab": {}
      },
      "source": [
        "def get_accessibility_data():\n",
        "    \"\"\"Load the chromatin accessibility data\n",
        "    and return it as a Python dictionary indexed\n",
        "    by sequence IDs.\n",
        "    \"\"\"\n",
        "    # Load chromatin accessibility data\n",
        "    accessibility = {}\n",
        "    for line in open('chromatin.txt','r'):\n",
        "        fields = line.split()\n",
        "        accessibility[fields[0]] = float(fields[1])\n",
        "    return accessibility"
      ],
      "execution_count": 0,
      "outputs": []
    },
    {
      "cell_type": "markdown",
      "metadata": {
        "id": "6jJ13aANTw3r",
        "colab_type": "text"
      },
      "source": [
        "Now we need to add an additional input layer into the model. The book does this by adding one feature layer with one feature (the chromatin accessibility value), then concatenating the input to the final Flatten layer.\n",
        "\n",
        "We build a new chromatin model with the book's architecture. However, this time we build the model differently: we use the Keras functional API (where layers are called as functions, with the prior layer passed as arguments). This allows us to create a layer that concatenates multiple inputs."
      ]
    },
    {
      "cell_type": "code",
      "metadata": {
        "id": "IwEdTuI4CN0d",
        "colab_type": "code",
        "colab": {}
      },
      "source": [
        "features = 4\n",
        "seq_length = 101\n",
        "convolution_window = 10\n",
        "n_filters = 15\n",
        "\n",
        "# The following creates a model using the Keras functional API\n",
        "# (instead of using Sequential() and adding layers one at a time)\n",
        "\n",
        "# Sequence portion of the neural net\n",
        "sequence_input = Input(shape=(seq_length,features))\n",
        "\n",
        "# Layers for sequential data\n",
        "# \n",
        "# Layer 1\n",
        "seq = Conv1D(n_filters, convolution_window, \n",
        "           activation='relu', padding='same')(sequence_input)\n",
        "seq = Dropout(0.5)(seq)\n",
        "\n",
        "# Layer 2\n",
        "seq = Conv1D(n_filters, convolution_window, \n",
        "           activation='relu', padding='same')(seq)\n",
        "seq = Dropout(0.5)(seq)\n",
        "\n",
        "# Layer 3\n",
        "seq = Conv1D(n_filters, convolution_window, \n",
        "           activation='relu', padding='same')(seq)\n",
        "seq = Dropout(0.5)(seq)\n",
        "\n",
        "# Flatten to 1D\n",
        "seq = Flatten()(seq)\n",
        "\n",
        "# Assemble the sequential network\n",
        "seq = keras.Model(inputs=sequence_input, outputs=seq)\n",
        "\n",
        "# Layer for chromatin input\n",
        "chromatin_input = Input(shape=(1,))\n",
        "\n",
        "# Create a concatenation layer\n",
        "# that combines the output of the \n",
        "# 1D CNN with the chromatin coverage value\n",
        "fin = keras.layers.concatenate([seq.output,chromatin_input])\n",
        "\n",
        "fin = Dense(1,activation='sigmoid')(fin)\n",
        "\n",
        "chromatin_model = keras.Model(inputs=[seq.input,chromatin_input], outputs=fin)\n",
        "\n",
        "# Now compile the model\n",
        "chromatin_model.compile(loss='binary_crossentropy',\n",
        "                        optimizer='rmsprop',\n",
        "                        metrics=[km.categorical_precision(), km.binary_precision(), km.binary_recall()])"
      ],
      "execution_count": 0,
      "outputs": []
    },
    {
      "cell_type": "markdown",
      "metadata": {
        "id": "-8T-t3kNc1JJ",
        "colab_type": "text"
      },
      "source": [
        "Now our `chromatin_model` takes two inputs: one is our sequential input (as before), the other is the chromatin accessibility data."
      ]
    },
    {
      "cell_type": "markdown",
      "metadata": {
        "id": "0TX59RXzsy46",
        "colab_type": "text"
      },
      "source": [
        "### Keras Data Generator\n",
        "\n",
        "In the DeepChem book, the custom `DiskDataset` class provided by DeepChem has a built-in method to iterate through the data in batches. Because we've switched to Keras, we have extra work to do to implement our own data generator function.\n",
        "\n",
        "The sequence data generator can take any input arguments; each time it is called it should return a batch of data. When we fit our model to data, we should use the model function `fit_generator()` instead of `fit()`.\n",
        "\n",
        "Hat tip to a [pyimagesearch blog post](https://www.pyimagesearch.com/2018/12/24/how-to-use-keras-fit-and-fit_generator-a-hands-on-tutorial/) on this topic!"
      ]
    },
    {
      "cell_type": "code",
      "metadata": {
        "id": "N7-bMv3rf6ak",
        "colab_type": "code",
        "colab": {}
      },
      "source": [
        "# A generator function that generates\n",
        "# batches of input (sequence-plus-chromatin)\n",
        "# and output (0/1 labels) data\n",
        "\n",
        "def sequence_data_generator(mode, dataset, batch_size):\n",
        "    \"\"\"Generator function that returns one batch of data per call.\n",
        "    The neural net model takes two inputs, so this should\n",
        "    return a tuple, with the first input (one-hot encoded DNA \n",
        "    sequence) as the first item and the second input (chromatin\n",
        "    accessibility) as the second item.\n",
        "    \n",
        "    Args:\n",
        "        mode               String indicating generator mode\n",
        "                           (\"train\" loops infinitely, \"eval\" stops at end)\n",
        "        dataset            Which data set to load\n",
        "                           (\"train\", \"valid\", \"test\")\n",
        "        batch_size         Size of batch data returned\n",
        "    \"\"\"\n",
        "    if mode not in [\"train\",\"eval\"]:\n",
        "        raise Exception(\"Invalid mode specified: must be 'train' or 'eval'\")\n",
        "    if dataset not in [\"train\",\"valid\",\"test\"]:\n",
        "        raise Exception(\"Invalid dataset specified: must be 'train', 'valid', 'test'\")\n",
        "    \n",
        "    # Because our data set is small enough,\n",
        "    # we start by loading everything into\n",
        "    # memory, and loop over it to return batches.\n",
        "    data_dir = \"%s_dataset\"%(dataset)\n",
        "    base_filename = \"shard-0-%s.joblib\"\n",
        "    \n",
        "    # Load sequence data\n",
        "    X   = joblib.load(os.path.join(data_dir, base_filename%(\"X\")))\n",
        "    y   = joblib.load(os.path.join(data_dir, base_filename%(\"y\")))\n",
        "    w   = joblib.load(os.path.join(data_dir, base_filename%(\"w\")))\n",
        "    ids = joblib.load(os.path.join(data_dir, base_filename%(\"ids\")))\n",
        "    \n",
        "    # Load chromatin accessibility data\n",
        "    accessibility = get_accessibility_data()\n",
        "    \n",
        "    # Convert to numpy array\n",
        "    chrom_accessibility = np.array([accessibility[k] for k in ids])\n",
        "        \n",
        "    # Get some useful numbers\n",
        "    n_obs     = np.shape(X)[0]\n",
        "    n_batches = math.ceil(n_obs/batch_size)\n",
        "    if batch_size > n_obs:\n",
        "        raise Exception(\"Invalid batch_size specified: larger than data set!\")\n",
        "    \n",
        "\n",
        "    # Sequence data generators for keras \n",
        "    # should be infinite for training mode\n",
        "    # and should stop for evaluation mode\n",
        "    \n",
        "    batch_start = 0\n",
        "    batch_end = batch_start + batch_size\n",
        "    \n",
        "    # To assemble the batch:\n",
        "    # - get the X and y values corresponding to these observations\n",
        "    # - get the sequence IDs corresponding to observations\n",
        "    # - convert the sequence IDs to a chromatin accessibility vector\n",
        "    X_batch = X[batch_start:batch_end]\n",
        "    y_batch = y[batch_start:batch_end]\n",
        "    ids_batch = ids[batch_start:batch_end]\n",
        "    acc_batch = np.array([accessibility[k] for k in ids_batch])\n",
        "    yield ([X_batch,acc_batch], y_batch)\n",
        "    \n",
        "    while True:\n",
        "        \n",
        "        # Update indices\n",
        "        batch_start = batch_end\n",
        "        batch_end = batch_start + batch_size\n",
        "        \n",
        "        # Left and right halves of batch (X and chromatin access)\n",
        "        X_batch = None\n",
        "        y_batch = None\n",
        "        ids_batch = None\n",
        "        acc_batch = None\n",
        "        \n",
        "        if batch_end < n_obs:\n",
        "            \n",
        "            # Not at the end of the data set yet\n",
        "            X_batch = X[batch_start:batch_end]\n",
        "            y_batch = y[batch_start:batch_end]\n",
        "            ids_batch = ids[batch_start:batch_end]\n",
        "            acc_batch = np.array([accessibility[k] for k in ids_batch])\n",
        "            \n",
        "        else:\n",
        "            \n",
        "            # Reached end of data set\n",
        "            if mode==\"train\":\n",
        "                # Loop back around forever\n",
        "                batch_end = batch_end%n_obs\n",
        "                sss = X[batch_start:]\n",
        "                eee = X[:batch_end]\n",
        "                X_batch   = np.concatenate([X[batch_start:],X[:batch_end]])\n",
        "                y_batch   = np.concatenate([y[batch_start:],y[:batch_end]])\n",
        "                ids_batch = np.concatenate([ids[batch_start:], ids[:batch_end]])\n",
        "                acc_batch = np.array([accessibility[k] for k in ids_batch])\n",
        "                \n",
        "            elif mode==\"eval\":\n",
        "                # Reset counter\n",
        "                batch_end = 0\n",
        "                # Stop short at the end\n",
        "                X_batch   = X[batch_start:]\n",
        "                y_batch   = y[batch_start:]\n",
        "                ids_batch = ids[batch_start:]\n",
        "                acc_batch = np.array([accessibility[k] for k in ids_batch])\n",
        "\n",
        "        # Return a list of two inputs (to match the neural net architecture)\n",
        "        # and one output, glued together in a tuple\n",
        "        yield ([X_batch,acc_batch],y_batch)\n"
      ],
      "execution_count": 0,
      "outputs": []
    },
    {
      "cell_type": "code",
      "metadata": {
        "id": "-4F6-tQxg41j",
        "colab_type": "code",
        "colab": {}
      },
      "source": [
        "batch_size = 1000\n",
        "\n",
        "# We already know the size of the training, validation, and test sets\n",
        "# because we loaded them into memory earlier in the notebook, and did this:\n",
        "# n_train_obs = np.shape(X_train)[0]\n",
        "# n_valid_obs = np.shape(X_valid)[0]\n",
        "# n_test_obs = np.shape(X_test)[0]\n",
        "# \n",
        "# However, to use a generator to get data from on disk, we would need\n",
        "# metadata about the size of the dataset.\n",
        "\n",
        "training_generator = sequence_data_generator(mode=\"train\", \n",
        "                                             dataset=\"train\", \n",
        "                                             batch_size=batch_size)\n",
        "\n",
        "validation_generator = sequence_data_generator(mode=\"train\", \n",
        "                                               dataset=\"valid\", \n",
        "                                               batch_size=batch_size)\n",
        "\n",
        "testing_generator = sequence_data_generator(mode=\"eval\",\n",
        "                                            dataset=\"test\",\n",
        "                                            batch_size=batch_size)"
      ],
      "execution_count": 0,
      "outputs": []
    },
    {
      "cell_type": "code",
      "metadata": {
        "id": "WQlYgO5SaQRb",
        "colab_type": "code",
        "colab": {
          "base_uri": "https://localhost:8080/",
          "height": 745
        },
        "outputId": "9b2269d9-b5d2-4af7-9d39-d1ee5cd60500"
      },
      "source": [
        "epochs = 20\n",
        "\n",
        "# Fit the model to the data using the data generator\n",
        "ch_hist = chromatin_model.fit_generator(training_generator,\n",
        "                                        steps_per_epoch = n_train_obs // batch_size,\n",
        "                                        validation_data = validation_generator,\n",
        "                                        validation_steps = n_valid_obs // batch_size,\n",
        "                                        epochs = epochs)\n"
      ],
      "execution_count": 163,
      "outputs": [
        {
          "output_type": "stream",
          "text": [
            "Epoch 1/20\n",
            "276/276 [==============================] - 4s 15ms/step - loss: 0.0347 - precision: 0.0015 - precision_1: 0.0015 - recall: 8.5690e-04 - val_loss: 0.0390 - val_precision: 0.0000e+00 - val_precision_1: 0.0000e+00 - val_recall: 0.0000e+00\n",
            "Epoch 2/20\n",
            "276/276 [==============================] - 3s 12ms/step - loss: 0.0282 - precision: 0.0000e+00 - precision_1: 0.0000e+00 - recall: 0.0000e+00 - val_loss: 0.0434 - val_precision: 0.0000e+00 - val_precision_1: 0.0000e+00 - val_recall: 0.0000e+00\n",
            "Epoch 3/20\n",
            "276/276 [==============================] - 3s 12ms/step - loss: 0.0279 - precision: 0.0000e+00 - precision_1: 0.0000e+00 - recall: 0.0000e+00 - val_loss: 0.0388 - val_precision: 0.0000e+00 - val_precision_1: 0.0000e+00 - val_recall: 0.0000e+00\n",
            "Epoch 4/20\n",
            "276/276 [==============================] - 3s 12ms/step - loss: 0.0277 - precision: 0.0000e+00 - precision_1: 0.0000e+00 - recall: 0.0000e+00 - val_loss: 0.0376 - val_precision: 0.0000e+00 - val_precision_1: 0.0000e+00 - val_recall: 0.0000e+00\n",
            "Epoch 5/20\n",
            "276/276 [==============================] - 3s 12ms/step - loss: 0.0275 - precision: 0.0000e+00 - precision_1: 0.0000e+00 - recall: 0.0000e+00 - val_loss: 0.0384 - val_precision: 0.0000e+00 - val_precision_1: 0.0000e+00 - val_recall: 0.0000e+00\n",
            "Epoch 6/20\n",
            "276/276 [==============================] - 3s 12ms/step - loss: 0.0273 - precision: 0.0000e+00 - precision_1: 0.0000e+00 - recall: 0.0000e+00 - val_loss: 0.0363 - val_precision: 0.0000e+00 - val_precision_1: 0.0000e+00 - val_recall: 0.0000e+00\n",
            "Epoch 7/20\n",
            "276/276 [==============================] - 3s 12ms/step - loss: 0.0274 - precision: 0.0000e+00 - precision_1: 0.0000e+00 - recall: 0.0000e+00 - val_loss: 0.0398 - val_precision: 0.0000e+00 - val_precision_1: 0.0000e+00 - val_recall: 0.0000e+00\n",
            "Epoch 8/20\n",
            "276/276 [==============================] - 3s 12ms/step - loss: 0.0273 - precision: 0.0000e+00 - precision_1: 0.0000e+00 - recall: 0.0000e+00 - val_loss: 0.0453 - val_precision: 0.0000e+00 - val_precision_1: 0.0000e+00 - val_recall: 0.0000e+00\n",
            "Epoch 9/20\n",
            "276/276 [==============================] - 3s 13ms/step - loss: 0.0271 - precision: 0.0000e+00 - precision_1: 0.0000e+00 - recall: 0.0000e+00 - val_loss: 0.0450 - val_precision: 0.0000e+00 - val_precision_1: 0.0000e+00 - val_recall: 0.0000e+00\n",
            "Epoch 10/20\n",
            "276/276 [==============================] - 3s 12ms/step - loss: 0.0271 - precision: 0.0000e+00 - precision_1: 0.0000e+00 - recall: 0.0000e+00 - val_loss: 0.0468 - val_precision: 0.0000e+00 - val_precision_1: 0.0000e+00 - val_recall: 0.0000e+00\n",
            "Epoch 11/20\n",
            "276/276 [==============================] - 3s 12ms/step - loss: 0.0271 - precision: 0.0000e+00 - precision_1: 0.0000e+00 - recall: 0.0000e+00 - val_loss: 0.0634 - val_precision: 0.0000e+00 - val_precision_1: 0.0000e+00 - val_recall: 0.0000e+00\n",
            "Epoch 12/20\n",
            "276/276 [==============================] - 3s 12ms/step - loss: 0.0271 - precision: 0.0000e+00 - precision_1: 0.0000e+00 - recall: 0.0000e+00 - val_loss: 0.0593 - val_precision: 0.0000e+00 - val_precision_1: 0.0000e+00 - val_recall: 0.0000e+00\n",
            "Epoch 13/20\n",
            "276/276 [==============================] - 3s 12ms/step - loss: 0.0272 - precision: 0.0000e+00 - precision_1: 0.0000e+00 - recall: 0.0000e+00 - val_loss: 0.0575 - val_precision: 0.0000e+00 - val_precision_1: 0.0000e+00 - val_recall: 0.0000e+00\n",
            "Epoch 14/20\n",
            "276/276 [==============================] - 3s 12ms/step - loss: 0.0272 - precision: 0.0000e+00 - precision_1: 0.0000e+00 - recall: 0.0000e+00 - val_loss: 0.0567 - val_precision: 0.0000e+00 - val_precision_1: 0.0000e+00 - val_recall: 0.0000e+00\n",
            "Epoch 15/20\n",
            "276/276 [==============================] - 3s 12ms/step - loss: 0.0271 - precision: 0.0000e+00 - precision_1: 0.0000e+00 - recall: 0.0000e+00 - val_loss: 0.0566 - val_precision: 0.0000e+00 - val_precision_1: 0.0000e+00 - val_recall: 0.0000e+00\n",
            "Epoch 16/20\n",
            "276/276 [==============================] - 3s 13ms/step - loss: 0.0269 - precision: 0.0000e+00 - precision_1: 0.0000e+00 - recall: 0.0000e+00 - val_loss: 0.0447 - val_precision: 0.0000e+00 - val_precision_1: 0.0000e+00 - val_recall: 0.0000e+00\n",
            "Epoch 17/20\n",
            "276/276 [==============================] - 3s 13ms/step - loss: 0.0270 - precision: 0.0000e+00 - precision_1: 0.0000e+00 - recall: 0.0000e+00 - val_loss: 0.0462 - val_precision: 0.0000e+00 - val_precision_1: 0.0000e+00 - val_recall: 0.0000e+00\n",
            "Epoch 18/20\n",
            "276/276 [==============================] - 3s 13ms/step - loss: 0.0270 - precision: 0.0000e+00 - precision_1: 0.0000e+00 - recall: 0.0000e+00 - val_loss: 0.0415 - val_precision: 0.0000e+00 - val_precision_1: 0.0000e+00 - val_recall: 0.0000e+00\n",
            "Epoch 19/20\n",
            "276/276 [==============================] - 3s 12ms/step - loss: 0.0270 - precision: 0.0000e+00 - precision_1: 0.0000e+00 - recall: 0.0000e+00 - val_loss: 0.0392 - val_precision: 0.0000e+00 - val_precision_1: 0.0000e+00 - val_recall: 0.0000e+00\n",
            "Epoch 20/20\n",
            "276/276 [==============================] - 3s 12ms/step - loss: 0.0268 - precision: 0.0000e+00 - precision_1: 0.0000e+00 - recall: 0.0000e+00 - val_loss: 0.0408 - val_precision: 0.0000e+00 - val_precision_1: 0.0000e+00 - val_recall: 0.0000e+00\n"
          ],
          "name": "stdout"
        }
      ]
    },
    {
      "cell_type": "code",
      "metadata": {
        "id": "SMGaNfxUc2CP",
        "colab_type": "code",
        "colab": {}
      },
      "source": [
        "y_chmodel = chromatin_model.predict_generator(testing_generator, steps=(n_test_obs//batch_size) + 1)\n",
        "\n",
        "fpr, tpr, _ = roc_curve(y_test, y_chmodel)"
      ],
      "execution_count": 0,
      "outputs": []
    },
    {
      "cell_type": "code",
      "metadata": {
        "id": "TSppOkAAo7vD",
        "colab_type": "code",
        "colab": {
          "base_uri": "https://localhost:8080/",
          "height": 295
        },
        "outputId": "78e88169-aa72-44ac-aa6c-85a7f508ad90"
      },
      "source": [
        "plt.figure(1)\n",
        "plt.plot([0, 1], [0, 1], 'k--')\n",
        "plt.plot(fpr, tpr, label='Chrom Acc 1D CNN')\n",
        "plt.xlabel('False positive rate')\n",
        "plt.ylabel('True positive rate')\n",
        "plt.title('ROC curve (with chromatin accessibility)')\n",
        "plt.legend(loc='best')\n",
        "plt.show()"
      ],
      "execution_count": 165,
      "outputs": [
        {
          "output_type": "display_data",
          "data": {
            "image/png": "[encoded data removed]",
            "text/plain": [
              "<Figure size 432x288 with 1 Axes>"
            ]
          },
          "metadata": {
            "tags": []
          }
        }
      ]
    },
    {
      "cell_type": "code",
      "metadata": {
        "id": "cNxZ49rmp-3_",
        "colab_type": "code",
        "colab": {}
      },
      "source": [
        ""
      ],
      "execution_count": 0,
      "outputs": []
    }
  ]
}