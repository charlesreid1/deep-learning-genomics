{
  "nbformat": 4,
  "nbformat_minor": 0,
  "metadata": {
    "colab": {
      "name": "deepchem-ch6.ipynb",
      "version": "0.3.2",
      "provenance": [],
      "collapsed_sections": [
        "ojiEwxAcx0nb"
      ],
      "include_colab_link": true
    },
    "kernelspec": {
      "name": "python3",
      "display_name": "Python 3"
    },
    "accelerator": "GPU"
  },
  "cells": [
    {
      "cell_type": "markdown",
      "metadata": {
        "id": "view-in-github",
        "colab_type": "text"
      },
      "source": [
        "<a href=\"https://colab.research.google.com/github/charlesreid1/dib-deep-chem/blob/master/ch6/deepchem_ch6.ipynb\" target=\"_parent\"><img src=\"https://colab.research.google.com/assets/colab-badge.svg\" alt=\"Open In Colab\"/></a>"
      ]
    },
    {
      "cell_type": "markdown",
      "metadata": {
        "id": "ojiEwxAcx0nb",
        "colab_type": "text"
      },
      "source": [
        "# Notebook Setup\n",
        "\n",
        "Start by importing tensorflow and seeing if there is a GPU device available."
      ]
    },
    {
      "cell_type": "code",
      "metadata": {
        "id": "T_5jEDRfxz9X",
        "colab_type": "code",
        "colab": {}
      },
      "source": [
        "import tensorflow as tf\n",
        "#device_name = tf.test.gpu_device_name()\n",
        "#if device_name != '/device:GPU:0':\n",
        "#    raise SystemError('GPU device not found')"
      ],
      "execution_count": 0,
      "outputs": []
    },
    {
      "cell_type": "markdown",
      "metadata": {
        "id": "EcyKCVjlj8YW",
        "colab_type": "text"
      },
      "source": [
        "Install miniconda, then install prerequisites for deepchem:"
      ]
    },
    {
      "cell_type": "code",
      "metadata": {
        "id": "VYbD1-xCj-4M",
        "colab_type": "code",
        "outputId": "fcd159e1-a1a9-4f44-bd21-478ec4866313",
        "colab": {
          "base_uri": "https://localhost:8080/",
          "height": 0
        }
      },
      "source": [
        "%%bash\n",
        "if [ -f /usr/local/bin/conda ]; then\n",
        "  echo 'conda installed already!'\n",
        "else\n",
        "  echo 'conda not installed; going for it!'\n",
        "  curl -O -L https://repo.continuum.io/miniconda/Miniconda3-latest-Linux-x86_64.sh\n",
        "  bash Miniconda3-latest-Linux-x86_64.sh -b -f -p /usr/local\n",
        "fi\n",
        "\n",
        "# install important things\n",
        "conda install -y --prefix /usr/local -c conda-forge rdkit joblib simdna"
      ],
      "execution_count": 2,
      "outputs": [
        {
          "output_type": "stream",
          "text": [
            "conda installed already!\n",
            "Collecting package metadata: ...working... done\n",
            "Solving environment: ...working... done\n",
            "\n",
            "# All requested packages already installed.\n",
            "\n"
          ],
          "name": "stdout"
        }
      ]
    },
    {
      "cell_type": "markdown",
      "metadata": {
        "id": "c7jzZshUz40m",
        "colab_type": "text"
      },
      "source": [
        "Now set the `$PYTHONPATH` variable so that the notebook can access all the packages we installed above:"
      ]
    },
    {
      "cell_type": "code",
      "metadata": {
        "id": "0d-BQiLJxwdb",
        "colab_type": "code",
        "colab": {}
      },
      "source": [
        "import os\n",
        "os.environ['PYTHONPATH'] = os.environ['PYTHONPATH'] + ':/usr/local/lib/python3.6/site-packages:/usr/local/lib/python3.7/site-packages'"
      ],
      "execution_count": 0,
      "outputs": []
    },
    {
      "cell_type": "markdown",
      "metadata": {
        "id": "unpC067Rz9_c",
        "colab_type": "text"
      },
      "source": [
        "Install [PBR (python build reasonableness)](https://launchpad.net/pbr):"
      ]
    },
    {
      "cell_type": "code",
      "metadata": {
        "id": "K6qy6vnaxiB_",
        "colab_type": "code",
        "outputId": "92af3d6a-6fcd-42c7-e577-43cec9ac53da",
        "colab": {
          "base_uri": "https://localhost:8080/",
          "height": 0
        }
      },
      "source": [
        "!pip install pbr"
      ],
      "execution_count": 4,
      "outputs": [
        {
          "output_type": "stream",
          "text": [
            "Requirement already satisfied: pbr in /usr/local/lib/python3.7/site-packages (5.2.0)\n"
          ],
          "name": "stdout"
        }
      ]
    },
    {
      "cell_type": "markdown",
      "metadata": {
        "id": "H5bcMtWU0GvI",
        "colab_type": "text"
      },
      "source": [
        "Install deepchem from source:"
      ]
    },
    {
      "cell_type": "code",
      "metadata": {
        "id": "xpShjTJ8xtXI",
        "colab_type": "code",
        "outputId": "247bedca-8ea4-4a47-a420-b222c1ac3c3b",
        "colab": {
          "base_uri": "https://localhost:8080/",
          "height": 0
        }
      },
      "source": [
        "%%bash\n",
        "# now install deepchem from source\n",
        "\n",
        "if [ \\! -d deepchem-repo ]; then\n",
        "  git clone https://github.com/deepchem/deepchem.git deepchem-repo\n",
        "fi\n",
        "cd deepchem-repo && python setup.py install"
      ],
      "execution_count": 5,
      "outputs": [
        {
          "output_type": "stream",
          "text": [
            "running install\n",
            "[pbr] Writing ChangeLog\n",
            "[pbr] Generating ChangeLog\n",
            "[pbr] ChangeLog complete (0.1s)\n",
            "[pbr] Generating AUTHORS\n",
            "[pbr] AUTHORS complete (0.1s)\n",
            "running build\n",
            "running build_py\n",
            "running egg_info\n",
            "writing deepchem.egg-info/PKG-INFO\n",
            "writing dependency_links to deepchem.egg-info/dependency_links.txt\n",
            "writing top-level names to deepchem.egg-info/top_level.txt\n",
            "writing pbr to deepchem.egg-info/pbr.json\n",
            "[pbr] Processing SOURCES.txt\n",
            "[pbr] In git context, generating filelist from git\n",
            "reading manifest template 'MANIFEST.in'\n",
            "writing manifest file 'deepchem.egg-info/SOURCES.txt'\n",
            "running install_lib\n",
            "running install_egg_info\n",
            "removing '/usr/local/lib/python3.7/site-packages/deepchem-2.2.1.dev49-py3.7.egg-info' (and everything under it)\n",
            "Copying deepchem.egg-info to /usr/local/lib/python3.7/site-packages/deepchem-2.2.1.dev49-py3.7.egg-info\n",
            "running install_scripts\n"
          ],
          "name": "stdout"
        },
        {
          "output_type": "stream",
          "text": [
            "warning: no previously-included files found matching '.gitreview'\n",
            "warning: no previously-included files matching '*.pyc' found anywhere in distribution\n",
            "/usr/local/lib/python3.7/site-packages/pbr/packaging.py:410: EasyInstallDeprecationWarning: Use get_header\n",
            "  header = easy_install.get_script_header(\"\", executable, is_wininst)\n"
          ],
          "name": "stderr"
        }
      ]
    },
    {
      "cell_type": "markdown",
      "metadata": {
        "id": "Ox5z05eC0L_W",
        "colab_type": "text"
      },
      "source": [
        "Add the site packages location to the system path:"
      ]
    },
    {
      "cell_type": "code",
      "metadata": {
        "id": "12pAz7__ygCa",
        "colab_type": "code",
        "colab": {}
      },
      "source": [
        "import sys\n",
        "sys.path.append('/usr/local/lib/python3.7/site-packages')\n",
        "sys.path.append('/usr/local/lib/python3.6/site-packages')"
      ],
      "execution_count": 0,
      "outputs": []
    },
    {
      "cell_type": "markdown",
      "metadata": {
        "id": "X_ZmE1pq0Rdf",
        "colab_type": "text"
      },
      "source": [
        "# Transcription Factor Example\n"
      ]
    },
    {
      "cell_type": "markdown",
      "metadata": {
        "id": "BtASXPfod9BK",
        "colab_type": "text"
      },
      "source": [
        "\n",
        "## Overview\n",
        "\n",
        "This example will use a data set about a transcription factor called JUND. The data set used in this example comes from the human chromosome 22 (the smallest human chromosome). It is 50 Mbp.\n",
        "\n",
        "The chromosome is broken into short segments of 101 base pairs.\n",
        "\n",
        "One hot encoding is used to represent the sequences (i.e., each base pair is turned into a vector of 0s and 1s)."
      ]
    },
    {
      "cell_type": "code",
      "metadata": {
        "id": "jXfwn_SgkVVs",
        "colab_type": "code",
        "colab": {
          "base_uri": "https://localhost:8080/",
          "height": 35
        },
        "outputId": "1c6ece3c-9bb3-4187-c3f3-7ce70def4885"
      },
      "source": [
        "!git clone https://github.com/deepchem/DeepLearningLifeSciences.git"
      ],
      "execution_count": 7,
      "outputs": [
        {
          "output_type": "stream",
          "text": [
            "fatal: destination path 'DeepLearningLifeSciences' already exists and is not an empty directory.\n"
          ],
          "name": "stdout"
        }
      ]
    },
    {
      "cell_type": "code",
      "metadata": {
        "id": "4RVPiF3TkYw7",
        "colab_type": "code",
        "colab": {}
      },
      "source": [
        "!ln -fs DeepLearningLifeSciences/Chapter06/{test*,train*,valid*} ."
      ],
      "execution_count": 0,
      "outputs": []
    },
    {
      "cell_type": "markdown",
      "metadata": {
        "id": "lhKIRcW2kSp-",
        "colab_type": "text"
      },
      "source": [
        "## Neural Network Architecture\n",
        "\n",
        "Beacuse we are dealing with a 1D sequence of data, we use a convolutional neural network that performs the convolution in 1 dimension (rather than 2 dimensions usually used with image data)."
      ]
    },
    {
      "cell_type": "markdown",
      "metadata": {
        "id": "94eV7omOeD3K",
        "colab_type": "text"
      },
      "source": [
        "Import necessary modules to build our neural network model:"
      ]
    },
    {
      "cell_type": "code",
      "metadata": {
        "id": "9UsUFkONyq9F",
        "colab_type": "code",
        "colab": {}
      },
      "source": [
        "import deepchem as dc\n",
        "import tensorflow as tf\n",
        "import numpy as np\n",
        "import deepchem.models.tensorgraph.layers as layers"
      ],
      "execution_count": 0,
      "outputs": []
    },
    {
      "cell_type": "markdown",
      "metadata": {
        "id": "3u-DUVny1Nxr",
        "colab_type": "text"
      },
      "source": [
        "Now we create the ingredients required by our model.\n",
        "\n",
        "The model is a TensorGraph model. We assemble the model layer by layer.\n",
        "\n",
        "The model must have labels (names for columns of data) and weights (for the input data)."
      ]
    },
    {
      "cell_type": "code",
      "metadata": {
        "id": "u6pzAAjmkH0l",
        "colab_type": "code",
        "colab": {}
      },
      "source": [
        "# Create model:\n",
        "model = dc.models.TensorGraph(batch_size=1000)\n",
        "features = layers.Feature(shape=(None, 101, 4))\n",
        "labels = layers.Label(shape=(None, 1))\n",
        "weights = layers.Weights(shape=(None, 1))"
      ],
      "execution_count": 0,
      "outputs": []
    },
    {
      "cell_type": "markdown",
      "metadata": {
        "id": "6ZHPLEFu1fGF",
        "colab_type": "text"
      },
      "source": [
        "Convolution neural networks usually follow a scheme that includes the following layers in order:\n",
        "\n",
        "The following neural network layer combo composes a single convolution layer:\n",
        "\n",
        "* Convolution (multiple convolution layers to deal with different portions of the data, e.g., 2 convolution layers each handing half the image)\n",
        "* Pool (combine convolutions)\n",
        "* Dropout (filter information - optional)\n",
        "\n",
        "These layers are repeated one or more times. Once the convolution layers have been implemented, the following layers are added to the end to convert the neural network's output into a usable classification/prediction:\n",
        "\n",
        "* Flatten (change dimensionality)\n",
        "* Dense\n",
        "* Dropout (filter information - optional)\n",
        "* Dense"
      ]
    },
    {
      "cell_type": "code",
      "metadata": {
        "id": "TVRRBzJwk8Mf",
        "colab_type": "code",
        "colab": {}
      },
      "source": [
        "# Set model architecture:\n",
        "\n",
        "# Three convolutional layers with identical parameters\n",
        "prev = features\n",
        "convolution_window = 10\n",
        "for i in range(3):\n",
        "    prev = layers.Conv1D(filters=15, \n",
        "                         kernel_size=convolution_window,\n",
        "                         activation=tf.nn.relu, \n",
        "                         padding='same',\n",
        "                         in_layers=prev)\n",
        "    prev = layers.Dropout(dropout_prob=0.5, in_layers=prev)"
      ],
      "execution_count": 0,
      "outputs": []
    },
    {
      "cell_type": "code",
      "metadata": {
        "id": "ttP7Y2IElqHD",
        "colab_type": "code",
        "colab": {}
      },
      "source": [
        "# Create a Flatten-Dense layer combination to compute output\n",
        "flat = layers.Flatten(prev)\n",
        "logits = layers.Dense(out_channels=1, in_layers=flat)\n",
        "\n",
        "# Final prediction\n",
        "output = layers.Sigmoid(logits)\n",
        "model.add_output(output)\n",
        "\n",
        "# Compute cross entropy for each sample and multiply by weights to get loss\n",
        "loss = layers.SigmoidCrossEntropy(in_layers=[labels, logits])\n",
        "weighted_loss = layers.WeightedError(in_layers=[loss, weights])\n",
        "model.set_loss(weighted_loss)"
      ],
      "execution_count": 0,
      "outputs": []
    },
    {
      "cell_type": "code",
      "metadata": {
        "id": "ZRrO0EFu7dG2",
        "colab_type": "code",
        "outputId": "c1be5d0c-401f-4b0c-ece6-06bc5d426611",
        "colab": {
          "base_uri": "https://localhost:8080/",
          "height": 70
        }
      },
      "source": [
        "train = dc.data.DiskDataset('train_dataset')\n",
        "valid = dc.data.DiskDataset('valid_dataset')\n",
        "test = dc.data.DiskDataset('test_dataset')"
      ],
      "execution_count": 25,
      "outputs": [
        {
          "output_type": "stream",
          "text": [
            "Loading dataset from disk.\n",
            "Loading dataset from disk.\n",
            "Loading dataset from disk.\n"
          ],
          "name": "stdout"
        }
      ]
    },
    {
      "cell_type": "code",
      "metadata": {
        "id": "z-6SG66teVnv",
        "colab_type": "code",
        "colab": {}
      },
      "source": [
        "metric = dc.metrics.Metric(dc.metrics.roc_auc_score)"
      ],
      "execution_count": 0,
      "outputs": []
    },
    {
      "cell_type": "code",
      "metadata": {
        "id": "MInGG36FebNR",
        "colab_type": "code",
        "colab": {
          "base_uri": "https://localhost:8080/",
          "height": 70
        },
        "outputId": "b0912bda-7696-4462-e6bd-dce745329e88"
      },
      "source": [
        "print(type(train))\n",
        "print(len(train.y))\n",
        "print(len(valid.y))"
      ],
      "execution_count": 27,
      "outputs": [
        {
          "output_type": "stream",
          "text": [
            "<class 'deepchem.data.datasets.DiskDataset'>\n",
            "276216\n",
            "34527\n"
          ],
          "name": "stdout"
        }
      ]
    },
    {
      "cell_type": "code",
      "metadata": {
        "id": "DdNueaNgfU6v",
        "colab_type": "code",
        "colab": {
          "base_uri": "https://localhost:8080/",
          "height": 70
        },
        "outputId": "feed60f0-b1cd-4e8e-cac7-5878c6393ff2"
      },
      "source": [
        "!ls"
      ],
      "execution_count": 28,
      "outputs": [
        {
          "output_type": "stream",
          "text": [
            "deepchem-repo\t\t\t   sample_data\t  train_siRNA\n",
            "DeepLearningLifeSciences\t   test_dataset   valid_dataset\n",
            "Miniconda3-latest-Linux-x86_64.sh  train_dataset  valid_siRNA\n"
          ],
          "name": "stdout"
        }
      ]
    },
    {
      "cell_type": "code",
      "metadata": {
        "id": "lC6X36lbnx8N",
        "colab_type": "code",
        "colab": {
          "base_uri": "https://localhost:8080/",
          "height": 88
        },
        "outputId": "07136513-da3a-461a-d8c8-c8aa6c145093"
      },
      "source": [
        "hist = model.fit(train, nb_epoch=1)\n",
        "print('training score:', model.evaluate(train, [metric]))\n",
        "print('validation score:', model.evaluate(valid, [metric]))"
      ],
      "execution_count": 29,
      "outputs": [
        {
          "output_type": "stream",
          "text": [
            "computed_metrics: [0.5541460752006225]\n",
            "training score: {'roc_auc_score': 0.5541460752006225}\n",
            "computed_metrics: [0.463741920214773]\n",
            "validation score: {'roc_auc_score': 0.463741920214773}\n"
          ],
          "name": "stdout"
        }
      ]
    },
    {
      "cell_type": "code",
      "metadata": {
        "id": "epp_gIkWp3OH",
        "colab_type": "code",
        "colab": {}
      },
      "source": [
        "from sklearn.metrics import roc_curve\n",
        "\n",
        "y_model = model.predict(test).ravel()\n",
        "fpr, tpr, _ = roc_curve(test.y, y_model)"
      ],
      "execution_count": 0,
      "outputs": []
    },
    {
      "cell_type": "code",
      "metadata": {
        "id": "pnVUsJGGv34p",
        "colab_type": "code",
        "colab": {
          "base_uri": "https://localhost:8080/",
          "height": 313
        },
        "outputId": "1dff11d1-49c0-4093-811e-041fde9adb9e"
      },
      "source": [
        "import matplotlib.pyplot as plt\n",
        "\n",
        "plt.plot(fpr, tpr)\n",
        "plt.xlabel('False positive rate')\n",
        "plt.ylabel('True positive rate')\n",
        "plt.plot([0, 1], [0, 1], 'k--')\n",
        "plt.plot(fpr, tpr)\n",
        "plt.title('ROC curve')\n",
        "plt.legend(loc='best')\n",
        "plt.show()"
      ],
      "execution_count": 34,
      "outputs": [
        {
          "output_type": "stream",
          "text": [
            "WARNING:matplotlib.legend:No handles with labels found to put in legend.\n"
          ],
          "name": "stderr"
        },
        {
          "output_type": "display_data",
          "data": {
            "image/png": "[encoded data removed]",
            "text/plain": [
              "<Figure size 432x288 with 1 Axes>"
            ]
          },
          "metadata": {
            "tags": []
          }
        }
      ]
    },
    {
      "cell_type": "code",
      "metadata": {
        "id": "Zrn1VZ535vDj",
        "colab_type": "code",
        "colab": {
          "base_uri": "https://localhost:8080/",
          "height": 1205
        },
        "outputId": "e4176b01-596a-4210-ba0e-817982d3e2e8"
      },
      "source": [
        "train_scores = []\n",
        "valid_scores = []\n",
        "\n",
        "for i in range(20):\n",
        "    print('----- starting round {}'.format(i))\n",
        "    model.fit(train, nb_epoch=10)\n",
        "    train_scores.append(model.evaluate(train, [metric]))\n",
        "    valid_scores.append(model.evaluate(valid, [metric]))"
      ],
      "execution_count": 35,
      "outputs": [
        {
          "output_type": "stream",
          "text": [
            "----- starting round 0\n",
            "WARNING:tensorflow:From /usr/local/lib/python3.6/dist-packages/tensorflow/python/training/checkpoint_management.py:624: remove_checkpoint (from tensorflow.python.training.checkpoint_management) is deprecated and will be removed in a future version.\n",
            "Instructions for updating:\n",
            "Use standard file APIs to delete files with this prefix.\n"
          ],
          "name": "stdout"
        },
        {
          "output_type": "stream",
          "text": [
            "WARNING:tensorflow:From /usr/local/lib/python3.6/dist-packages/tensorflow/python/training/checkpoint_management.py:624: remove_checkpoint (from tensorflow.python.training.checkpoint_management) is deprecated and will be removed in a future version.\n",
            "Instructions for updating:\n",
            "Use standard file APIs to delete files with this prefix.\n"
          ],
          "name": "stderr"
        },
        {
          "output_type": "stream",
          "text": [
            "computed_metrics: [0.6531760735884506]\n",
            "computed_metrics: [0.6111550940249333]\n",
            "----- starting round 1\n",
            "computed_metrics: [0.7597026868884256]\n",
            "computed_metrics: [0.7166737123443061]\n",
            "----- starting round 2\n",
            "computed_metrics: [0.7732909813649462]\n",
            "computed_metrics: [0.7313271944961636]\n",
            "----- starting round 3\n",
            "computed_metrics: [0.8028732867747517]\n",
            "computed_metrics: [0.7196699515063472]\n",
            "----- starting round 4\n",
            "computed_metrics: [0.8283036705573283]\n",
            "computed_metrics: [0.7169917639282289]\n",
            "----- starting round 5\n",
            "computed_metrics: [0.8272571642414196]\n",
            "computed_metrics: [0.7307365130390192]\n",
            "----- starting round 6\n",
            "computed_metrics: [0.8420842368908561]\n",
            "computed_metrics: [0.7115405609900021]\n",
            "----- starting round 7\n",
            "computed_metrics: [0.8462875256418507]\n",
            "computed_metrics: [0.7144985502904001]\n",
            "----- starting round 8\n",
            "computed_metrics: [0.8556650513529295]\n",
            "computed_metrics: [0.7152763970861573]\n",
            "----- starting round 9\n",
            "computed_metrics: [0.8624239198796881]\n",
            "computed_metrics: [0.7142137681173856]\n",
            "----- starting round 10\n",
            "computed_metrics: [0.8501448940742797]\n",
            "computed_metrics: [0.7306041326584889]\n",
            "----- starting round 11\n",
            "computed_metrics: [0.8675560191137746]\n",
            "computed_metrics: [0.7189406143007466]\n",
            "----- starting round 12\n",
            "computed_metrics: [0.8622236933090235]\n",
            "computed_metrics: [0.7225422770541072]\n",
            "----- starting round 13\n",
            "computed_metrics: [0.8664503403739642]\n",
            "computed_metrics: [0.7227840281327732]\n",
            "----- starting round 14\n",
            "computed_metrics: [0.8773722680609074]\n",
            "computed_metrics: [0.7262541073777209]\n",
            "----- starting round 15\n",
            "computed_metrics: [0.8677023494255349]\n",
            "computed_metrics: [0.7284356444085675]\n",
            "----- starting round 16\n",
            "computed_metrics: [0.861215251644246]\n",
            "computed_metrics: [0.7385155786506802]\n",
            "----- starting round 17\n",
            "computed_metrics: [0.8698685295478189]\n",
            "computed_metrics: [0.7384560124598925]\n",
            "----- starting round 18\n",
            "computed_metrics: [0.8782535199086545]\n",
            "computed_metrics: [0.7236562046654472]\n",
            "----- starting round 19\n",
            "computed_metrics: [0.8652254389819083]\n",
            "computed_metrics: [0.7416778660402189]\n"
          ],
          "name": "stdout"
        }
      ]
    },
    {
      "cell_type": "code",
      "metadata": {
        "id": "DhBdDeo_86Qd",
        "colab_type": "code",
        "colab": {}
      },
      "source": [
        "import matplotlib.pyplot as plt"
      ],
      "execution_count": 0,
      "outputs": []
    },
    {
      "cell_type": "code",
      "metadata": {
        "id": "QxElWaUQuWO2",
        "colab_type": "code",
        "colab": {}
      },
      "source": [
        "print(train_scores)"
      ],
      "execution_count": 0,
      "outputs": []
    },
    {
      "cell_type": "code",
      "metadata": {
        "id": "tY5LD3zFt-oa",
        "colab_type": "code",
        "colab": {}
      },
      "source": [
        "train_scores_v = [d['roc_auc_score'] for d in train_scores]\n",
        "valid_scores_v = [d['roc_auc_score'] for d in valid_scores]\n",
        "\n",
        "plt.plot(train_scores_v, range(0,201), label='training')\n",
        "plt.plot(valid_scores_v, range(0,201), label='validation')\n",
        "plt.title('ROC AUC Curve', size=14)\n",
        "plt.xlabel('Training Round')\n",
        "plt.ylabel('ROC AUC')\n",
        "plt.xlim([0,200])\n",
        "plt.legend()\n",
        "plt.grid()"
      ],
      "execution_count": 0,
      "outputs": []
    },
    {
      "cell_type": "markdown",
      "metadata": {
        "id": "ivhP2fYhAbO0",
        "colab_type": "text"
      },
      "source": [
        "## Interpretation\n",
        "\n",
        "Following the book's example, we trained the 1D convolution model with 10 epochs, 20 times. So the model has seen the data 200 times.\n",
        "\n",
        "The metric we defined to assess the model was ROC AUC, short for area under the curve (AUC) for the receiver operating characteristic (ROC) curve. This is formed by plotting y (true positive rate) versus x (false positive rate). The more area under the curve, the better the model is at making correct predictions (true positive) versus incorrect predictions (false positives).\n",
        "\n",
        "More information about the `roc_auc_score` metric can be found in the scikit-learn documentation: <https://scikit-learn.org/stable/modules/generated/sklearn.metrics.roc_auc_score.html>\n",
        "\n",
        "With this in mind, we can see that the model is overfitting the data after two or three training rounds, as the training performance gets better and better while the validation performance levels off at around 70%."
      ]
    },
    {
      "cell_type": "markdown",
      "metadata": {
        "id": "ybgqbIRSAHHi",
        "colab_type": "text"
      },
      "source": [
        "# Adding Chromatin Accessibility Data\n",
        "\n",
        "Following Chapter 6, we provide the model with additional data about chromatin accessibility."
      ]
    },
    {
      "cell_type": "code",
      "metadata": {
        "id": "reBtz3OmAFuL",
        "colab_type": "code",
        "colab": {}
      },
      "source": [
        ""
      ],
      "execution_count": 0,
      "outputs": []
    }
  ]
}